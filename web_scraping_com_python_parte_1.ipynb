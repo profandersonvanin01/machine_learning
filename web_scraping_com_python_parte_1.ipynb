{
  "metadata": {
    "kernelspec": {
      "language": "python",
      "display_name": "Python 3",
      "name": "python3"
    },
    "language_info": {
      "pygments_lexer": "ipython3",
      "nbconvert_exporter": "python",
      "version": "3.6.4",
      "file_extension": ".py",
      "codemirror_mode": {
        "name": "ipython",
        "version": 3
      },
      "name": "python",
      "mimetype": "text/x-python"
    },
    "colab": {
      "name": "web_scraping_com_python_parte_1.ipynb",
      "provenance": [],
      "collapsed_sections": [
        "ZKNlxtFlwIS9",
        "qBsXgBZFwIS9"
      ],
      "include_colab_link": true
    }
  },
  "nbformat_minor": 0,
  "nbformat": 4,
  "cells": [
    {
      "cell_type": "markdown",
      "metadata": {
        "id": "view-in-github",
        "colab_type": "text"
      },
      "source": [
        "<a href=\"https://colab.research.google.com/github/profandersonvanin01/machine_learning/blob/main/web_scraping_com_python_parte_1.ipynb\" target=\"_parent\"><img src=\"https://colab.research.google.com/assets/colab-badge.svg\" alt=\"Open In Colab\"/></a>"
      ]
    },
    {
      "cell_type": "markdown",
      "source": [
        "# Web Scraping com Python (Parte 1)\n",
        "\n",
        "## Resumo\n",
        "\n",
        "Neste notebook, iremos conhecer o [Beautiful Soup](https://www.crummy.com/software/BeautifulSoup/bs4/doc/) e faremos alguns exemplos com HTML para entendemos o funcionamento desta biblioteca.\n",
        "\n",
        "## Site Publicado em:\n",
        "\n",
        "https://profcintiapinho.github.io/siteparascraping/\n",
        "\n",
        "Fonte do Notebook - Samsung Ocean - https://www.oceanbrasil.com/\n",
        "\n"
      ],
      "metadata": {
        "id": "c9gO4iu3wISy"
      }
    },
    {
      "cell_type": "markdown",
      "source": [
        "## 1) Explorando o HTML\n",
        "\n",
        "Para os exemplos a seguir, iremos utilizar o código HTML abaixo."
      ],
      "metadata": {
        "id": "J96vxpHpwIS1"
      }
    },
    {
      "cell_type": "markdown",
      "source": [
        "<html>\n",
        "    <head>\n",
        "        <title>Indicados e vencedores do Oscar em 2020</title>\n",
        "    </head>\n",
        "    <body>\n",
        "        <h1>Oscar 2020</h1>\n",
        "        <p>A maior premiação do cinema aconteceu em Fevereiro. Os destaques deste ano foram:</p>\n",
        "        <ul class=\"destaques\">\n",
        "            <li>Coringa</li>\n",
        "            <li>1917</li>\n",
        "            <li>Era Uma Vez em Hollywood</li>\n",
        "            <li>O Irlandês</li>\n",
        "        </ul>\n",
        "        <p>Veja abaixo os vencedores de 3 categorias.</p>\n",
        "        <div>\n",
        "            <div class=\"categoria-melhor-filme\">\n",
        "                <h2>Categoria: melhor filme</h2>\n",
        "                <ul>\n",
        "                    <li>Ford vs Ferrari</li>\n",
        "                    <li>O Irlandês</li>\n",
        "                    <li>JoJo Rabbit</li>\n",
        "                    <li>Coringa</li>\n",
        "                    <li>Adoráveis Mulheres</li>\n",
        "                    <li>História de um Casamento</li>\n",
        "                    <li>1917</li>\n",
        "                    <li>Era Uma Vez Em Hollywood</li>\n",
        "                    <li class=\"vencedor\">Parasita <strong>[VENCEDOR]</strong></li>\n",
        "                </ul>\n",
        "            </div>\n",
        "            <br>\n",
        "            <div class=\"categoria-melhor-ator\">\n",
        "                <h2>Categoria: melhor ator</h2>\n",
        "                <ul>\n",
        "                    <li>Antonio Banderas - Dor e Glória</li>\n",
        "                    <li>Leonardo DiCaprio - Era Uma Vez Em... Hollywood</li>\n",
        "                    <li>Adam Driver - História de um Casamento</li>\n",
        "                    <li class=\"vencedor\">Joaquin Phoenix - Coringa <strong>[VENCEDOR]</strong></li>\n",
        "                    <li>Jonathan Price - Dois Papas</li>\n",
        "                </ul>\n",
        "            </div>\n",
        "            <br>\n",
        "            <div class=\"categoria-melhor-atriz\">\n",
        "                <h2>Categoria: melhor atriz</h2>\n",
        "                <ul>\n",
        "                    <li>Cythia Erivo - Harriet</li>\n",
        "                    <li>Scarlett Johansson - História de um Casamento</li>\n",
        "                    <li>Saoirse Ronan - Adoráveis Mulheres</li>\n",
        "                    <li>Charlize Theron - O Escândalo</li>\n",
        "                    <li class=\"vencedor\">Renée Zellweger - Judy: Muito Além do Arco-Íris <strong>[VENCEDOR]</strong></li>\n",
        "                </ul>\n",
        "            </div>\n",
        "        </div>\n",
        "    </body>\n",
        "</html>"
      ],
      "metadata": {
        "id": "m_xOUQHDwIS2"
      }
    },
    {
      "cell_type": "code",
      "source": [
        "#esse é o mesmo conteúdo do site em https://profcintiapinho.github.io/siteparascraping/\n",
        "#Você pode simplesmente copiar o código e colocar dentro de uma variável, ou extrair como vamos fazer no próximo passo\n",
        "html = \"\"\"\n",
        "<html>\n",
        "    <head>\n",
        "        <title>Indicados e vencedores do Oscar em 2020</title>\n",
        "    </head>\n",
        "    <body>\n",
        "        <h1>Oscar 2020</h1>\n",
        "        <p>A maior premiação do cinema aconteceu em Fevereiro. Os destaques deste ano foram:</p>\n",
        "        <ul class=\"destaques\">\n",
        "            <li>Coringa</li>\n",
        "            <li>1917</li>\n",
        "            <li>Era Uma Vez em Hollywood</li>\n",
        "            <li>O Irlandês</li>\n",
        "        </ul>\n",
        "        <p>Veja abaixo os vencedores de 3 categorias.</p>\n",
        "        <div>\n",
        "            <div class=\"categoria-melhor-filme\">\n",
        "                <h2>Categoria: melhor filme</h2>\n",
        "                <ul>\n",
        "                    <li>Ford vs Ferrari</li>\n",
        "                    <li>O Irlandês</li>\n",
        "                    <li>JoJo Rabbit</li>\n",
        "                    <li>Coringa</li>\n",
        "                    <li>Adoráveis Mulheres</li>\n",
        "                    <li>História de um Casamento</li>\n",
        "                    <li>1917</li>\n",
        "                    <li>Era Uma Vez Em Hollywood</li>\n",
        "                    <li class=\"vencedor\">Parasita <strong>[VENCEDOR]</strong></li>\n",
        "                </ul>\n",
        "            </div>\n",
        "            <br>\n",
        "            <div class=\"categoria-melhor-ator\">\n",
        "                <h2>Categoria: melhor ator</h2>\n",
        "                <ul>\n",
        "                    <li>Antonio Banderas - Dor e Glória</li>\n",
        "                    <li>Leonardo DiCaprio - Era Uma Vez Em... Hollywood</li>\n",
        "                    <li>Adam Driver - História de um Casamento</li>\n",
        "                    <li class=\"vencedor\">Joaquin Phoenix - Coringa <strong>[VENCEDOR]</strong></li>\n",
        "                    <li>Jonathan Price - Dois Papas</li>\n",
        "                </ul>\n",
        "            </div>\n",
        "            <br>\n",
        "            <div class=\"categoria-melhor-atriz\">\n",
        "                <h2>Categoria: melhor atriz</h2>\n",
        "                <ul>\n",
        "                    <li>Cythia Erivo - Harriet</li>\n",
        "                    <li>Scarlett Johansson - História de um Casamento</li>\n",
        "                    <li>Saoirse Ronan - Adoráveis Mulheres</li>\n",
        "                    <li>Charlize Theron - O Escândalo</li>\n",
        "                    <li class=\"vencedor\">Renée Zellweger - Judy: Muito Além do Arco-Íris <strong>[VENCEDOR]</strong></li>\n",
        "                </ul>\n",
        "            </div>\n",
        "        </div>\n",
        "    </body>\n",
        "</html>\n",
        "\"\"\""
      ],
      "metadata": {
        "execution": {
          "iopub.status.busy": "2021-05-19T22:04:37.732986Z",
          "iopub.execute_input": "2021-05-19T22:04:37.733368Z",
          "iopub.status.idle": "2021-05-19T22:04:37.739544Z",
          "shell.execute_reply.started": "2021-05-19T22:04:37.733337Z",
          "shell.execute_reply": "2021-05-19T22:04:37.738164Z"
        },
        "trusted": true,
        "id": "MKCc10hXwIS3"
      },
      "execution_count": null,
      "outputs": []
    },
    {
      "cell_type": "markdown",
      "source": [
        "## 2) Criando um objeto Beautiful Soup"
      ],
      "metadata": {
        "id": "UDdU2immwIS5"
      }
    },
    {
      "cell_type": "code",
      "source": [
        "from bs4 import BeautifulSoup\n",
        "from urllib.request import urlopen"
      ],
      "metadata": {
        "_uuid": "d629ff2d2480ee46fbb7e2d37f6b5fab8052498a",
        "_cell_guid": "79c7e3d0-c299-4dcb-8224-4455121ee9b0",
        "execution": {
          "iopub.status.busy": "2021-05-19T22:04:37.741455Z",
          "iopub.execute_input": "2021-05-19T22:04:37.741785Z",
          "iopub.status.idle": "2021-05-19T22:04:38.038811Z",
          "shell.execute_reply.started": "2021-05-19T22:04:37.741753Z",
          "shell.execute_reply": "2021-05-19T22:04:38.037843Z"
        },
        "trusted": true,
        "id": "o2-LJrUOwIS5"
      },
      "execution_count": null,
      "outputs": []
    },
    {
      "cell_type": "code",
      "source": [
        "url = 'https://profcintiapinho.github.io/siteparascraping/'\n",
        "conteudo1 = urlopen(url)\n",
        "conteudo = conteudo1.read()\n",
        "conteudo"
      ],
      "metadata": {
        "id": "aJntWq8h1s1k"
      },
      "execution_count": null,
      "outputs": []
    },
    {
      "cell_type": "code",
      "source": [
        "#o parse ajuda na hierarquia\n",
        "soup = BeautifulSoup(conteudo, 'html.parser')\n",
        "soup"
      ],
      "metadata": {
        "execution": {
          "iopub.status.busy": "2021-05-19T22:04:38.040546Z",
          "iopub.execute_input": "2021-05-19T22:04:38.040976Z",
          "iopub.status.idle": "2021-05-19T22:04:38.04796Z",
          "shell.execute_reply.started": "2021-05-19T22:04:38.040932Z",
          "shell.execute_reply": "2021-05-19T22:04:38.046795Z"
        },
        "trusted": true,
        "id": "cGfT8yKHwIS5"
      },
      "execution_count": null,
      "outputs": []
    },
    {
      "cell_type": "code",
      "source": [
        "type(soup)"
      ],
      "metadata": {
        "execution": {
          "iopub.status.busy": "2021-05-19T22:04:38.050114Z",
          "iopub.execute_input": "2021-05-19T22:04:38.050447Z",
          "iopub.status.idle": "2021-05-19T22:04:38.068587Z",
          "shell.execute_reply.started": "2021-05-19T22:04:38.050417Z",
          "shell.execute_reply": "2021-05-19T22:04:38.06716Z"
        },
        "trusted": true,
        "id": "XUKMCfOpwIS6"
      },
      "execution_count": null,
      "outputs": []
    },
    {
      "cell_type": "code",
      "source": [
        "soup"
      ],
      "metadata": {
        "execution": {
          "iopub.status.busy": "2021-05-19T22:04:38.070404Z",
          "iopub.execute_input": "2021-05-19T22:04:38.071036Z",
          "iopub.status.idle": "2021-05-19T22:04:38.094811Z",
          "shell.execute_reply.started": "2021-05-19T22:04:38.070949Z",
          "shell.execute_reply": "2021-05-19T22:04:38.093501Z"
        },
        "trusted": true,
        "id": "cufTbW4HwIS6"
      },
      "execution_count": null,
      "outputs": []
    },
    {
      "cell_type": "code",
      "source": [
        "#o algoritmo entende a hierarquia\n",
        "print(soup.prettify())"
      ],
      "metadata": {
        "execution": {
          "iopub.status.busy": "2021-05-19T22:04:38.096171Z",
          "iopub.execute_input": "2021-05-19T22:04:38.09652Z",
          "iopub.status.idle": "2021-05-19T22:04:38.110886Z",
          "shell.execute_reply.started": "2021-05-19T22:04:38.096489Z",
          "shell.execute_reply": "2021-05-19T22:04:38.109919Z"
        },
        "trusted": true,
        "id": "CCg5TrNjwIS7"
      },
      "execution_count": null,
      "outputs": []
    },
    {
      "cell_type": "markdown",
      "source": [
        "## 3) Aprendendo a extrair dados de tags no HTML"
      ],
      "metadata": {
        "id": "SNssCrq7wIS7"
      }
    },
    {
      "cell_type": "markdown",
      "source": [
        "### 3.1) Começando pelo começo: como extrair o título da página?"
      ],
      "metadata": {
        "id": "GSC0WRzewIS7"
      }
    },
    {
      "cell_type": "code",
      "source": [
        "#pega o title filho de head e html\n",
        "soup.html.head.title"
      ],
      "metadata": {
        "execution": {
          "iopub.status.busy": "2021-05-19T22:04:38.112168Z",
          "iopub.execute_input": "2021-05-19T22:04:38.112484Z",
          "iopub.status.idle": "2021-05-19T22:04:38.125705Z",
          "shell.execute_reply.started": "2021-05-19T22:04:38.112453Z",
          "shell.execute_reply": "2021-05-19T22:04:38.124219Z"
        },
        "trusted": true,
        "id": "zx6jUz4kwIS7"
      },
      "execution_count": null,
      "outputs": []
    },
    {
      "cell_type": "code",
      "source": [
        "soup.title"
      ],
      "metadata": {
        "execution": {
          "iopub.status.busy": "2021-05-19T22:04:38.127096Z",
          "iopub.execute_input": "2021-05-19T22:04:38.127467Z",
          "iopub.status.idle": "2021-05-19T22:04:38.138765Z",
          "shell.execute_reply.started": "2021-05-19T22:04:38.12743Z",
          "shell.execute_reply": "2021-05-19T22:04:38.137581Z"
        },
        "trusted": true,
        "id": "VqaifGMawIS8"
      },
      "execution_count": null,
      "outputs": []
    },
    {
      "cell_type": "code",
      "source": [
        "#só para pegar o texto\n",
        "soup.title.get_text()"
      ],
      "metadata": {
        "execution": {
          "iopub.status.busy": "2021-05-19T22:04:38.139991Z",
          "iopub.execute_input": "2021-05-19T22:04:38.140405Z",
          "iopub.status.idle": "2021-05-19T22:04:38.153011Z",
          "shell.execute_reply.started": "2021-05-19T22:04:38.14037Z",
          "shell.execute_reply": "2021-05-19T22:04:38.151511Z"
        },
        "trusted": true,
        "id": "XyVW-pgkwIS8"
      },
      "execution_count": null,
      "outputs": []
    },
    {
      "cell_type": "markdown",
      "source": [
        "### 3.2) E se eu quiser extrair o título do maior hierarquia no corpo da página?"
      ],
      "metadata": {
        "id": "ybykJQCEwIS8"
      }
    },
    {
      "cell_type": "code",
      "source": [
        "soup.html.body.h1"
      ],
      "metadata": {
        "execution": {
          "iopub.status.busy": "2021-05-19T22:04:38.154636Z",
          "iopub.execute_input": "2021-05-19T22:04:38.155007Z",
          "iopub.status.idle": "2021-05-19T22:04:38.167667Z",
          "shell.execute_reply.started": "2021-05-19T22:04:38.154895Z",
          "shell.execute_reply": "2021-05-19T22:04:38.166615Z"
        },
        "trusted": true,
        "id": "SXwulavNwIS8"
      },
      "execution_count": null,
      "outputs": []
    },
    {
      "cell_type": "code",
      "source": [
        "soup.h1"
      ],
      "metadata": {
        "execution": {
          "iopub.status.busy": "2021-05-19T22:04:38.16907Z",
          "iopub.execute_input": "2021-05-19T22:04:38.169442Z",
          "iopub.status.idle": "2021-05-19T22:04:38.180295Z",
          "shell.execute_reply.started": "2021-05-19T22:04:38.169399Z",
          "shell.execute_reply": "2021-05-19T22:04:38.179358Z"
        },
        "trusted": true,
        "id": "w0wApbP3wIS8"
      },
      "execution_count": null,
      "outputs": []
    },
    {
      "cell_type": "code",
      "source": [
        "soup.h1.get_text()"
      ],
      "metadata": {
        "execution": {
          "iopub.status.busy": "2021-05-19T22:04:38.185346Z",
          "iopub.execute_input": "2021-05-19T22:04:38.185724Z",
          "iopub.status.idle": "2021-05-19T22:04:38.197421Z",
          "shell.execute_reply.started": "2021-05-19T22:04:38.185669Z",
          "shell.execute_reply": "2021-05-19T22:04:38.196263Z"
        },
        "trusted": true,
        "id": "MLcZ3dDUwIS9"
      },
      "execution_count": null,
      "outputs": []
    },
    {
      "cell_type": "markdown",
      "source": [
        "### Questionário 1: com qual dos comandos abaixo eu NÃO coleto o texto \"Categoria: melhor filme\"?\n",
        "\n",
        "a) soup.body.div.div.h2.get_text()\n",
        "\n",
        "b) soup.div.div.h2.get_text()\n",
        "\n",
        "c) soup.div.ul.h2.get_text() resposta certa\n",
        "\n",
        "d) soup.h2.get_text()"
      ],
      "metadata": {
        "id": "ZKNlxtFlwIS9"
      }
    },
    {
      "cell_type": "markdown",
      "source": [
        "### 3.3) Coletando o texto \"A maior premiação do cinema aconteceu em Fevereiro. Os destaques deste ano foram:\""
      ],
      "metadata": {
        "id": "kKNzPAcmwIS9"
      }
    },
    {
      "cell_type": "code",
      "source": [
        "soup.p.get_text()"
      ],
      "metadata": {
        "execution": {
          "iopub.status.busy": "2021-05-19T22:04:38.203197Z",
          "iopub.execute_input": "2021-05-19T22:04:38.203662Z",
          "iopub.status.idle": "2021-05-19T22:04:38.209819Z",
          "shell.execute_reply.started": "2021-05-19T22:04:38.203627Z",
          "shell.execute_reply": "2021-05-19T22:04:38.209068Z"
        },
        "trusted": true,
        "id": "tghI_iTlwIS9"
      },
      "execution_count": null,
      "outputs": []
    },
    {
      "cell_type": "markdown",
      "source": [
        "### Mas... E se eu quiser coletar o texto \"Veja abaixo os vencedores de 3 categorias.\"?"
      ],
      "metadata": {
        "id": "qBsXgBZFwIS9"
      }
    },
    {
      "cell_type": "markdown",
      "source": [
        "### 3.4) O método find()"
      ],
      "metadata": {
        "id": "yjM2_aMfwIS9"
      }
    },
    {
      "cell_type": "code",
      "source": [
        "#pega primeria ocorrência\n",
        "soup.find(\"p\")"
      ],
      "metadata": {
        "execution": {
          "iopub.status.busy": "2021-05-19T22:04:38.210937Z",
          "iopub.execute_input": "2021-05-19T22:04:38.211398Z",
          "iopub.status.idle": "2021-05-19T22:04:38.22452Z",
          "shell.execute_reply.started": "2021-05-19T22:04:38.211367Z",
          "shell.execute_reply": "2021-05-19T22:04:38.223585Z"
        },
        "trusted": true,
        "id": "8hpBHuvSwIS-"
      },
      "execution_count": null,
      "outputs": []
    },
    {
      "cell_type": "code",
      "source": [
        "soup.find(\"p\").get_text()"
      ],
      "metadata": {
        "execution": {
          "iopub.status.busy": "2021-05-19T22:04:38.225633Z",
          "iopub.execute_input": "2021-05-19T22:04:38.226087Z",
          "iopub.status.idle": "2021-05-19T22:04:38.239915Z",
          "shell.execute_reply.started": "2021-05-19T22:04:38.22605Z",
          "shell.execute_reply": "2021-05-19T22:04:38.238745Z"
        },
        "trusted": true,
        "id": "YE5b01AOwIS-"
      },
      "execution_count": null,
      "outputs": []
    },
    {
      "cell_type": "markdown",
      "source": [
        "### 3.5) O método find_all()"
      ],
      "metadata": {
        "id": "90zY4lLOwIS-"
      }
    },
    {
      "cell_type": "code",
      "source": [
        "#pega todos os p's\n",
        "soup.find_all(\"p\")"
      ],
      "metadata": {
        "execution": {
          "iopub.status.busy": "2021-05-19T22:04:38.241105Z",
          "iopub.execute_input": "2021-05-19T22:04:38.241402Z",
          "iopub.status.idle": "2021-05-19T22:04:38.255908Z",
          "shell.execute_reply.started": "2021-05-19T22:04:38.241375Z",
          "shell.execute_reply": "2021-05-19T22:04:38.254838Z"
        },
        "trusted": true,
        "id": "TPKwYXc9wIS-"
      },
      "execution_count": null,
      "outputs": []
    },
    {
      "cell_type": "code",
      "source": [
        "#pega o primeiro item\n",
        "soup.find_all(\"p\")[1]"
      ],
      "metadata": {
        "execution": {
          "iopub.status.busy": "2021-05-19T22:04:38.25987Z",
          "iopub.execute_input": "2021-05-19T22:04:38.260358Z",
          "iopub.status.idle": "2021-05-19T22:04:38.269244Z",
          "shell.execute_reply.started": "2021-05-19T22:04:38.260323Z",
          "shell.execute_reply": "2021-05-19T22:04:38.268098Z"
        },
        "trusted": true,
        "id": "XQP7eA8XwIS-"
      },
      "execution_count": null,
      "outputs": []
    },
    {
      "cell_type": "code",
      "source": [
        "soup.find_all(\"p\")[1].get_text()"
      ],
      "metadata": {
        "execution": {
          "iopub.status.busy": "2021-05-19T22:04:38.270895Z",
          "iopub.execute_input": "2021-05-19T22:04:38.271776Z",
          "iopub.status.idle": "2021-05-19T22:04:38.282932Z",
          "shell.execute_reply.started": "2021-05-19T22:04:38.271676Z",
          "shell.execute_reply": "2021-05-19T22:04:38.281647Z"
        },
        "trusted": true,
        "id": "kryajUC-wIS-"
      },
      "execution_count": null,
      "outputs": []
    },
    {
      "cell_type": "code",
      "source": [
        "soup.find_all(\"h2\")"
      ],
      "metadata": {
        "execution": {
          "iopub.status.busy": "2021-05-19T22:04:38.284802Z",
          "iopub.execute_input": "2021-05-19T22:04:38.285529Z",
          "iopub.status.idle": "2021-05-19T22:04:38.298043Z",
          "shell.execute_reply.started": "2021-05-19T22:04:38.285477Z",
          "shell.execute_reply": "2021-05-19T22:04:38.296888Z"
        },
        "trusted": true,
        "id": "rFzjZSH6wIS-"
      },
      "execution_count": null,
      "outputs": []
    },
    {
      "cell_type": "markdown",
      "source": [
        "### 3.6) Coletando a lista de destaques"
      ],
      "metadata": {
        "id": "rVBSEmp4wIS_"
      }
    },
    {
      "cell_type": "code",
      "source": [
        "soup.ul.find_all(\"li\")"
      ],
      "metadata": {
        "execution": {
          "iopub.status.busy": "2021-05-19T22:04:38.299479Z",
          "iopub.execute_input": "2021-05-19T22:04:38.300083Z",
          "iopub.status.idle": "2021-05-19T22:04:38.309234Z",
          "shell.execute_reply.started": "2021-05-19T22:04:38.300045Z",
          "shell.execute_reply": "2021-05-19T22:04:38.308313Z"
        },
        "trusted": true,
        "id": "QncVNTGiwIS_"
      },
      "execution_count": null,
      "outputs": []
    },
    {
      "cell_type": "code",
      "source": [
        "print(\"Lista de destaques:\")\n",
        "\n",
        "for filme in soup.ul.find_all(\"li\"):\n",
        "    print(filme.get_text())"
      ],
      "metadata": {
        "execution": {
          "iopub.status.busy": "2021-05-19T22:04:38.310441Z",
          "iopub.execute_input": "2021-05-19T22:04:38.310898Z",
          "iopub.status.idle": "2021-05-19T22:04:38.32159Z",
          "shell.execute_reply.started": "2021-05-19T22:04:38.310867Z",
          "shell.execute_reply": "2021-05-19T22:04:38.320629Z"
        },
        "trusted": true,
        "id": "ujVW1FS_wIS_"
      },
      "execution_count": null,
      "outputs": []
    },
    {
      "cell_type": "markdown",
      "source": [
        "### Mini-desafio 1: colete todos os filmes da categoria de melhor filme"
      ],
      "metadata": {
        "id": "bwxkpeCFwIS_"
      }
    },
    {
      "cell_type": "code",
      "source": [
        "# Insira a sua resposta aqui\n",
        "melhorFilme = soup.div.ul.find_all(\"li\")\n",
        "\n",
        "print(\"Melhor filme:\")\n",
        "\n",
        "for filme in melhorFilme:\n",
        "    print(\"-\",filme.get_text())\n"
      ],
      "metadata": {
        "execution": {
          "iopub.status.busy": "2021-05-19T22:04:38.32326Z",
          "iopub.execute_input": "2021-05-19T22:04:38.323696Z",
          "iopub.status.idle": "2021-05-19T22:04:38.33573Z",
          "shell.execute_reply.started": "2021-05-19T22:04:38.32365Z",
          "shell.execute_reply": "2021-05-19T22:04:38.334937Z"
        },
        "trusted": true,
        "id": "BCNW62G4wIS_"
      },
      "execution_count": null,
      "outputs": []
    },
    {
      "cell_type": "markdown",
      "source": [
        "### 3.7) O método find_all() pode ser equivalente ao método find()"
      ],
      "metadata": {
        "id": "yojX6csXwIS_"
      }
    },
    {
      "cell_type": "code",
      "source": [
        "#limita a quantide de p's, como so primeiros colocados por exemplo de uma lista\n",
        "soup.find_all('p', limit = 2)"
      ],
      "metadata": {
        "execution": {
          "iopub.status.busy": "2021-05-19T22:04:38.33692Z",
          "iopub.execute_input": "2021-05-19T22:04:38.337199Z",
          "iopub.status.idle": "2021-05-19T22:04:38.349082Z",
          "shell.execute_reply.started": "2021-05-19T22:04:38.337171Z",
          "shell.execute_reply": "2021-05-19T22:04:38.348019Z"
        },
        "trusted": true,
        "id": "FFTSogmlwIS_"
      },
      "execution_count": null,
      "outputs": []
    },
    {
      "cell_type": "code",
      "source": [
        "soup.find_all('p')[0]"
      ],
      "metadata": {
        "execution": {
          "iopub.status.busy": "2021-05-19T22:04:38.350824Z",
          "iopub.execute_input": "2021-05-19T22:04:38.351323Z",
          "iopub.status.idle": "2021-05-19T22:04:38.360559Z",
          "shell.execute_reply.started": "2021-05-19T22:04:38.351286Z",
          "shell.execute_reply": "2021-05-19T22:04:38.359518Z"
        },
        "trusted": true,
        "id": "o80BJtDiwIS_"
      },
      "execution_count": null,
      "outputs": []
    },
    {
      "cell_type": "markdown",
      "source": [
        "### 3.8) Também posso passar uma lista de tags para o find_all()"
      ],
      "metadata": {
        "id": "_aA9z4i8wITA"
      }
    },
    {
      "cell_type": "code",
      "source": [
        "soup.find_all([\"h2\", \"li\"])"
      ],
      "metadata": {
        "execution": {
          "iopub.status.busy": "2021-05-19T22:04:38.361925Z",
          "iopub.execute_input": "2021-05-19T22:04:38.362436Z",
          "iopub.status.idle": "2021-05-19T22:04:38.375475Z",
          "shell.execute_reply.started": "2021-05-19T22:04:38.362381Z",
          "shell.execute_reply": "2021-05-19T22:04:38.374252Z"
        },
        "trusted": true,
        "id": "7jc0kwSNwITA"
      },
      "execution_count": null,
      "outputs": []
    },
    {
      "cell_type": "code",
      "source": [
        "soup.find_all(\"li\")[4:12]"
      ],
      "metadata": {
        "execution": {
          "iopub.status.busy": "2021-05-19T22:04:38.376708Z",
          "iopub.execute_input": "2021-05-19T22:04:38.376985Z",
          "iopub.status.idle": "2021-05-19T22:04:38.390865Z",
          "shell.execute_reply.started": "2021-05-19T22:04:38.376958Z",
          "shell.execute_reply": "2021-05-19T22:04:38.389522Z"
        },
        "trusted": true,
        "id": "5LT2saUowITA"
      },
      "execution_count": null,
      "outputs": []
    },
    {
      "cell_type": "markdown",
      "source": [
        "### 3.9) Posso buscar por tags com um conteúdo específico?"
      ],
      "metadata": {
        "id": "kVRKuG10wITA"
      }
    },
    {
      "cell_type": "code",
      "source": [
        "#se a teag estiver só essa palavras, se ela tiver no mio de outras precisa usar expressão regular\n",
        "soup.find_all(\"li\", text=\"Coringa\")"
      ],
      "metadata": {
        "execution": {
          "iopub.status.busy": "2021-05-19T22:04:38.392213Z",
          "iopub.execute_input": "2021-05-19T22:04:38.392534Z",
          "iopub.status.idle": "2021-05-19T22:04:38.405322Z",
          "shell.execute_reply.started": "2021-05-19T22:04:38.392504Z",
          "shell.execute_reply": "2021-05-19T22:04:38.403781Z"
        },
        "trusted": true,
        "id": "rF2_dryTwITA"
      },
      "execution_count": null,
      "outputs": []
    },
    {
      "cell_type": "code",
      "source": [
        "soup.find_all(\"li\", text=\"1917\")"
      ],
      "metadata": {
        "execution": {
          "iopub.status.busy": "2021-05-19T22:04:38.407107Z",
          "iopub.execute_input": "2021-05-19T22:04:38.407611Z",
          "iopub.status.idle": "2021-05-19T22:04:38.419618Z",
          "shell.execute_reply.started": "2021-05-19T22:04:38.407531Z",
          "shell.execute_reply": "2021-05-19T22:04:38.418521Z"
        },
        "trusted": true,
        "id": "ZF094ezywITA"
      },
      "execution_count": null,
      "outputs": []
    },
    {
      "cell_type": "code",
      "source": [
        "soup.find_all(\"li\", text=\"O Irlandês\")"
      ],
      "metadata": {
        "execution": {
          "iopub.status.busy": "2021-05-19T22:04:38.423032Z",
          "iopub.execute_input": "2021-05-19T22:04:38.423437Z",
          "iopub.status.idle": "2021-05-19T22:04:38.433286Z",
          "shell.execute_reply.started": "2021-05-19T22:04:38.423403Z",
          "shell.execute_reply": "2021-05-19T22:04:38.432225Z"
        },
        "trusted": true,
        "id": "Wv9eLTkCwITA"
      },
      "execution_count": null,
      "outputs": []
    },
    {
      "cell_type": "code",
      "source": [
        "import re"
      ],
      "metadata": {
        "execution": {
          "iopub.status.busy": "2021-05-19T22:04:38.434682Z",
          "iopub.execute_input": "2021-05-19T22:04:38.434955Z",
          "iopub.status.idle": "2021-05-19T22:04:38.445048Z",
          "shell.execute_reply.started": "2021-05-19T22:04:38.434928Z",
          "shell.execute_reply": "2021-05-19T22:04:38.443641Z"
        },
        "trusted": true,
        "id": "-0UdbBYWwITA"
      },
      "execution_count": null,
      "outputs": []
    },
    {
      "cell_type": "code",
      "source": [
        "soup.find_all(\"h2\", text=re.compile(\"^Categoria\"))"
      ],
      "metadata": {
        "execution": {
          "iopub.status.busy": "2021-05-19T22:04:38.446952Z",
          "iopub.execute_input": "2021-05-19T22:04:38.447399Z",
          "iopub.status.idle": "2021-05-19T22:04:38.46137Z",
          "shell.execute_reply.started": "2021-05-19T22:04:38.447363Z",
          "shell.execute_reply": "2021-05-19T22:04:38.460224Z"
        },
        "trusted": true,
        "id": "C-ruF9yHwITA"
      },
      "execution_count": null,
      "outputs": []
    },
    {
      "cell_type": "markdown",
      "source": [
        "### 3.10) Coletando por meio de atributos"
      ],
      "metadata": {
        "id": "ibjrSk0dwITB"
      }
    },
    {
      "cell_type": "code",
      "source": [
        "soup.find_all(\"ul\", {\"class\": \"destaques\"})"
      ],
      "metadata": {
        "execution": {
          "iopub.status.busy": "2021-05-19T22:04:38.462911Z",
          "iopub.execute_input": "2021-05-19T22:04:38.463216Z",
          "iopub.status.idle": "2021-05-19T22:04:38.474028Z",
          "shell.execute_reply.started": "2021-05-19T22:04:38.463188Z",
          "shell.execute_reply": "2021-05-19T22:04:38.472829Z"
        },
        "trusted": true,
        "id": "IOCJgItzwITB"
      },
      "execution_count": null,
      "outputs": []
    },
    {
      "cell_type": "code",
      "source": [
        "for item in soup.find_all(\"ul\", {\"class\": \"destaques\"}):\n",
        "    print(item.get_text())"
      ],
      "metadata": {
        "execution": {
          "iopub.status.busy": "2021-05-19T22:04:38.475459Z",
          "iopub.execute_input": "2021-05-19T22:04:38.475766Z",
          "iopub.status.idle": "2021-05-19T22:04:38.485538Z",
          "shell.execute_reply.started": "2021-05-19T22:04:38.475739Z",
          "shell.execute_reply": "2021-05-19T22:04:38.484318Z"
        },
        "trusted": true,
        "id": "7WapLSKNwITB"
      },
      "execution_count": null,
      "outputs": []
    },
    {
      "cell_type": "code",
      "source": [
        "soup.find_all(\"li\", {\"class\": \"vencedor\"})"
      ],
      "metadata": {
        "execution": {
          "iopub.status.busy": "2021-05-19T22:04:38.487065Z",
          "iopub.execute_input": "2021-05-19T22:04:38.487527Z",
          "iopub.status.idle": "2021-05-19T22:04:38.499483Z",
          "shell.execute_reply.started": "2021-05-19T22:04:38.48748Z",
          "shell.execute_reply": "2021-05-19T22:04:38.498612Z"
        },
        "trusted": true,
        "id": "CWelgoDCwITB"
      },
      "execution_count": null,
      "outputs": []
    },
    {
      "cell_type": "code",
      "source": [
        "for item in soup.find_all(\"li\", {\"class\": \"vencedor\"}):\n",
        "    print(item.get_text())"
      ],
      "metadata": {
        "execution": {
          "iopub.status.busy": "2021-05-19T22:04:38.500908Z",
          "iopub.execute_input": "2021-05-19T22:04:38.501325Z",
          "iopub.status.idle": "2021-05-19T22:04:38.517799Z",
          "shell.execute_reply.started": "2021-05-19T22:04:38.50128Z",
          "shell.execute_reply": "2021-05-19T22:04:38.516681Z"
        },
        "trusted": true,
        "id": "xQlFvJhfwITB"
      },
      "execution_count": null,
      "outputs": []
    },
    {
      "cell_type": "code",
      "source": [
        "for item in soup.find_all(\"li\", {\"class\": \"vencedor\"}):\n",
        "    print(item.get_text().replace(\" [VENCEDOR]\", \"\"))"
      ],
      "metadata": {
        "execution": {
          "iopub.status.busy": "2021-05-19T22:04:38.519425Z",
          "iopub.execute_input": "2021-05-19T22:04:38.51979Z",
          "iopub.status.idle": "2021-05-19T22:04:38.529888Z",
          "shell.execute_reply.started": "2021-05-19T22:04:38.519755Z",
          "shell.execute_reply": "2021-05-19T22:04:38.528859Z"
        },
        "trusted": true,
        "id": "Hujj1VqKwITB"
      },
      "execution_count": null,
      "outputs": []
    },
    {
      "cell_type": "markdown",
      "source": [
        "### 3.11) Parents, siblings, next e previous: outra forma de percorrer o HTML\n",
        "\n",
        "* Quando as tags que precisamos pesquisar não apresentam atributos que as diferencie (como as classes, por exemplo), podemos percorrer o HTML de outras formas."
      ],
      "metadata": {
        "id": "GwPLKX2ewITB"
      }
    },
    {
      "cell_type": "markdown",
      "source": [
        "#### Parents"
      ],
      "metadata": {
        "id": "QQPIfL20wITC"
      }
    },
    {
      "cell_type": "code",
      "source": [
        "soup.find(\"li\", {\"class\": \"vencedor\"}).get_text()"
      ],
      "metadata": {
        "execution": {
          "iopub.status.busy": "2021-05-19T22:04:38.53149Z",
          "iopub.execute_input": "2021-05-19T22:04:38.53182Z",
          "iopub.status.idle": "2021-05-19T22:04:38.542333Z",
          "shell.execute_reply.started": "2021-05-19T22:04:38.531789Z",
          "shell.execute_reply": "2021-05-19T22:04:38.541372Z"
        },
        "trusted": true,
        "id": "lTipADTrwITC"
      },
      "execution_count": null,
      "outputs": []
    },
    {
      "cell_type": "code",
      "source": [
        "soup.find(\"li\", {\"class\": \"vencedor\"}).find_parent()"
      ],
      "metadata": {
        "execution": {
          "iopub.status.busy": "2021-05-19T22:04:38.543733Z",
          "iopub.execute_input": "2021-05-19T22:04:38.544205Z",
          "iopub.status.idle": "2021-05-19T22:04:38.559618Z",
          "shell.execute_reply.started": "2021-05-19T22:04:38.544168Z",
          "shell.execute_reply": "2021-05-19T22:04:38.558401Z"
        },
        "trusted": true,
        "id": "a9Kzj3sYwITC"
      },
      "execution_count": null,
      "outputs": []
    },
    {
      "cell_type": "code",
      "source": [
        "soup.find(\"li\", {\"class\": \"vencedor\"}).find_parent('div')\n",
        "#pega a a li e depois sobe na div e lista, sentido inverso"
      ],
      "metadata": {
        "execution": {
          "iopub.status.busy": "2021-05-19T22:04:38.56092Z",
          "iopub.execute_input": "2021-05-19T22:04:38.561293Z",
          "iopub.status.idle": "2021-05-19T22:04:38.574669Z",
          "shell.execute_reply.started": "2021-05-19T22:04:38.561261Z",
          "shell.execute_reply": "2021-05-19T22:04:38.573358Z"
        },
        "trusted": true,
        "id": "WRZaHSm5wITC"
      },
      "execution_count": null,
      "outputs": []
    },
    {
      "cell_type": "code",
      "source": [
        "soup.find(\"li\", {\"class\": \"vencedor\"}).find_parent('div').find('h2').get_text()\n",
        "#aqui ele pega a vencedor que e sobe até a div pai e imprime os h2s"
      ],
      "metadata": {
        "execution": {
          "iopub.status.busy": "2021-05-19T22:04:38.575838Z",
          "iopub.execute_input": "2021-05-19T22:04:38.576126Z",
          "iopub.status.idle": "2021-05-19T22:04:38.589223Z",
          "shell.execute_reply.started": "2021-05-19T22:04:38.576098Z",
          "shell.execute_reply": "2021-05-19T22:04:38.588305Z"
        },
        "trusted": true,
        "id": "XrmipgV1wITC"
      },
      "execution_count": null,
      "outputs": []
    },
    {
      "cell_type": "markdown",
      "source": [
        "#### Siblings"
      ],
      "metadata": {
        "id": "c9VmY6g7wITC"
      }
    },
    {
      "cell_type": "code",
      "source": [
        "soup.find('h2').get_text()"
      ],
      "metadata": {
        "execution": {
          "iopub.status.busy": "2021-05-19T22:04:38.5903Z",
          "iopub.execute_input": "2021-05-19T22:04:38.590635Z",
          "iopub.status.idle": "2021-05-19T22:04:38.602757Z",
          "shell.execute_reply.started": "2021-05-19T22:04:38.590594Z",
          "shell.execute_reply": "2021-05-19T22:04:38.601604Z"
        },
        "trusted": true,
        "id": "ZnPlUoKewITC"
      },
      "execution_count": null,
      "outputs": []
    },
    {
      "cell_type": "code",
      "source": [
        "soup.find('h2').find_next_sibling()\n",
        "#pega os irmãos da mesma hierarqui, diferenci plural"
      ],
      "metadata": {
        "execution": {
          "iopub.status.busy": "2021-05-19T22:04:38.60396Z",
          "iopub.execute_input": "2021-05-19T22:04:38.604375Z",
          "iopub.status.idle": "2021-05-19T22:04:38.619641Z",
          "shell.execute_reply.started": "2021-05-19T22:04:38.60433Z",
          "shell.execute_reply": "2021-05-19T22:04:38.618701Z"
        },
        "trusted": true,
        "id": "O14tL3xVwITC"
      },
      "execution_count": null,
      "outputs": []
    },
    {
      "cell_type": "code",
      "source": [
        "soup.find('div', {'class': 'categoria-melhor-filme'}).find_next_siblings()"
      ],
      "metadata": {
        "execution": {
          "iopub.status.busy": "2021-05-19T22:04:38.620956Z",
          "iopub.execute_input": "2021-05-19T22:04:38.621443Z",
          "iopub.status.idle": "2021-05-19T22:04:38.63412Z",
          "shell.execute_reply.started": "2021-05-19T22:04:38.621408Z",
          "shell.execute_reply": "2021-05-19T22:04:38.63337Z"
        },
        "trusted": true,
        "id": "K_uG0NFcwITD"
      },
      "execution_count": null,
      "outputs": []
    },
    {
      "cell_type": "code",
      "source": [
        "soup.find('li', {'class': 'vencedor'}).find_previous_sibling().get_text()\n",
        "#pega o irmão anterior"
      ],
      "metadata": {
        "execution": {
          "iopub.status.busy": "2021-05-19T22:04:38.635414Z",
          "iopub.execute_input": "2021-05-19T22:04:38.635876Z",
          "iopub.status.idle": "2021-05-19T22:04:38.64818Z",
          "shell.execute_reply.started": "2021-05-19T22:04:38.635835Z",
          "shell.execute_reply": "2021-05-19T22:04:38.647095Z"
        },
        "trusted": true,
        "id": "SmtAZe1FwITD"
      },
      "execution_count": null,
      "outputs": []
    },
    {
      "cell_type": "code",
      "source": [
        "soup.find('div', {'class': 'categoria-melhor-atriz'}).find_previous_siblings()\n",
        "#pega todos os irmãos anteriores, pois está no plural, lembrando que tem que está na mesma linha de identação"
      ],
      "metadata": {
        "execution": {
          "iopub.status.busy": "2021-05-19T22:04:38.649418Z",
          "iopub.execute_input": "2021-05-19T22:04:38.649743Z",
          "iopub.status.idle": "2021-05-19T22:04:38.663729Z",
          "shell.execute_reply.started": "2021-05-19T22:04:38.649705Z",
          "shell.execute_reply": "2021-05-19T22:04:38.662556Z"
        },
        "trusted": true,
        "id": "qktOYYw7wITD"
      },
      "execution_count": null,
      "outputs": []
    },
    {
      "cell_type": "markdown",
      "source": [
        "#### Next e Previous"
      ],
      "metadata": {
        "id": "F_A2NW5cwITD"
      }
    },
    {
      "cell_type": "code",
      "source": [
        "soup.find('div', {'class': 'categoria-melhor-ator'}).find('li', {'class': 'vencedor'}).get_text()"
      ],
      "metadata": {
        "execution": {
          "iopub.status.busy": "2021-05-19T22:04:38.664798Z",
          "iopub.execute_input": "2021-05-19T22:04:38.665061Z",
          "iopub.status.idle": "2021-05-19T22:04:38.677278Z",
          "shell.execute_reply.started": "2021-05-19T22:04:38.665034Z",
          "shell.execute_reply": "2021-05-19T22:04:38.676247Z"
        },
        "trusted": true,
        "id": "rcWSyn1rwITD"
      },
      "execution_count": null,
      "outputs": []
    },
    {
      "cell_type": "code",
      "source": [
        "soup.find('div', {'class': 'categoria-melhor-ator'}).find('li', {'class': 'vencedor'}).find_next('li').get_text()"
      ],
      "metadata": {
        "execution": {
          "iopub.status.busy": "2021-05-19T22:04:38.678581Z",
          "iopub.execute_input": "2021-05-19T22:04:38.678931Z",
          "iopub.status.idle": "2021-05-19T22:04:38.691078Z",
          "shell.execute_reply.started": "2021-05-19T22:04:38.678903Z",
          "shell.execute_reply": "2021-05-19T22:04:38.690329Z"
        },
        "trusted": true,
        "id": "xEOiObGRwITD"
      },
      "execution_count": null,
      "outputs": []
    },
    {
      "cell_type": "code",
      "source": [
        "soup.find('div', {'class': 'categoria-melhor-ator'}).find('li', {'class': 'vencedor'}).find_previous('li').get_text()"
      ],
      "metadata": {
        "execution": {
          "iopub.status.busy": "2021-05-19T22:04:38.69228Z",
          "iopub.execute_input": "2021-05-19T22:04:38.692728Z",
          "iopub.status.idle": "2021-05-19T22:04:38.706231Z",
          "shell.execute_reply.started": "2021-05-19T22:04:38.692689Z",
          "shell.execute_reply": "2021-05-19T22:04:38.705385Z"
        },
        "trusted": true,
        "id": "c5BiJs4iwITD"
      },
      "execution_count": null,
      "outputs": []
    },
    {
      "cell_type": "code",
      "source": [
        "soup.find('div', {'class': 'categoria-melhor-ator'}).find('li', {'class': 'vencedor'}).find_all_next('li')"
      ],
      "metadata": {
        "execution": {
          "iopub.status.busy": "2021-05-19T22:04:38.707559Z",
          "iopub.execute_input": "2021-05-19T22:04:38.707874Z",
          "iopub.status.idle": "2021-05-19T22:04:38.720545Z",
          "shell.execute_reply.started": "2021-05-19T22:04:38.707848Z",
          "shell.execute_reply": "2021-05-19T22:04:38.719415Z"
        },
        "trusted": true,
        "id": "_XccOph1wITD"
      },
      "execution_count": null,
      "outputs": []
    },
    {
      "cell_type": "code",
      "source": [
        "soup.find('div', {'class': 'categoria-melhor-ator'}).find('li', {'class': 'vencedor'}).find_all_previous('li')"
      ],
      "metadata": {
        "execution": {
          "iopub.status.busy": "2021-05-19T22:04:38.721992Z",
          "iopub.execute_input": "2021-05-19T22:04:38.72246Z",
          "iopub.status.idle": "2021-05-19T22:04:38.737615Z",
          "shell.execute_reply.started": "2021-05-19T22:04:38.722418Z",
          "shell.execute_reply": "2021-05-19T22:04:38.73666Z"
        },
        "trusted": true,
        "id": "TCPfYVgSwITD"
      },
      "execution_count": null,
      "outputs": []
    },
    {
      "cell_type": "markdown",
      "source": [
        "### Mini-desafio 2: colete todos os filmes que não tenham vencido suas categorias"
      ],
      "metadata": {
        "id": "TS_62dHHwITE"
      }
    },
    {
      "cell_type": "code",
      "source": [
        "# Insira a sua resposta aqui\n",
        "lista = soup.find('div', {'class': 'categoria-melhor-filme'}).find('li', {'class': 'vencedor'}).find_previous_siblings()\n",
        "lista = lista + soup.find('div', {'class': 'categoria-melhor-filme'}).find('li', {'class': 'vencedor'}).find_next_siblings()\n",
        "for filme in lista:\n",
        "    print(filme)\n",
        "\n"
      ],
      "metadata": {
        "execution": {
          "iopub.status.busy": "2021-05-19T22:37:28.499702Z",
          "iopub.execute_input": "2021-05-19T22:37:28.50022Z",
          "iopub.status.idle": "2021-05-19T22:37:28.509276Z",
          "shell.execute_reply.started": "2021-05-19T22:37:28.500186Z",
          "shell.execute_reply": "2021-05-19T22:37:28.508079Z"
        },
        "trusted": true,
        "id": "kVnn7UviwITE"
      },
      "execution_count": null,
      "outputs": []
    },
    {
      "cell_type": "code",
      "source": [
        "#esse ficou tudo de uma vez\n",
        "print(\"Filmes que não venceram suas categorias:\")\n",
        "for categoria in soup.find_all(\"h2\", text=re.compile(\"^Categoria\")):\n",
        "    print(\" \" + categoria.get_text())\n",
        "    for melhor in soup.find_all(\"ul\")[1].find_all(\"li\"):\n",
        "        if \"[VENCEDOR]\" not in melhor.get_text():\n",
        "            print(\"  \" + melhor.get_text())\n"
      ],
      "metadata": {
        "execution": {
          "iopub.status.busy": "2021-05-19T22:42:06.930189Z",
          "iopub.execute_input": "2021-05-19T22:42:06.930561Z",
          "iopub.status.idle": "2021-05-19T22:42:06.942629Z",
          "shell.execute_reply.started": "2021-05-19T22:42:06.930529Z",
          "shell.execute_reply": "2021-05-19T22:42:06.941444Z"
        },
        "trusted": true,
        "id": "Kg3g3IsjwITE"
      },
      "execution_count": null,
      "outputs": []
    },
    {
      "cell_type": "code",
      "source": [
        "#outra forma\n",
        "soup.find('div', {'class': 'categoria-melhor-filme', 'class': 'categoria-melhor-ator', 'class': 'categoria-melhor-atriz'}).find_previous_siblings()\n"
      ],
      "metadata": {
        "execution": {
          "iopub.status.busy": "2021-05-19T22:59:01.987282Z",
          "iopub.execute_input": "2021-05-19T22:59:01.987927Z",
          "iopub.status.idle": "2021-05-19T22:59:01.996404Z",
          "shell.execute_reply.started": "2021-05-19T22:59:01.987877Z",
          "shell.execute_reply": "2021-05-19T22:59:01.995432Z"
        },
        "trusted": true,
        "id": "bH-gm7FGwITE"
      },
      "execution_count": null,
      "outputs": []
    },
    {
      "cell_type": "markdown",
      "source": [
        "## 4) Trabalhando com dicionários e DataFrames"
      ],
      "metadata": {
        "id": "Okz5sS2mwITE"
      }
    },
    {
      "cell_type": "code",
      "source": [
        "import pandas as pd"
      ],
      "metadata": {
        "execution": {
          "iopub.status.busy": "2021-05-19T22:59:09.809735Z",
          "iopub.execute_input": "2021-05-19T22:59:09.810076Z",
          "iopub.status.idle": "2021-05-19T22:59:09.814087Z",
          "shell.execute_reply.started": "2021-05-19T22:59:09.810045Z",
          "shell.execute_reply": "2021-05-19T22:59:09.813184Z"
        },
        "trusted": true,
        "id": "KrwoFswawITE"
      },
      "execution_count": null,
      "outputs": []
    },
    {
      "cell_type": "code",
      "source": [
        "#todos h2 que começam com categoria\n",
        "soup.find_all(\"h2\", text=re.compile(\"^Categoria\"))"
      ],
      "metadata": {
        "execution": {
          "iopub.status.busy": "2021-05-19T22:04:38.76376Z",
          "iopub.execute_input": "2021-05-19T22:04:38.764044Z",
          "iopub.status.idle": "2021-05-19T22:04:38.778626Z",
          "shell.execute_reply.started": "2021-05-19T22:04:38.764015Z",
          "shell.execute_reply": "2021-05-19T22:04:38.777792Z"
        },
        "trusted": true,
        "id": "mVbdGntnwITE"
      },
      "execution_count": null,
      "outputs": []
    },
    {
      "cell_type": "code",
      "source": [
        "#armazena numa variável\n",
        "categorias = soup.find_all(\"h2\", text=re.compile(\"^Categoria\"))"
      ],
      "metadata": {
        "execution": {
          "iopub.status.busy": "2021-05-19T23:03:36.268265Z",
          "iopub.execute_input": "2021-05-19T23:03:36.268694Z",
          "iopub.status.idle": "2021-05-19T23:03:36.274966Z",
          "shell.execute_reply.started": "2021-05-19T23:03:36.268658Z",
          "shell.execute_reply": "2021-05-19T23:03:36.273651Z"
        },
        "trusted": true,
        "id": "vzcneTTSwITE"
      },
      "execution_count": null,
      "outputs": []
    },
    {
      "cell_type": "code",
      "source": [
        "soup.find_all(\"li\", {\"class\": \"vencedor\"})"
      ],
      "metadata": {
        "execution": {
          "iopub.status.busy": "2021-05-19T22:04:38.79048Z",
          "iopub.execute_input": "2021-05-19T22:04:38.790867Z",
          "iopub.status.idle": "2021-05-19T22:04:38.80377Z",
          "shell.execute_reply.started": "2021-05-19T22:04:38.790839Z",
          "shell.execute_reply": "2021-05-19T22:04:38.803027Z"
        },
        "trusted": true,
        "id": "tpwLXoGawITE"
      },
      "execution_count": null,
      "outputs": []
    },
    {
      "cell_type": "code",
      "source": [
        "vencedores = soup.find_all(\"li\", {\"class\": \"vencedor\"})"
      ],
      "metadata": {
        "execution": {
          "iopub.status.busy": "2021-05-19T22:04:38.804893Z",
          "iopub.execute_input": "2021-05-19T22:04:38.805201Z",
          "iopub.status.idle": "2021-05-19T22:04:38.816817Z",
          "shell.execute_reply.started": "2021-05-19T22:04:38.805173Z",
          "shell.execute_reply": "2021-05-19T22:04:38.815525Z"
        },
        "trusted": true,
        "id": "RjuVDyaCwITF"
      },
      "execution_count": null,
      "outputs": []
    },
    {
      "cell_type": "code",
      "source": [
        "vencedores_categorias = {}"
      ],
      "metadata": {
        "execution": {
          "iopub.status.busy": "2021-05-19T22:04:38.818469Z",
          "iopub.execute_input": "2021-05-19T22:04:38.818782Z",
          "iopub.status.idle": "2021-05-19T22:04:38.830478Z",
          "shell.execute_reply.started": "2021-05-19T22:04:38.818753Z",
          "shell.execute_reply": "2021-05-19T22:04:38.829488Z"
        },
        "trusted": true,
        "id": "p3sxz3NrwITF"
      },
      "execution_count": null,
      "outputs": []
    },
    {
      "cell_type": "code",
      "source": [
        "for cat, ven in zip(categorias, vencedores):\n",
        "    categoria = cat.get_text().replace(\"Categoria: \", \"\")\n",
        "    vencedor = ven.get_text().replace(\" [VENCEDOR]\", \"\")\n",
        "    \n",
        "    vencedores_categorias.update({categoria: [vencedor]})"
      ],
      "metadata": {
        "execution": {
          "iopub.status.busy": "2021-05-19T22:04:38.832043Z",
          "iopub.execute_input": "2021-05-19T22:04:38.832599Z",
          "iopub.status.idle": "2021-05-19T22:04:38.845711Z",
          "shell.execute_reply.started": "2021-05-19T22:04:38.832561Z",
          "shell.execute_reply": "2021-05-19T22:04:38.844474Z"
        },
        "trusted": true,
        "id": "EzlK_pXIwITF"
      },
      "execution_count": null,
      "outputs": []
    },
    {
      "cell_type": "code",
      "source": [
        "vencedores_categorias"
      ],
      "metadata": {
        "execution": {
          "iopub.status.busy": "2021-05-19T22:04:38.846823Z",
          "iopub.execute_input": "2021-05-19T22:04:38.847276Z",
          "iopub.status.idle": "2021-05-19T22:04:38.8605Z",
          "shell.execute_reply.started": "2021-05-19T22:04:38.84724Z",
          "shell.execute_reply": "2021-05-19T22:04:38.859282Z"
        },
        "trusted": true,
        "id": "3OUV86dxwITF"
      },
      "execution_count": null,
      "outputs": []
    },
    {
      "cell_type": "code",
      "source": [
        "vencedores_categorias_df = pd.DataFrame.from_dict(vencedores_categorias, orient=\"index\", columns=[\"Vencedores\"])"
      ],
      "metadata": {
        "execution": {
          "iopub.status.busy": "2021-05-19T22:04:38.861857Z",
          "iopub.execute_input": "2021-05-19T22:04:38.862167Z",
          "iopub.status.idle": "2021-05-19T22:04:38.880167Z",
          "shell.execute_reply.started": "2021-05-19T22:04:38.862124Z",
          "shell.execute_reply": "2021-05-19T22:04:38.879252Z"
        },
        "trusted": true,
        "id": "nwZPRYZxwITF"
      },
      "execution_count": null,
      "outputs": []
    },
    {
      "cell_type": "code",
      "source": [
        "vencedores_categorias_df"
      ],
      "metadata": {
        "execution": {
          "iopub.status.busy": "2021-05-19T22:04:38.881676Z",
          "iopub.execute_input": "2021-05-19T22:04:38.882393Z",
          "iopub.status.idle": "2021-05-19T22:04:38.900964Z",
          "shell.execute_reply.started": "2021-05-19T22:04:38.882343Z",
          "shell.execute_reply": "2021-05-19T22:04:38.900104Z"
        },
        "trusted": true,
        "id": "RFsRibKWwITF"
      },
      "execution_count": null,
      "outputs": []
    }
  ]
}