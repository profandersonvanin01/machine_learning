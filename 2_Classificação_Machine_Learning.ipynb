{
  "nbformat": 4,
  "nbformat_minor": 0,
  "metadata": {
    "colab": {
      "name": "2_Classificação_Machine_Learning.ipynb",
      "provenance": [],
      "authorship_tag": "ABX9TyMk9y6ZABC2ec//urHjJV++",
      "include_colab_link": true
    },
    "kernelspec": {
      "name": "python3",
      "display_name": "Python 3"
    },
    "language_info": {
      "name": "python"
    }
  },
  "cells": [
    {
      "cell_type": "markdown",
      "metadata": {
        "id": "view-in-github",
        "colab_type": "text"
      },
      "source": [
        "<a href=\"https://colab.research.google.com/github/profandersonvanin01/machine_learning/blob/main/2_Classifica%C3%A7%C3%A3o_Machine_Learning.ipynb\" target=\"_parent\"><img src=\"https://colab.research.google.com/assets/colab-badge.svg\" alt=\"Open In Colab\"/></a>"
      ]
    },
    {
      "cell_type": "markdown",
      "source": [
        "# Classificação"
      ],
      "metadata": {
        "id": "9u7onqmI4jIS"
      }
    },
    {
      "cell_type": "markdown",
      "source": [
        "A Classificação é uma subárea do Machine Learning que atribui uma classe para uma nova observação a partir de diversas características/variáveis de observações passadas. Essa classificação pode ser binária (duas classes, 1 ou 0) ou multiclasse (três ou mais classes)."
      ],
      "metadata": {
        "id": "HKsRA36B4n_M"
      }
    },
    {
      "cell_type": "markdown",
      "source": [
        "## Base de Dados IRIS"
      ],
      "metadata": {
        "id": "t41mqhvs5YpV"
      }
    },
    {
      "cell_type": "markdown",
      "source": [
        "O conjunto de dados flor Iris ou conjunto de dados Iris de Fisher é um conjunto de dados multivariados introduzido pelo estatístico e biólogo britânico Ronald Fisher em seu artigo de 1936, O uso de múltiplas medições em problemas taxonômicos, como um exemplo de análise discriminante linear. Às vezes, é chamado de conjunto de dados da íris de Anderson porque Edgar Anderson coletou os dados para quantificar a variação morfológica das flores da íris de três espécies relacionadas. Duas das três espécies foram coletadas na Península de Gaspé, \"todas do mesmo campo, colhidas no mesmo dia e medidas ao mesmo tempo pela mesma pessoa com a mesma aparelho\".\n",
        "\n",
        "O conjunto de dados consiste em 50 amostras de cada uma das três espécies de Iris ( Iris setosa, Iris virginica e Iris versicolor). Quatro variáveis foram medidas em cada amostra: o comprimento e a largura das sépalas e pétalas, em centímetros. Com base na combinação dessas quatro características, Fisher desenvolveu um modelo discriminante linear para distinguir as espécies umas das outras."
      ],
      "metadata": {
        "id": "IuRBBTfM5JtD"
      }
    },
    {
      "cell_type": "markdown",
      "source": [
        "# Bibliotecas"
      ],
      "metadata": {
        "id": "NY0cc_0e5poz"
      }
    },
    {
      "cell_type": "code",
      "execution_count": 1,
      "metadata": {
        "id": "aCzai-E44e38"
      },
      "outputs": [],
      "source": [
        "import pandas as pd\n",
        "import numpy as np\n",
        "import matplotlib.pyplot as plt\n",
        "#%matplotlib inline"
      ]
    },
    {
      "cell_type": "markdown",
      "source": [
        "# Carregar o dataset"
      ],
      "metadata": {
        "id": "PnujjQz450_i"
      }
    },
    {
      "cell_type": "code",
      "source": [
        "iris=pd.read_csv('https://raw.githubusercontent.com/profandersonvanin01/machine_learning/main/iris.csv')\n",
        "iris.head()"
      ],
      "metadata": {
        "id": "OQwo43ZJ5s-f"
      },
      "execution_count": null,
      "outputs": []
    },
    {
      "cell_type": "code",
      "source": [
        "iris.shape"
      ],
      "metadata": {
        "id": "3Kc8-CVv6GBj"
      },
      "execution_count": null,
      "outputs": []
    },
    {
      "cell_type": "code",
      "source": [
        "iris.info()"
      ],
      "metadata": {
        "id": "o__YohhhByZC"
      },
      "execution_count": null,
      "outputs": []
    },
    {
      "cell_type": "code",
      "source": [
        "iris.describe()"
      ],
      "metadata": {
        "id": "UzqDOwYsCDYe"
      },
      "execution_count": null,
      "outputs": []
    },
    {
      "cell_type": "code",
      "source": [
        "iris['variety'].value_counts()"
      ],
      "metadata": {
        "id": "gtN6mlszCLCw"
      },
      "execution_count": null,
      "outputs": []
    },
    {
      "cell_type": "markdown",
      "source": [
        "# Dividindo o dataset"
      ],
      "metadata": {
        "id": "fZvMz4KVCtR3"
      }
    },
    {
      "cell_type": "code",
      "source": [
        "X = iris.drop(['variety'], axis=1)\n",
        "y = iris['variety']\n",
        "print(f'X tamanho: {X.shape} | y tamanho: {y.shape} ')"
      ],
      "metadata": {
        "id": "TZlo7OWTCdHl"
      },
      "execution_count": null,
      "outputs": []
    },
    {
      "cell_type": "markdown",
      "source": [
        "# Dividindo em Treino e Teste "
      ],
      "metadata": {
        "id": "cr7nTvxyC0Am"
      }
    },
    {
      "cell_type": "code",
      "source": [
        "from sklearn.model_selection import train_test_split\n",
        "X_train, X_test, y_train, y_test = train_test_split(X, y, test_size=0.20, random_state=1)"
      ],
      "metadata": {
        "id": "lPHIujE1C1b0"
      },
      "execution_count": 8,
      "outputs": []
    },
    {
      "cell_type": "markdown",
      "source": [
        "# Criação do Modelo de Machine Learning"
      ],
      "metadata": {
        "id": "Lhaq-PpxDKHB"
      }
    },
    {
      "cell_type": "code",
      "source": [
        "from sklearn.tree import DecisionTreeClassifier\n",
        "arvore = DecisionTreeClassifier(criterion='entropy'\n",
        "                             , max_depth = 3\n",
        "                             , random_state = 0)\n",
        "arvore.fit(X_train,y_train)"
      ],
      "metadata": {
        "id": "0iiXTxs4DJQI"
      },
      "execution_count": null,
      "outputs": []
    },
    {
      "cell_type": "markdown",
      "source": [
        "# Previsões e cálculo de Acurácia (Métricas)"
      ],
      "metadata": {
        "id": "olkG3eReETE4"
      }
    },
    {
      "cell_type": "code",
      "source": [
        "from sklearn.metrics import classification_report\n",
        "from sklearn.metrics import confusion_matrix, classification_report\n",
        "from sklearn.metrics import plot_confusion_matrix\n",
        "from sklearn import metrics"
      ],
      "metadata": {
        "id": "b-T_KjA0CH7c"
      },
      "execution_count": 10,
      "outputs": []
    },
    {
      "cell_type": "code",
      "source": [
        "y_pred_arvore = arvore.predict(X_test) \n",
        "score_arvore = arvore.score(X_test, y_test) #ver o percentual de acerto\n",
        "print(score_arvore)\n",
        "confusion_matrix(y_test,y_pred_arvore)\n",
        "\n",
        "#X_train, X_test, y_train, y_test"
      ],
      "metadata": {
        "id": "CNWeJxGeCSuC"
      },
      "execution_count": null,
      "outputs": []
    },
    {
      "cell_type": "code",
      "source": [
        "report=classification_report(y_true=y_test,y_pred=y_pred_arvore)\n",
        "print(report) #Mostra as métricas de resultado do modelo"
      ],
      "metadata": {
        "id": "HnQVJX5rDcbM"
      },
      "execution_count": null,
      "outputs": []
    },
    {
      "cell_type": "code",
      "source": [
        "import matplotlib as plt"
      ],
      "metadata": {
        "id": "5UBfy2aQFeMY"
      },
      "execution_count": 20,
      "outputs": []
    },
    {
      "cell_type": "code",
      "source": [
        "plot_confusion_matrix(arvore, X_test,y_test, cmap=plt.cm.Reds,normalize='true')"
      ],
      "metadata": {
        "id": "Az6KRl_xFjJ6"
      },
      "execution_count": null,
      "outputs": []
    },
    {
      "cell_type": "markdown",
      "source": [
        "# Visualizando a Árvore de Decisão"
      ],
      "metadata": {
        "id": "3eWxJoh3GE8h"
      }
    },
    {
      "cell_type": "code",
      "source": [
        "import matplotlib as mpl\n",
        "plt.rcParams['figure.dpi'] = 100\n",
        "\n",
        "import matplotlib.pyplot as plt\n",
        "\n",
        "from sklearn.tree import plot_tree\n",
        "\n",
        "plt.figure()\n",
        "plot_tree(arvore, filled=True)\n",
        "plt.show()"
      ],
      "metadata": {
        "id": "TQwQbD77GM8T"
      },
      "execution_count": null,
      "outputs": []
    },
    {
      "cell_type": "code",
      "source": [
        "iris.head(150)"
      ],
      "metadata": {
        "id": "l2VzVAKzYi5T"
      },
      "execution_count": null,
      "outputs": []
    },
    {
      "cell_type": "markdown",
      "source": [
        "## Enviando dados que o modelo nunca viu para executar as previsões"
      ],
      "metadata": {
        "id": "V3lrElmDaxGM"
      }
    },
    {
      "cell_type": "code",
      "source": [
        "dados_novos = [\n",
        "\t[4.8,3.0,1.2,0.7],\n",
        "\t[6.5,2.8,4.6,1.5]]\n",
        "\n",
        "print(arvore.predict(dados_novos))"
      ],
      "metadata": {
        "id": "sFuYd6sfYRVj"
      },
      "execution_count": null,
      "outputs": []
    }
  ]
}