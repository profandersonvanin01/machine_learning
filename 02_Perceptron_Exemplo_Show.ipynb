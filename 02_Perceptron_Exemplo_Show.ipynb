{
  "nbformat": 4,
  "nbformat_minor": 0,
  "metadata": {
    "colab": {
      "name": "02_Perceptron - Exemplo Show",
      "provenance": [],
      "collapsed_sections": [],
      "include_colab_link": true
    },
    "kernelspec": {
      "display_name": "Python 3",
      "name": "python3"
    },
    "language_info": {
      "name": "python"
    }
  },
  "cells": [
    {
      "cell_type": "markdown",
      "metadata": {
        "id": "view-in-github",
        "colab_type": "text"
      },
      "source": [
        "<a href=\"https://colab.research.google.com/github/profandersonvanin01/machine_learning/blob/main/02_Perceptron_Exemplo_Show.ipynb\" target=\"_parent\"><img src=\"https://colab.research.google.com/assets/colab-badge.svg\" alt=\"Open In Colab\"/></a>"
      ]
    },
    {
      "cell_type": "markdown",
      "metadata": {
        "id": "7myKnUQKg6AL"
      },
      "source": [
        "# Perceptron Simples (Baseado no exemplo de Ir ou Não a um show)"
      ]
    },
    {
      "cell_type": "code",
      "metadata": {
        "colab": {
          "base_uri": "https://localhost:8080/"
        },
        "id": "f4ynooxuqdbO",
        "outputId": "466efdc3-0577-44f3-a7cf-f831b170fd64"
      },
      "source": [
        "#variáveis do problema\n",
        "data = [[0, 0, 1, 1],\n",
        "        [1, 0, 1, 1],\n",
        "        [1, 1, 1, 0],\n",
        "        [1, 1, 0, 0]]\n",
        "\n",
        "#pesos iniciais\n",
        "w = [0, 0, 0, 0] \n",
        "\n",
        "#aqui para especificar qual coluna da matriz data iremos utilizar\n",
        "X_1 = 0\n",
        "X_2 = 1\n",
        "X_3 = 2\n",
        "Y = 3\n",
        "SAMPLE = 0\n",
        "\n",
        "#taxa de aprendizado\n",
        "learning_rate = 0.1\n",
        "\n",
        "\n",
        "# Este exemplo irá calcular os pesos por 10 épocas\n",
        "for iterations in range(10):\n",
        "  # z = w0 + w1 * x1 + w2 * x2 + w3 * x3\n",
        "  z = w[0] + w[1] * data[SAMPLE][X_1] + w[2] * data[SAMPLE][X_2] + w[3] * data[SAMPLE][X_3]\n",
        "  print(\"Valor previsto ==> \",z)\n",
        "\n",
        "  if z > 0:\n",
        "    pred_y = 1\n",
        "  else:\n",
        "    pred_y = 0\n",
        "\n",
        "\n",
        "  # Ajuste dos pesos\n",
        "  w[1] = w[1] + learning_rate * (data[SAMPLE][Y] - pred_y) * data[SAMPLE][X_1]\n",
        "  w[2] = w[2] + learning_rate * (data[SAMPLE][Y] - pred_y) * data[SAMPLE][X_2]\n",
        "  w[3] = w[3] + learning_rate * (data[SAMPLE][Y] - pred_y) * data[SAMPLE][X_3]\n",
        "  w[0] = w[0] + learning_rate * (data[SAMPLE][Y] - pred_y)\n",
        "\n",
        "  print(\"Pesos (w0,w1,w2,w3) ==> \",w)\n",
        "\n",
        "  SAMPLE = (SAMPLE + 1) % 4"
      ],
      "execution_count": null,
      "outputs": [
        {
          "output_type": "stream",
          "name": "stdout",
          "text": [
            "Valor previsto ==>  0\n",
            "Pesos (w0,w1,w2,w3) ==>  [0.1, 0.0, 0.0, 0.1]\n",
            "Valor previsto ==>  0.2\n",
            "Pesos (w0,w1,w2,w3) ==>  [0.1, 0.0, 0.0, 0.1]\n",
            "Valor previsto ==>  0.2\n",
            "Pesos (w0,w1,w2,w3) ==>  [0.0, -0.1, -0.1, 0.0]\n",
            "Valor previsto ==>  -0.2\n",
            "Pesos (w0,w1,w2,w3) ==>  [0.0, -0.1, -0.1, 0.0]\n",
            "Valor previsto ==>  0.0\n",
            "Pesos (w0,w1,w2,w3) ==>  [0.1, -0.1, -0.1, 0.1]\n",
            "Valor previsto ==>  0.1\n",
            "Pesos (w0,w1,w2,w3) ==>  [0.1, -0.1, -0.1, 0.1]\n",
            "Valor previsto ==>  0.0\n",
            "Pesos (w0,w1,w2,w3) ==>  [0.1, -0.1, -0.1, 0.1]\n",
            "Valor previsto ==>  -0.1\n",
            "Pesos (w0,w1,w2,w3) ==>  [0.1, -0.1, -0.1, 0.1]\n",
            "Valor previsto ==>  0.2\n",
            "Pesos (w0,w1,w2,w3) ==>  [0.1, -0.1, -0.1, 0.1]\n",
            "Valor previsto ==>  0.1\n",
            "Pesos (w0,w1,w2,w3) ==>  [0.1, -0.1, -0.1, 0.1]\n"
          ]
        }
      ]
    },
    {
      "cell_type": "code",
      "metadata": {
        "colab": {
          "base_uri": "https://localhost:8080/"
        },
        "id": "tA49VzknuOcK",
        "outputId": "d008ea52-1db2-4b2a-aa5e-620c89a1bc96"
      },
      "source": [
        "# Testando com x1=1, x2=1 e x3=1\n",
        "resultado = w[0] + w[1] * 1 + w[2] * 1 + w[3] * 1\n",
        "if resultado > 0:\n",
        "  print(\"Você vai ao show! Resultado = \", resultado)\n",
        "else:\n",
        "  print(\"Você não vai ao show! Resultado = \", resultado)"
      ],
      "execution_count": null,
      "outputs": [
        {
          "output_type": "stream",
          "name": "stdout",
          "text": [
            "Você não vai ao show! Resultado =  0.0\n"
          ]
        }
      ]
    },
    {
      "cell_type": "code",
      "source": [
        "# Testando com x1=0, x2=0 e x3=0\n",
        "resultado = w[0] + w[1] * 0 + w[2] * 0 + w[3] * 0\n",
        "if resultado > 0:\n",
        "  print(\"Você vai ao show! Resultado = \", resultado)\n",
        "else:\n",
        "  print(\"Você não vai ao show! Resultado = \", resultado)"
      ],
      "metadata": {
        "colab": {
          "base_uri": "https://localhost:8080/"
        },
        "id": "U4OjgVgnPoKh",
        "outputId": "f0b670f0-d272-4483-abb1-23c342b3cca5"
      },
      "execution_count": null,
      "outputs": [
        {
          "output_type": "stream",
          "name": "stdout",
          "text": [
            "Você vai ao show! Resultado =  0.1\n"
          ]
        }
      ]
    }
  ]
}