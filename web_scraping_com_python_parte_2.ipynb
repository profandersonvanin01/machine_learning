{
  "metadata": {
    "kernelspec": {
      "language": "python",
      "display_name": "Python 3",
      "name": "python3"
    },
    "language_info": {
      "pygments_lexer": "ipython3",
      "nbconvert_exporter": "python",
      "version": "3.6.4",
      "file_extension": ".py",
      "codemirror_mode": {
        "name": "ipython",
        "version": 3
      },
      "name": "python",
      "mimetype": "text/x-python"
    },
    "colab": {
      "name": "web-scraping-com-python-parte-2.ipynb",
      "provenance": [],
      "include_colab_link": true
    }
  },
  "nbformat_minor": 0,
  "nbformat": 4,
  "cells": [
    {
      "cell_type": "markdown",
      "metadata": {
        "id": "view-in-github",
        "colab_type": "text"
      },
      "source": [
        "<a href=\"https://colab.research.google.com/github/profandersonvanin01/machine_learning/blob/main/web_scraping_com_python_parte_2.ipynb\" target=\"_parent\"><img src=\"https://colab.research.google.com/assets/colab-badge.svg\" alt=\"Open In Colab\"/></a>"
      ]
    },
    {
      "cell_type": "markdown",
      "source": [
        "# Este materia não é de minha autoria - foi realizando junto há um curso da Ocean Samsung - Inclusive aconselho todos a visitar o site"
      ],
      "metadata": {
        "id": "-TjLH8b4Yhhd"
      }
    },
    {
      "cell_type": "code",
      "source": [
        ""
      ],
      "metadata": {
        "id": "wwOJtJsFbi5d"
      },
      "execution_count": null,
      "outputs": []
    },
    {
      "cell_type": "markdown",
      "source": [
        "# Web Scraping com Python (Parte 2)\n",
        "\n",
        "## Resumo\n",
        "\n",
        "Neste notebook, iremos explorar e coletar dados do site [Oceano de Aluguéis](https://ocean-web-scraping.herokuapp.com/) utilizando a biblioteca [Beautiful Soup](https://www.crummy.com/software/BeautifulSoup/bs4/doc/). Em seguida, iremos analisar todas as informações coletadas.\n",
        "\n",
        "## Para saber mais:\n",
        "\n",
        "* Palestras e cursos do [Samsung Ocean](http://www.oceanbrasil.com/).\n",
        "* Ryan Mitchell. Web Scraping com Python: Coletando Mais Dados da Web Moderna. Novatec Editora, 2019."
      ],
      "metadata": {
        "id": "UBbOKxVLYdCC"
      }
    },
    {
      "cell_type": "markdown",
      "source": [
        "## 1) Criando os objetos Beautiful Soup"
      ],
      "metadata": {
        "id": "RNQz7oYvYdCG"
      }
    },
    {
      "cell_type": "code",
      "source": [
        "from bs4 import BeautifulSoup\n",
        "from urllib.request import urlopen"
      ],
      "metadata": {
        "execution": {
          "iopub.status.busy": "2022-05-19T16:23:44.938566Z",
          "iopub.execute_input": "2022-05-19T16:23:44.938941Z",
          "iopub.status.idle": "2022-05-19T16:23:44.943453Z",
          "shell.execute_reply.started": "2022-05-19T16:23:44.938909Z",
          "shell.execute_reply": "2022-05-19T16:23:44.942598Z"
        },
        "trusted": true,
        "id": "F4dcCMdbYdCH"
      },
      "execution_count": null,
      "outputs": []
    },
    {
      "cell_type": "code",
      "source": [
        "url_sobre = 'https://ocean-web-scraping.herokuapp.com/sobre.html'\n",
        "url_busca = 'https://ocean-web-scraping.herokuapp.com/'\n",
        "url_corretoras = 'https://ocean-web-scraping.herokuapp.com/corretoras.html'"
      ],
      "metadata": {
        "execution": {
          "iopub.status.busy": "2022-05-19T16:23:50.679419Z",
          "iopub.execute_input": "2022-05-19T16:23:50.680037Z",
          "iopub.status.idle": "2022-05-19T16:23:50.684269Z",
          "shell.execute_reply.started": "2022-05-19T16:23:50.679999Z",
          "shell.execute_reply": "2022-05-19T16:23:50.683412Z"
        },
        "trusted": true,
        "id": "JeZiu6fOYdCJ"
      },
      "execution_count": null,
      "outputs": []
    },
    {
      "cell_type": "markdown",
      "source": [
        "### 1.1) Página 'Sobre'"
      ],
      "metadata": {
        "id": "iGlhbRS3YdCK"
      }
    },
    {
      "cell_type": "code",
      "source": [
        "response_sobre = urlopen(url_sobre)\n",
        "html_sobre = response_sobre.read()\n",
        "html_sobre"
      ],
      "metadata": {
        "_uuid": "d629ff2d2480ee46fbb7e2d37f6b5fab8052498a",
        "_cell_guid": "79c7e3d0-c299-4dcb-8224-4455121ee9b0",
        "execution": {
          "iopub.status.busy": "2022-05-19T16:23:54.301271Z",
          "iopub.execute_input": "2022-05-19T16:23:54.301642Z",
          "iopub.status.idle": "2022-05-19T16:23:59.935065Z",
          "shell.execute_reply.started": "2022-05-19T16:23:54.301595Z",
          "shell.execute_reply": "2022-05-19T16:23:59.9341Z"
        },
        "trusted": true,
        "id": "ggrbgOeGYdCL"
      },
      "execution_count": null,
      "outputs": []
    },
    {
      "cell_type": "code",
      "source": [
        "soup_sobre = BeautifulSoup(html_sobre, 'html.parser')\n",
        "soup_sobre"
      ],
      "metadata": {
        "execution": {
          "iopub.status.busy": "2021-05-20T23:11:16.705934Z",
          "iopub.execute_input": "2021-05-20T23:11:16.706344Z",
          "iopub.status.idle": "2021-05-20T23:11:16.719745Z",
          "shell.execute_reply.started": "2021-05-20T23:11:16.706295Z",
          "shell.execute_reply": "2021-05-20T23:11:16.718238Z"
        },
        "trusted": true,
        "id": "Yc1uhC8BYdCM"
      },
      "execution_count": null,
      "outputs": []
    },
    {
      "cell_type": "markdown",
      "source": [
        "### 1.2) Página de resultados da busca por imóveis"
      ],
      "metadata": {
        "id": "WwmP9BA0YdCM"
      }
    },
    {
      "cell_type": "code",
      "source": [
        "response_busca = urlopen(url_busca)\n",
        "html_busca = response_busca.read()\n",
        "html_busca"
      ],
      "metadata": {
        "execution": {
          "iopub.status.busy": "2021-05-20T23:11:16.721182Z",
          "iopub.execute_input": "2021-05-20T23:11:16.721538Z",
          "iopub.status.idle": "2021-05-20T23:11:17.658347Z",
          "shell.execute_reply.started": "2021-05-20T23:11:16.72151Z",
          "shell.execute_reply": "2021-05-20T23:11:17.657577Z"
        },
        "trusted": true,
        "id": "D2brJxRRYdCN"
      },
      "execution_count": null,
      "outputs": []
    },
    {
      "cell_type": "code",
      "source": [
        "soup_busca = BeautifulSoup(html_busca, 'html.parser')\n",
        "soup_busca"
      ],
      "metadata": {
        "execution": {
          "iopub.status.busy": "2021-05-20T23:11:17.659488Z",
          "iopub.execute_input": "2021-05-20T23:11:17.659766Z",
          "iopub.status.idle": "2021-05-20T23:11:17.693516Z",
          "shell.execute_reply.started": "2021-05-20T23:11:17.659741Z",
          "shell.execute_reply": "2021-05-20T23:11:17.692532Z"
        },
        "trusted": true,
        "id": "1R43e2qvYdCO"
      },
      "execution_count": null,
      "outputs": []
    },
    {
      "cell_type": "markdown",
      "source": [
        "### 1.3) Página de contatos das corretoras"
      ],
      "metadata": {
        "id": "-Jc0HgzhYdCP"
      }
    },
    {
      "cell_type": "code",
      "source": [
        "response_corretoras = urlopen(url_corretoras)\n",
        "html_corretoras = response_corretoras.read()\n",
        "html_corretoras"
      ],
      "metadata": {
        "execution": {
          "iopub.status.busy": "2021-05-20T23:11:17.694646Z",
          "iopub.execute_input": "2021-05-20T23:11:17.695042Z",
          "iopub.status.idle": "2021-05-20T23:11:18.630214Z",
          "shell.execute_reply.started": "2021-05-20T23:11:17.695002Z",
          "shell.execute_reply": "2021-05-20T23:11:18.629383Z"
        },
        "trusted": true,
        "id": "meyD_qXuYdCP"
      },
      "execution_count": null,
      "outputs": []
    },
    {
      "cell_type": "code",
      "source": [
        "soup_corretoras = BeautifulSoup(html_corretoras, 'html.parser')\n",
        "soup_corretoras"
      ],
      "metadata": {
        "execution": {
          "iopub.status.busy": "2021-05-20T23:11:18.63156Z",
          "iopub.execute_input": "2021-05-20T23:11:18.631958Z",
          "iopub.status.idle": "2021-05-20T23:11:18.647871Z",
          "shell.execute_reply.started": "2021-05-20T23:11:18.631917Z",
          "shell.execute_reply": "2021-05-20T23:11:18.647138Z"
        },
        "trusted": true,
        "id": "MZ1kIIVwYdCQ"
      },
      "execution_count": null,
      "outputs": []
    },
    {
      "cell_type": "markdown",
      "source": [
        "## 2) Lista de desafios da página 'Sobre'"
      ],
      "metadata": {
        "id": "s6cttVpvYdCQ"
      }
    },
    {
      "cell_type": "markdown",
      "source": [
        "### 2.1) Desafio 1: que tal coletar o texto 'Sobre este site' para começar?"
      ],
      "metadata": {
        "id": "ZP93Qya_YdCR"
      }
    },
    {
      "cell_type": "code",
      "source": [
        "soup_sobre.find('div', {'class': 'about'}).find('h2').get_text()"
      ],
      "metadata": {
        "execution": {
          "iopub.status.busy": "2021-05-20T23:11:18.649259Z",
          "iopub.execute_input": "2021-05-20T23:11:18.649649Z",
          "iopub.status.idle": "2021-05-20T23:11:18.660586Z",
          "shell.execute_reply.started": "2021-05-20T23:11:18.649612Z",
          "shell.execute_reply": "2021-05-20T23:11:18.659825Z"
        },
        "trusted": true,
        "id": "qfRtghqIYdCR"
      },
      "execution_count": null,
      "outputs": []
    },
    {
      "cell_type": "markdown",
      "source": [
        "### 2.2) Desafio 2: agora extraia o link contido na palavra 'Ocean'."
      ],
      "metadata": {
        "id": "pceeee71YdCS"
      }
    },
    {
      "cell_type": "code",
      "source": [
        "soup_sobre.find('div', {'class': 'about'}).find('a').get('href')"
      ],
      "metadata": {
        "execution": {
          "iopub.status.busy": "2021-05-20T23:11:18.661768Z",
          "iopub.execute_input": "2021-05-20T23:11:18.662008Z",
          "iopub.status.idle": "2021-05-20T23:11:18.672358Z",
          "shell.execute_reply.started": "2021-05-20T23:11:18.661985Z",
          "shell.execute_reply": "2021-05-20T23:11:18.671363Z"
        },
        "trusted": true,
        "id": "jjUi4lgdYdCS"
      },
      "execution_count": null,
      "outputs": []
    },
    {
      "cell_type": "markdown",
      "source": [
        "### 2.3) Desafio 3: Em seguida, colete todos os itens desta lista."
      ],
      "metadata": {
        "id": "2Ym4oWYAYdCT"
      }
    },
    {
      "cell_type": "code",
      "source": [
        "soup_sobre.find('div', {'class': 'about'}).find('ol').find_all('li')"
      ],
      "metadata": {
        "execution": {
          "iopub.status.busy": "2021-05-20T23:11:18.673417Z",
          "iopub.execute_input": "2021-05-20T23:11:18.673692Z",
          "iopub.status.idle": "2021-05-20T23:11:18.684819Z",
          "shell.execute_reply.started": "2021-05-20T23:11:18.673664Z",
          "shell.execute_reply": "2021-05-20T23:11:18.683821Z"
        },
        "trusted": true,
        "id": "t7kUNdZWYdCT"
      },
      "execution_count": null,
      "outputs": []
    },
    {
      "cell_type": "code",
      "source": [
        "for item in soup_sobre.find('div', {'class': 'about'}).find('ol').find_all('li'):\n",
        "    print(item.get_text())"
      ],
      "metadata": {
        "execution": {
          "iopub.status.busy": "2021-05-20T23:11:18.68598Z",
          "iopub.execute_input": "2021-05-20T23:11:18.68642Z",
          "iopub.status.idle": "2021-05-20T23:11:18.695118Z",
          "shell.execute_reply.started": "2021-05-20T23:11:18.686392Z",
          "shell.execute_reply": "2021-05-20T23:11:18.694452Z"
        },
        "trusted": true,
        "id": "eGBIA0coYdCU"
      },
      "execution_count": null,
      "outputs": []
    },
    {
      "cell_type": "markdown",
      "source": [
        "### 2.4) Desafio 4: por fim, colete apenas este último item da lista."
      ],
      "metadata": {
        "id": "r5HgN89MYdCU"
      }
    },
    {
      "cell_type": "code",
      "source": [
        "soup_sobre.find('div', {'class': 'about'}).find('ol').find_all('li')[-1].get_text()"
      ],
      "metadata": {
        "execution": {
          "iopub.status.busy": "2021-05-20T23:11:18.69631Z",
          "iopub.execute_input": "2021-05-20T23:11:18.696796Z",
          "iopub.status.idle": "2021-05-20T23:11:18.705084Z",
          "shell.execute_reply.started": "2021-05-20T23:11:18.696767Z",
          "shell.execute_reply": "2021-05-20T23:11:18.704112Z"
        },
        "trusted": true,
        "id": "HC_dTMYSYdCV"
      },
      "execution_count": null,
      "outputs": []
    },
    {
      "cell_type": "markdown",
      "source": [
        "## 3) Coletando a lista de resultados da busca por imóveis"
      ],
      "metadata": {
        "id": "6oic0bbuYdCW"
      }
    },
    {
      "cell_type": "code",
      "source": [
        "import pandas as pd"
      ],
      "metadata": {
        "execution": {
          "iopub.status.busy": "2021-05-20T23:11:18.7062Z",
          "iopub.execute_input": "2021-05-20T23:11:18.706494Z",
          "iopub.status.idle": "2021-05-20T23:11:18.714936Z",
          "shell.execute_reply.started": "2021-05-20T23:11:18.706465Z",
          "shell.execute_reply": "2021-05-20T23:11:18.714238Z"
        },
        "trusted": true,
        "id": "Khn4XEP6YdCW"
      },
      "execution_count": null,
      "outputs": []
    },
    {
      "cell_type": "markdown",
      "source": [
        "### 3.1) Coletando apenas o primeiro item da lista"
      ],
      "metadata": {
        "id": "Rav_cMAsYdCX"
      }
    },
    {
      "cell_type": "code",
      "source": [
        "soup_busca.find('div', {'class': 'ad-card'})"
      ],
      "metadata": {
        "execution": {
          "iopub.status.busy": "2021-05-20T23:11:18.715957Z",
          "iopub.execute_input": "2021-05-20T23:11:18.716464Z",
          "iopub.status.idle": "2021-05-20T23:11:18.732063Z",
          "shell.execute_reply.started": "2021-05-20T23:11:18.716434Z",
          "shell.execute_reply": "2021-05-20T23:11:18.731453Z"
        },
        "trusted": true,
        "id": "VS7TFJceYdCX"
      },
      "execution_count": null,
      "outputs": []
    },
    {
      "cell_type": "markdown",
      "source": [
        "#### 3.1.1) Coletando as características"
      ],
      "metadata": {
        "id": "NXdZufe_YdCY"
      }
    },
    {
      "cell_type": "code",
      "source": [
        "soup_busca.find('ul', {'class': 'features'})"
      ],
      "metadata": {
        "execution": {
          "iopub.status.busy": "2021-05-20T23:11:18.73319Z",
          "iopub.execute_input": "2021-05-20T23:11:18.733661Z",
          "iopub.status.idle": "2021-05-20T23:11:18.744416Z",
          "shell.execute_reply.started": "2021-05-20T23:11:18.733629Z",
          "shell.execute_reply": "2021-05-20T23:11:18.743783Z"
        },
        "trusted": true,
        "id": "Fbvhq5nEYdCZ"
      },
      "execution_count": null,
      "outputs": []
    },
    {
      "cell_type": "code",
      "source": [
        "soup_busca.find('ul', {'class': 'features'}).find_all('li')"
      ],
      "metadata": {
        "execution": {
          "iopub.status.busy": "2021-05-20T23:11:18.745507Z",
          "iopub.execute_input": "2021-05-20T23:11:18.745976Z",
          "iopub.status.idle": "2021-05-20T23:11:18.755185Z",
          "shell.execute_reply.started": "2021-05-20T23:11:18.745942Z",
          "shell.execute_reply": "2021-05-20T23:11:18.754475Z"
        },
        "trusted": true,
        "id": "Elx7oAeZYdCZ"
      },
      "execution_count": null,
      "outputs": []
    },
    {
      "cell_type": "code",
      "source": [
        "for caracteristica in soup_busca.find('ul', {'class': 'features'}).find_all('li'):\n",
        "    print(caracteristica.get_text())"
      ],
      "metadata": {
        "execution": {
          "iopub.status.busy": "2021-05-20T23:11:18.756062Z",
          "iopub.execute_input": "2021-05-20T23:11:18.756441Z",
          "iopub.status.idle": "2021-05-20T23:11:18.766123Z",
          "shell.execute_reply.started": "2021-05-20T23:11:18.756395Z",
          "shell.execute_reply": "2021-05-20T23:11:18.765448Z"
        },
        "trusted": true,
        "id": "jLPOXJTNYdCa"
      },
      "execution_count": null,
      "outputs": []
    },
    {
      "cell_type": "markdown",
      "source": [
        "#### 3.1.2) Coletando os recursos"
      ],
      "metadata": {
        "id": "TWqch9E6YdCa"
      }
    },
    {
      "cell_type": "code",
      "source": [
        "soup_busca.find('ul', {'class': 'resources'})"
      ],
      "metadata": {
        "execution": {
          "iopub.status.busy": "2021-05-20T23:11:18.767075Z",
          "iopub.execute_input": "2021-05-20T23:11:18.767514Z",
          "iopub.status.idle": "2021-05-20T23:11:18.779809Z",
          "shell.execute_reply.started": "2021-05-20T23:11:18.767486Z",
          "shell.execute_reply": "2021-05-20T23:11:18.778854Z"
        },
        "trusted": true,
        "id": "kV6aXRMBYdCb"
      },
      "execution_count": null,
      "outputs": []
    },
    {
      "cell_type": "code",
      "source": [
        "soup_busca.find('ul', {'class': 'resources'}).find_all('li')"
      ],
      "metadata": {
        "execution": {
          "iopub.status.busy": "2021-05-20T23:11:18.781007Z",
          "iopub.execute_input": "2021-05-20T23:11:18.781251Z",
          "iopub.status.idle": "2021-05-20T23:11:18.791708Z",
          "shell.execute_reply.started": "2021-05-20T23:11:18.781227Z",
          "shell.execute_reply": "2021-05-20T23:11:18.79076Z"
        },
        "trusted": true,
        "id": "TnUoeo_kYdCc"
      },
      "execution_count": null,
      "outputs": []
    },
    {
      "cell_type": "code",
      "source": [
        "for recurso in soup_busca.find('ul', {'class': 'resources'}).find_all('li'):\n",
        "    print(recurso.get_text())"
      ],
      "metadata": {
        "execution": {
          "iopub.status.busy": "2021-05-20T23:11:18.792901Z",
          "iopub.execute_input": "2021-05-20T23:11:18.793223Z",
          "iopub.status.idle": "2021-05-20T23:11:18.802622Z",
          "shell.execute_reply.started": "2021-05-20T23:11:18.793197Z",
          "shell.execute_reply": "2021-05-20T23:11:18.801939Z"
        },
        "trusted": true,
        "id": "JZ3vqDclYdCc"
      },
      "execution_count": null,
      "outputs": []
    },
    {
      "cell_type": "markdown",
      "source": [
        "#### 3.1.3) Coletando todos os valores (aluguel, condomínio e IPTU)"
      ],
      "metadata": {
        "id": "7mpVj2DrYdCd"
      }
    },
    {
      "cell_type": "code",
      "source": [
        "soup_busca.find('div', {'class': 'ad-card-price'})"
      ],
      "metadata": {
        "execution": {
          "iopub.status.busy": "2021-05-20T23:11:18.803546Z",
          "iopub.execute_input": "2021-05-20T23:11:18.804004Z",
          "iopub.status.idle": "2021-05-20T23:11:18.813495Z",
          "shell.execute_reply.started": "2021-05-20T23:11:18.803976Z",
          "shell.execute_reply": "2021-05-20T23:11:18.812766Z"
        },
        "trusted": true,
        "id": "SgC5wg4rYdCe"
      },
      "execution_count": null,
      "outputs": []
    },
    {
      "cell_type": "code",
      "source": [
        "soup_busca.find('div', {'class': 'ad-card-price'}).find_all('p')"
      ],
      "metadata": {
        "execution": {
          "iopub.status.busy": "2021-05-20T23:11:18.814889Z",
          "iopub.execute_input": "2021-05-20T23:11:18.81516Z",
          "iopub.status.idle": "2021-05-20T23:11:18.824458Z",
          "shell.execute_reply.started": "2021-05-20T23:11:18.815128Z",
          "shell.execute_reply": "2021-05-20T23:11:18.823783Z"
        },
        "trusted": true,
        "id": "ZMDyJsALYdCe"
      },
      "execution_count": null,
      "outputs": []
    },
    {
      "cell_type": "code",
      "source": [
        "soup_busca.find('div', {'class': 'ad-card-price'}).find_all('p')[:-1]"
      ],
      "metadata": {
        "execution": {
          "iopub.status.busy": "2021-05-20T23:11:18.825542Z",
          "iopub.execute_input": "2021-05-20T23:11:18.825933Z",
          "iopub.status.idle": "2021-05-20T23:11:18.834516Z",
          "shell.execute_reply.started": "2021-05-20T23:11:18.825907Z",
          "shell.execute_reply": "2021-05-20T23:11:18.833781Z"
        },
        "trusted": true,
        "id": "mKaVRsOmYdCf"
      },
      "execution_count": null,
      "outputs": []
    },
    {
      "cell_type": "code",
      "source": [
        "for precos in soup_busca.find('div', {'class': 'ad-card-price'}).find_all('p')[:-1]:\n",
        "    print(precos.get_text())"
      ],
      "metadata": {
        "execution": {
          "iopub.status.busy": "2021-05-20T23:11:18.835392Z",
          "iopub.execute_input": "2021-05-20T23:11:18.835778Z",
          "iopub.status.idle": "2021-05-20T23:11:18.845232Z",
          "shell.execute_reply.started": "2021-05-20T23:11:18.83575Z",
          "shell.execute_reply": "2021-05-20T23:11:18.8446Z"
        },
        "trusted": true,
        "id": "p-d4bWdoYdCg"
      },
      "execution_count": null,
      "outputs": []
    },
    {
      "cell_type": "markdown",
      "source": [
        "#### 3.1.4) Coletando a corretora"
      ],
      "metadata": {
        "id": "UArSP2eTYdCh"
      }
    },
    {
      "cell_type": "code",
      "source": [
        "soup_busca.find('div', {'class': 'ad-card-price'})"
      ],
      "metadata": {
        "execution": {
          "iopub.status.busy": "2021-05-20T23:11:18.846469Z",
          "iopub.execute_input": "2021-05-20T23:11:18.846965Z",
          "iopub.status.idle": "2021-05-20T23:11:18.856954Z",
          "shell.execute_reply.started": "2021-05-20T23:11:18.846927Z",
          "shell.execute_reply": "2021-05-20T23:11:18.856114Z"
        },
        "trusted": true,
        "id": "vphb3DKsYdCh"
      },
      "execution_count": null,
      "outputs": []
    },
    {
      "cell_type": "code",
      "source": [
        "soup_busca.find('div', {'class': 'ad-card-price'}).find_all('p')"
      ],
      "metadata": {
        "execution": {
          "iopub.status.busy": "2021-05-20T23:11:18.858338Z",
          "iopub.execute_input": "2021-05-20T23:11:18.85878Z",
          "iopub.status.idle": "2021-05-20T23:11:18.867295Z",
          "shell.execute_reply.started": "2021-05-20T23:11:18.85875Z",
          "shell.execute_reply": "2021-05-20T23:11:18.866673Z"
        },
        "trusted": true,
        "id": "IR4t2dpPYdCi"
      },
      "execution_count": null,
      "outputs": []
    },
    {
      "cell_type": "code",
      "source": [
        "soup_busca.find('div', {'class': 'ad-card-price'}).find_all('p')[-1]"
      ],
      "metadata": {
        "execution": {
          "iopub.status.busy": "2021-05-20T23:11:18.8683Z",
          "iopub.execute_input": "2021-05-20T23:11:18.868739Z",
          "iopub.status.idle": "2021-05-20T23:11:18.877971Z",
          "shell.execute_reply.started": "2021-05-20T23:11:18.86871Z",
          "shell.execute_reply": "2021-05-20T23:11:18.877192Z"
        },
        "trusted": true,
        "id": "3bUWjOXNYdCi"
      },
      "execution_count": null,
      "outputs": []
    },
    {
      "cell_type": "code",
      "source": [
        "soup_busca.find('div', {'class': 'ad-card-price'}).find_all('p')[-1].get_text()"
      ],
      "metadata": {
        "execution": {
          "iopub.status.busy": "2021-05-20T23:11:18.879048Z",
          "iopub.execute_input": "2021-05-20T23:11:18.879281Z",
          "iopub.status.idle": "2021-05-20T23:11:18.889055Z",
          "shell.execute_reply.started": "2021-05-20T23:11:18.879259Z",
          "shell.execute_reply": "2021-05-20T23:11:18.888355Z"
        },
        "trusted": true,
        "id": "G0Iz0KfpYdCi"
      },
      "execution_count": null,
      "outputs": []
    },
    {
      "cell_type": "markdown",
      "source": [
        "#### 3.1.5) Coletando a localização"
      ],
      "metadata": {
        "id": "uwd61Wh3YdCj"
      }
    },
    {
      "cell_type": "code",
      "source": [
        "soup_busca.find('div', {'class': 'ad-card-info'})"
      ],
      "metadata": {
        "execution": {
          "iopub.status.busy": "2021-05-20T23:11:18.88994Z",
          "iopub.execute_input": "2021-05-20T23:11:18.89023Z",
          "iopub.status.idle": "2021-05-20T23:11:18.905958Z",
          "shell.execute_reply.started": "2021-05-20T23:11:18.890204Z",
          "shell.execute_reply": "2021-05-20T23:11:18.905004Z"
        },
        "trusted": true,
        "id": "APR-n_LdYdCj"
      },
      "execution_count": null,
      "outputs": []
    },
    {
      "cell_type": "code",
      "source": [
        "soup_busca.find('div', {'class': 'ad-card-info'}).find('p')"
      ],
      "metadata": {
        "execution": {
          "iopub.status.busy": "2021-05-20T23:11:18.907562Z",
          "iopub.execute_input": "2021-05-20T23:11:18.908006Z",
          "iopub.status.idle": "2021-05-20T23:11:18.917041Z",
          "shell.execute_reply.started": "2021-05-20T23:11:18.907963Z",
          "shell.execute_reply": "2021-05-20T23:11:18.916189Z"
        },
        "trusted": true,
        "id": "sBrWATcXYdCj"
      },
      "execution_count": null,
      "outputs": []
    },
    {
      "cell_type": "code",
      "source": [
        "soup_busca.find('div', {'class': 'ad-card-info'}).find('p').get_text()"
      ],
      "metadata": {
        "execution": {
          "iopub.status.busy": "2021-05-20T23:11:18.918157Z",
          "iopub.execute_input": "2021-05-20T23:11:18.918471Z",
          "iopub.status.idle": "2021-05-20T23:11:18.930063Z",
          "shell.execute_reply.started": "2021-05-20T23:11:18.918445Z",
          "shell.execute_reply": "2021-05-20T23:11:18.929199Z"
        },
        "trusted": true,
        "id": "IVh7EfB-YdCk"
      },
      "execution_count": null,
      "outputs": []
    },
    {
      "cell_type": "markdown",
      "source": [
        "### 3.2) Coletando todos os itens da primeira página"
      ],
      "metadata": {
        "id": "NFGWKCsTYdCk"
      }
    },
    {
      "cell_type": "code",
      "source": [
        "soup_busca.find('div', {'class': 'ad-card-list'})"
      ],
      "metadata": {
        "execution": {
          "iopub.status.busy": "2021-05-20T23:11:18.931736Z",
          "iopub.execute_input": "2021-05-20T23:11:18.932091Z",
          "iopub.status.idle": "2021-05-20T23:11:18.956439Z",
          "shell.execute_reply.started": "2021-05-20T23:11:18.932064Z",
          "shell.execute_reply": "2021-05-20T23:11:18.955571Z"
        },
        "trusted": true,
        "id": "paAVANFxYdCl"
      },
      "execution_count": null,
      "outputs": []
    },
    {
      "cell_type": "code",
      "source": [
        "soup_busca.find('div', {'class': 'ad-card-list'}).find_all('div', {'class': 'ad-card'})"
      ],
      "metadata": {
        "execution": {
          "iopub.status.busy": "2021-05-20T23:11:18.957635Z",
          "iopub.execute_input": "2021-05-20T23:11:18.957904Z",
          "iopub.status.idle": "2021-05-20T23:11:18.967064Z",
          "shell.execute_reply.started": "2021-05-20T23:11:18.957874Z",
          "shell.execute_reply": "2021-05-20T23:11:18.966192Z"
        },
        "trusted": true,
        "id": "txvxEagJYdCl"
      },
      "execution_count": null,
      "outputs": []
    },
    {
      "cell_type": "code",
      "source": [
        "for resultado in soup_busca.find('div', {'class': 'ad-card-list'}).find_all('div', {'class': 'ad-card'}):\n",
        "    print(resultado)\n",
        "    print('-------------')"
      ],
      "metadata": {
        "execution": {
          "iopub.status.busy": "2021-05-20T23:11:18.968097Z",
          "iopub.execute_input": "2021-05-20T23:11:18.968463Z",
          "iopub.status.idle": "2021-05-20T23:11:18.981226Z",
          "shell.execute_reply.started": "2021-05-20T23:11:18.968432Z",
          "shell.execute_reply": "2021-05-20T23:11:18.980183Z"
        },
        "trusted": true,
        "id": "KmCdqYY4YdCm"
      },
      "execution_count": null,
      "outputs": []
    },
    {
      "cell_type": "code",
      "source": [
        "for resultado in soup_busca.find('div', {'class': 'ad-card-list'}).find_all('div', {'class': 'ad-card'}):\n",
        "    caracteristicas = resultado.find('ul', {'class': 'features'})\n",
        "    print(caracteristicas)\n",
        "    print('-------------')"
      ],
      "metadata": {
        "execution": {
          "iopub.status.busy": "2021-05-20T23:11:18.982196Z",
          "iopub.execute_input": "2021-05-20T23:11:18.98243Z",
          "iopub.status.idle": "2021-05-20T23:11:18.990189Z",
          "shell.execute_reply.started": "2021-05-20T23:11:18.982408Z",
          "shell.execute_reply": "2021-05-20T23:11:18.989533Z"
        },
        "trusted": true,
        "id": "QFEYaDICYdCm"
      },
      "execution_count": null,
      "outputs": []
    },
    {
      "cell_type": "code",
      "source": [
        "for resultado in soup_busca.find('div', {'class': 'ad-card-list'}).find_all('div', {'class': 'ad-card'}):\n",
        "    caracteristicas = resultado.find('ul', {'class': 'features'})\n",
        "    \n",
        "    for caract in caracteristicas.find_all('li'):\n",
        "        print(caract.get_text())\n",
        "    \n",
        "    print('-------------')"
      ],
      "metadata": {
        "execution": {
          "iopub.status.busy": "2021-05-20T23:11:18.990973Z",
          "iopub.execute_input": "2021-05-20T23:11:18.991196Z",
          "iopub.status.idle": "2021-05-20T23:11:19.00199Z",
          "shell.execute_reply.started": "2021-05-20T23:11:18.991174Z",
          "shell.execute_reply": "2021-05-20T23:11:19.000595Z"
        },
        "trusted": true,
        "id": "wRH3a35LYdCm"
      },
      "execution_count": null,
      "outputs": []
    },
    {
      "cell_type": "code",
      "source": [
        "for resultado in soup_busca.find('div', {'class': 'ad-card-list'}).find_all('div', {'class': 'ad-card'}):\n",
        "    caracteristicas = resultado.find('ul', {'class': 'features'})\n",
        "    recursos = resultado.find('ul', {'class': 'resources'})\n",
        "    \n",
        "    for caract in caracteristicas.find_all('li'):\n",
        "        print(caract.get_text())\n",
        "        \n",
        "    for recur in recursos.find_all('li'):\n",
        "        print(recur.get_text())\n",
        "        \n",
        "    print('-------------')"
      ],
      "metadata": {
        "execution": {
          "iopub.status.busy": "2021-05-20T23:11:19.003509Z",
          "iopub.execute_input": "2021-05-20T23:11:19.0038Z",
          "iopub.status.idle": "2021-05-20T23:11:19.018235Z",
          "shell.execute_reply.started": "2021-05-20T23:11:19.003763Z",
          "shell.execute_reply": "2021-05-20T23:11:19.017178Z"
        },
        "trusted": true,
        "id": "k_3nxE-SYdCn"
      },
      "execution_count": null,
      "outputs": []
    },
    {
      "cell_type": "code",
      "source": [
        "for resultado in soup_busca.find('div', {'class': 'ad-card-list'}).find_all('div', {'class': 'ad-card'}):\n",
        "    caracteristicas = resultado.find('ul', {'class': 'features'})\n",
        "    recursos = resultado.find('ul', {'class': 'resources'})\n",
        "    precos_corretora = resultado.find('div', {'class': 'ad-card-price'})\n",
        "    \n",
        "    for caract in caracteristicas.find_all('li'):\n",
        "        print(caract.get_text())\n",
        "        \n",
        "    for recur in recursos.find_all('li'):\n",
        "        print(recur.get_text())\n",
        "        \n",
        "    for prec_corr in precos_corretora.find_all('p'):\n",
        "        print(prec_corr.get_text())\n",
        "        \n",
        "    print('-------------')"
      ],
      "metadata": {
        "execution": {
          "iopub.status.busy": "2021-05-20T23:11:19.022905Z",
          "iopub.execute_input": "2021-05-20T23:11:19.02315Z",
          "iopub.status.idle": "2021-05-20T23:11:19.037333Z",
          "shell.execute_reply.started": "2021-05-20T23:11:19.023126Z",
          "shell.execute_reply": "2021-05-20T23:11:19.036544Z"
        },
        "trusted": true,
        "id": "2iRCh03dYdCn"
      },
      "execution_count": null,
      "outputs": []
    },
    {
      "cell_type": "code",
      "source": [
        "for resultado in soup_busca.find('div', {'class': 'ad-card-list'}).find_all('div', {'class': 'ad-card'}):\n",
        "    caracteristicas = resultado.find('ul', {'class': 'features'})\n",
        "    recursos = resultado.find('ul', {'class': 'resources'})\n",
        "    precos_corretora = resultado.find('div', {'class': 'ad-card-price'})\n",
        "    localizacao = resultado.find('div', {'class': 'ad-card-info'}).find('p')\n",
        "    \n",
        "    for caract in caracteristicas.find_all('li'):\n",
        "        print(caract.get_text())\n",
        "        \n",
        "    for recur in recursos.find_all('li'):\n",
        "        print(recur.get_text())\n",
        "        \n",
        "    for prec_corr in precos_corretora.find_all('p'):\n",
        "        print(prec_corr.get_text())\n",
        "    \n",
        "    print(localizacao.get_text())\n",
        "        \n",
        "    print('-------------')"
      ],
      "metadata": {
        "execution": {
          "iopub.status.busy": "2021-05-20T23:11:19.038539Z",
          "iopub.execute_input": "2021-05-20T23:11:19.038775Z",
          "iopub.status.idle": "2021-05-20T23:11:19.054425Z",
          "shell.execute_reply.started": "2021-05-20T23:11:19.038752Z",
          "shell.execute_reply": "2021-05-20T23:11:19.053254Z"
        },
        "trusted": true,
        "id": "ab9F6-fwYdCo"
      },
      "execution_count": null,
      "outputs": []
    },
    {
      "cell_type": "markdown",
      "source": [
        "#### 3.2.1) Persistindo os dados coletados em um DataFrame (tentativa 1)"
      ],
      "metadata": {
        "id": "g4RxhvXZYdCp"
      }
    },
    {
      "cell_type": "code",
      "source": [
        "resutados_lista = []"
      ],
      "metadata": {
        "execution": {
          "iopub.status.busy": "2021-05-20T23:11:19.055755Z",
          "iopub.execute_input": "2021-05-20T23:11:19.056021Z",
          "iopub.status.idle": "2021-05-20T23:11:19.06206Z",
          "shell.execute_reply.started": "2021-05-20T23:11:19.055998Z",
          "shell.execute_reply": "2021-05-20T23:11:19.061358Z"
        },
        "trusted": true,
        "id": "lyACBIk4YdCp"
      },
      "execution_count": null,
      "outputs": []
    },
    {
      "cell_type": "code",
      "source": [
        "for resultado in soup_busca.find('div', {'class': 'ad-card-list'}).find_all('div', {'class': 'ad-card'}):\n",
        "    caracteristicas = resultado.find('ul', {'class': 'features'})\n",
        "    recursos = resultado.find('ul', {'class': 'resources'})\n",
        "    precos_corretora = resultado.find('div', {'class': 'ad-card-price'})\n",
        "    localizacao = resultado.find('div', {'class': 'ad-card-info'}).find('p')\n",
        "    \n",
        "    resutado_dict = {}\n",
        "    \n",
        "    resutado_dict['área'] = caracteristicas.find_all('li')[0].get_text()\n",
        "    resutado_dict['quartos'] = caracteristicas.find_all('li')[1].get_text()\n",
        "    resutado_dict['banheiros'] = caracteristicas.find_all('li')[2].get_text()\n",
        "    resutado_dict['vagas garagem'] = caracteristicas.find_all('li')[3].get_text()\n",
        "    \n",
        "    for recur in recursos.find_all('li'):\n",
        "        resutado_dict[recur.get_text().lower()] = 'sim'\n",
        "        \n",
        "    resutado_dict['aluguel'] = precos_corretora.find_all('p')[0].get_text()\n",
        "    resutado_dict['condomínio'] = precos_corretora.find_all('p')[1].get_text()\n",
        "    resutado_dict['iptu'] = precos_corretora.find_all('p')[2].get_text()\n",
        "    resutado_dict['corretora'] = precos_corretora.find_all('p')[3].get_text()\n",
        "    \n",
        "    resutado_dict['localizacao'] = localizacao.get_text()\n",
        "    \n",
        "    resutados_lista.append(resutado_dict)"
      ],
      "metadata": {
        "execution": {
          "iopub.status.busy": "2021-05-20T23:11:19.063266Z",
          "iopub.execute_input": "2021-05-20T23:11:19.063612Z",
          "iopub.status.idle": "2021-05-20T23:11:19.077794Z",
          "shell.execute_reply.started": "2021-05-20T23:11:19.063584Z",
          "shell.execute_reply": "2021-05-20T23:11:19.076699Z"
        },
        "trusted": true,
        "id": "BTZl-N5NYdCp"
      },
      "execution_count": null,
      "outputs": []
    },
    {
      "cell_type": "code",
      "source": [
        "resutados_lista"
      ],
      "metadata": {
        "execution": {
          "iopub.status.busy": "2021-05-20T23:11:19.079284Z",
          "iopub.execute_input": "2021-05-20T23:11:19.079732Z",
          "iopub.status.idle": "2021-05-20T23:11:19.092674Z",
          "shell.execute_reply.started": "2021-05-20T23:11:19.079688Z",
          "shell.execute_reply": "2021-05-20T23:11:19.0917Z"
        },
        "trusted": true,
        "id": "uMkFMgsXYdCq"
      },
      "execution_count": null,
      "outputs": []
    },
    {
      "cell_type": "code",
      "source": [
        "resultados_df = pd.DataFrame(resutados_lista)"
      ],
      "metadata": {
        "execution": {
          "iopub.status.busy": "2021-05-20T23:11:19.093775Z",
          "iopub.execute_input": "2021-05-20T23:11:19.09404Z",
          "iopub.status.idle": "2021-05-20T23:11:19.10335Z",
          "shell.execute_reply.started": "2021-05-20T23:11:19.094015Z",
          "shell.execute_reply": "2021-05-20T23:11:19.102458Z"
        },
        "trusted": true,
        "id": "zDYSZv_bYdCq"
      },
      "execution_count": null,
      "outputs": []
    },
    {
      "cell_type": "code",
      "source": [
        "resultados_df"
      ],
      "metadata": {
        "execution": {
          "iopub.status.busy": "2021-05-20T23:11:19.104358Z",
          "iopub.execute_input": "2021-05-20T23:11:19.104645Z",
          "iopub.status.idle": "2021-05-20T23:11:19.130251Z",
          "shell.execute_reply.started": "2021-05-20T23:11:19.104613Z",
          "shell.execute_reply": "2021-05-20T23:11:19.129508Z"
        },
        "trusted": true,
        "id": "KgPj2mTFYdCr"
      },
      "execution_count": null,
      "outputs": []
    },
    {
      "cell_type": "code",
      "source": [
        "resultados_df.dtypes"
      ],
      "metadata": {
        "execution": {
          "iopub.status.busy": "2021-05-20T23:11:19.13125Z",
          "iopub.execute_input": "2021-05-20T23:11:19.131519Z",
          "iopub.status.idle": "2021-05-20T23:11:19.141877Z",
          "shell.execute_reply.started": "2021-05-20T23:11:19.131494Z",
          "shell.execute_reply": "2021-05-20T23:11:19.141159Z"
        },
        "trusted": true,
        "id": "PHq9QhZcYdCr"
      },
      "execution_count": null,
      "outputs": []
    },
    {
      "cell_type": "markdown",
      "source": [
        "#### 3.2.2) Persistindo os dados coletados em um DataFrame (tentativa 2)"
      ],
      "metadata": {
        "id": "f1Ss4akqYdCs"
      }
    },
    {
      "cell_type": "code",
      "source": [
        "resutados_lista = []"
      ],
      "metadata": {
        "execution": {
          "iopub.status.busy": "2021-05-20T23:11:19.143424Z",
          "iopub.execute_input": "2021-05-20T23:11:19.143772Z",
          "iopub.status.idle": "2021-05-20T23:11:19.149149Z",
          "shell.execute_reply.started": "2021-05-20T23:11:19.14374Z",
          "shell.execute_reply": "2021-05-20T23:11:19.148021Z"
        },
        "trusted": true,
        "id": "CZg6bfh0YdCs"
      },
      "execution_count": null,
      "outputs": []
    },
    {
      "cell_type": "code",
      "source": [
        "for resultado in soup_busca.find('div', {'class': 'ad-card-list'}).find_all('div', {'class': 'ad-card'}):\n",
        "    caracteristicas = resultado.find('ul', {'class': 'features'})\n",
        "    recursos = resultado.find('ul', {'class': 'resources'})\n",
        "    precos_corretora = resultado.find('div', {'class': 'ad-card-price'})\n",
        "    localizacao = resultado.find('div', {'class': 'ad-card-info'}).find('p')\n",
        "    \n",
        "    resutado_dict = {}\n",
        "    \n",
        "    resutado_dict['área'] = int(caracteristicas.find_all('li')[0].get_text().replace(' ','').replace('m²',''))\n",
        "    resutado_dict['quartos'] = int(caracteristicas.find_all('li')[1].get_text().replace(' ','').replace('quarto(s)',''))\n",
        "    resutado_dict['banheiros'] = int(caracteristicas.find_all('li')[2].get_text().replace(' ','').replace('banheiro(s)',''))\n",
        "    resutado_dict['vagas garagem'] = int(caracteristicas.find_all('li')[3].get_text().replace(' ','').replace('vaga(s)',''))\n",
        "    \n",
        "    for recur in recursos.find_all('li'):\n",
        "        resutado_dict[recur.get_text().lower()] = 'sim'\n",
        "        \n",
        "    resutado_dict['aluguel'] = float(precos_corretora.find_all('p')[0].get_text().replace('Aluguel: R$ ','').replace('.','').replace(',','.'))\n",
        "    resutado_dict['condomínio'] = float(precos_corretora.find_all('p')[1].get_text().replace('Condomínio: ','').replace('.','').replace(',','.'))\n",
        "    resutado_dict['iptu'] = float(precos_corretora.find_all('p')[2].get_text().replace('IPTU: R$ ','').replace('.','').replace(',','.'))\n",
        "    \n",
        "    resutado_dict['corretora'] = precos_corretora.find_all('p')[3].get_text().replace('Corretora: ','')\n",
        "    \n",
        "    resutado_dict['localizacao'] = localizacao.get_text().replace('Localização: ','')\n",
        "    \n",
        "    resutados_lista.append(resutado_dict)"
      ],
      "metadata": {
        "execution": {
          "iopub.status.busy": "2021-05-20T23:11:19.151031Z",
          "iopub.execute_input": "2021-05-20T23:11:19.151487Z",
          "iopub.status.idle": "2021-05-20T23:11:19.169487Z",
          "shell.execute_reply.started": "2021-05-20T23:11:19.151439Z",
          "shell.execute_reply": "2021-05-20T23:11:19.168751Z"
        },
        "trusted": true,
        "id": "J-_faGkkYdCs"
      },
      "execution_count": null,
      "outputs": []
    },
    {
      "cell_type": "code",
      "source": [
        "resultados_df = pd.DataFrame(resutados_lista)\n",
        "resultados_df"
      ],
      "metadata": {
        "execution": {
          "iopub.status.busy": "2021-05-20T23:11:19.171154Z",
          "iopub.execute_input": "2021-05-20T23:11:19.171879Z",
          "iopub.status.idle": "2021-05-20T23:11:19.2031Z",
          "shell.execute_reply.started": "2021-05-20T23:11:19.171832Z",
          "shell.execute_reply": "2021-05-20T23:11:19.202017Z"
        },
        "trusted": true,
        "id": "h-cdKSCuYdCt"
      },
      "execution_count": null,
      "outputs": []
    },
    {
      "cell_type": "code",
      "source": [
        "resultados_df = resultados_df.fillna(value='não')\n",
        "resultados_df"
      ],
      "metadata": {
        "execution": {
          "iopub.status.busy": "2021-05-20T23:11:19.204054Z",
          "iopub.execute_input": "2021-05-20T23:11:19.204287Z",
          "iopub.status.idle": "2021-05-20T23:11:19.225234Z",
          "shell.execute_reply.started": "2021-05-20T23:11:19.204264Z",
          "shell.execute_reply": "2021-05-20T23:11:19.224605Z"
        },
        "trusted": true,
        "id": "e_3kJrswYdCt"
      },
      "execution_count": null,
      "outputs": []
    },
    {
      "cell_type": "code",
      "source": [
        "resultados_df.dtypes"
      ],
      "metadata": {
        "execution": {
          "iopub.status.busy": "2021-05-20T23:11:19.226077Z",
          "iopub.execute_input": "2021-05-20T23:11:19.226425Z",
          "iopub.status.idle": "2021-05-20T23:11:19.238618Z",
          "shell.execute_reply.started": "2021-05-20T23:11:19.226386Z",
          "shell.execute_reply": "2021-05-20T23:11:19.237678Z"
        },
        "trusted": true,
        "id": "ot6iaoWsYdCu"
      },
      "execution_count": null,
      "outputs": []
    },
    {
      "cell_type": "markdown",
      "source": [
        "### 3.3) Coletando as imagens da primeira página"
      ],
      "metadata": {
        "id": "HJKQVxwNYdCu"
      }
    },
    {
      "cell_type": "markdown",
      "source": [
        "#### 3.3.1) Criando um diretório para as imagens"
      ],
      "metadata": {
        "id": "a6eAiBdgYdCv"
      }
    },
    {
      "cell_type": "code",
      "source": [
        "import os"
      ],
      "metadata": {
        "execution": {
          "iopub.status.busy": "2021-05-20T23:11:19.240231Z",
          "iopub.execute_input": "2021-05-20T23:11:19.24096Z",
          "iopub.status.idle": "2021-05-20T23:11:19.248835Z",
          "shell.execute_reply.started": "2021-05-20T23:11:19.240918Z",
          "shell.execute_reply": "2021-05-20T23:11:19.247891Z"
        },
        "trusted": true,
        "id": "6zDU7Vw9YdCv"
      },
      "execution_count": null,
      "outputs": []
    },
    {
      "cell_type": "code",
      "source": [
        "os.makedirs('imagens')"
      ],
      "metadata": {
        "execution": {
          "iopub.status.busy": "2021-05-20T23:13:59.535357Z",
          "iopub.execute_input": "2021-05-20T23:13:59.535768Z",
          "iopub.status.idle": "2021-05-20T23:13:59.551597Z",
          "shell.execute_reply.started": "2021-05-20T23:13:59.535731Z",
          "shell.execute_reply": "2021-05-20T23:13:59.550417Z"
        },
        "trusted": true,
        "id": "7-5D2xdiYdCv"
      },
      "execution_count": null,
      "outputs": []
    },
    {
      "cell_type": "markdown",
      "source": [
        "#### 3.3.2) Obtendo as imagens"
      ],
      "metadata": {
        "id": "78EocjyMYdCw"
      }
    },
    {
      "cell_type": "code",
      "source": [
        "soup_busca.find('div', {'class': 'ad-card-list'})"
      ],
      "metadata": {
        "execution": {
          "iopub.status.busy": "2021-05-20T23:11:19.328945Z",
          "iopub.status.idle": "2021-05-20T23:11:19.329784Z"
        },
        "trusted": true,
        "id": "tSLm17MyYdCw"
      },
      "execution_count": null,
      "outputs": []
    },
    {
      "cell_type": "code",
      "source": [
        "soup_busca.find('div', {'class': 'ad-card-list'}).find_all('div', {'class': 'ad-card'})"
      ],
      "metadata": {
        "execution": {
          "iopub.status.busy": "2021-05-20T23:11:19.331171Z",
          "iopub.status.idle": "2021-05-20T23:11:19.33201Z"
        },
        "trusted": true,
        "id": "9CxQb9_lYdCw"
      },
      "execution_count": null,
      "outputs": []
    },
    {
      "cell_type": "code",
      "source": [
        "for resultado in soup_busca.find('div', {'class': 'ad-card-list'}).find_all('div', {'class': 'ad-card'}):\n",
        "    print(resultado.img)"
      ],
      "metadata": {
        "execution": {
          "iopub.status.busy": "2021-05-20T23:11:19.333354Z",
          "iopub.status.idle": "2021-05-20T23:11:19.334198Z"
        },
        "trusted": true,
        "id": "WIACD137YdCx"
      },
      "execution_count": null,
      "outputs": []
    },
    {
      "cell_type": "code",
      "source": [
        "for resultado in soup_busca.find('div', {'class': 'ad-card-list'}).find_all('div', {'class': 'ad-card'}):\n",
        "    print(resultado.img.get('src'))"
      ],
      "metadata": {
        "execution": {
          "iopub.status.busy": "2021-05-20T23:11:19.335472Z",
          "iopub.status.idle": "2021-05-20T23:11:19.336279Z"
        },
        "trusted": true,
        "id": "vWhmbhGhYdCx"
      },
      "execution_count": null,
      "outputs": []
    },
    {
      "cell_type": "code",
      "source": [
        "for resultado in soup_busca.find('div', {'class': 'ad-card-list'}).find_all('div', {'class': 'ad-card'}):\n",
        "    print(resultado.img.get('src').replace('imagens/',''))"
      ],
      "metadata": {
        "execution": {
          "iopub.status.busy": "2021-05-20T23:11:19.337529Z",
          "iopub.status.idle": "2021-05-20T23:11:19.338081Z"
        },
        "trusted": true,
        "id": "kaZEJGCJYdCx"
      },
      "execution_count": null,
      "outputs": []
    },
    {
      "cell_type": "code",
      "source": [
        "endereco = 'https://ocean-web-scraping.herokuapp.com/'\n",
        "\n",
        "for resultado in soup_busca.find('div', {'class': 'ad-card-list'}).find_all('div', {'class': 'ad-card'}):\n",
        "    print(endereco + resultado.img.get('src'))"
      ],
      "metadata": {
        "execution": {
          "iopub.status.busy": "2021-05-20T23:11:19.3389Z",
          "iopub.status.idle": "2021-05-20T23:11:19.339434Z"
        },
        "trusted": true,
        "id": "BUEOTQlYYdCy"
      },
      "execution_count": null,
      "outputs": []
    },
    {
      "cell_type": "code",
      "source": [
        "from urllib.request import urlretrieve"
      ],
      "metadata": {
        "execution": {
          "iopub.status.busy": "2021-05-20T23:11:19.34029Z",
          "iopub.status.idle": "2021-05-20T23:11:19.340829Z"
        },
        "trusted": true,
        "id": "jGgYZXwLYdCy"
      },
      "execution_count": null,
      "outputs": []
    },
    {
      "cell_type": "code",
      "source": [
        "for resultado in soup_busca.find('div', {'class': 'ad-card-list'}).find_all('div', {'class': 'ad-card'}):\n",
        "    endereco_imagem = endereco + resultado.img.get('src')\n",
        "    nome_imagem = resultado.img.get('src').replace('imagens/','')\n",
        "    \n",
        "    urlretrieve(endereco_imagem, '/kaggle/working/imagens/' + nome_imagem)"
      ],
      "metadata": {
        "execution": {
          "iopub.status.busy": "2021-05-20T23:11:19.341676Z",
          "iopub.status.idle": "2021-05-20T23:11:19.342214Z"
        },
        "trusted": true,
        "id": "WmZq87YkYdCz"
      },
      "execution_count": null,
      "outputs": []
    },
    {
      "cell_type": "markdown",
      "source": [
        "#### 3.3.3) Compactando todas as imagens para baixar posteriormente"
      ],
      "metadata": {
        "id": "YBlvVL1nYdC0"
      }
    },
    {
      "cell_type": "code",
      "source": [
        "from zipfile import ZipFile"
      ],
      "metadata": {
        "execution": {
          "iopub.status.busy": "2021-05-20T23:11:19.343034Z",
          "iopub.status.idle": "2021-05-20T23:11:19.343566Z"
        },
        "trusted": true,
        "id": "WS25go87YdC0"
      },
      "execution_count": null,
      "outputs": []
    },
    {
      "cell_type": "code",
      "source": [
        "with ZipFile('imagens.zip', 'w') as zf:\n",
        "    for pasta_principal, sub_pastas, arquivos in os.walk('/kaggle/working/imagens/'):\n",
        "        for arquivo in arquivos:\n",
        "            pasta = os.path.join(pasta_principal, arquivo)\n",
        "            zf.write(pasta)"
      ],
      "metadata": {
        "execution": {
          "iopub.status.busy": "2021-05-20T23:11:19.344413Z",
          "iopub.status.idle": "2021-05-20T23:11:19.344929Z"
        },
        "trusted": true,
        "id": "AQUZzZFlYdC0"
      },
      "execution_count": null,
      "outputs": []
    },
    {
      "cell_type": "markdown",
      "source": [
        "### 3.4) E se eu quiser coletar todos os resultados da busca por imóveis?"
      ],
      "metadata": {
        "id": "0KMB2gytYdC1"
      }
    },
    {
      "cell_type": "markdown",
      "source": [
        "#### 3.4.1) Dados gerais"
      ],
      "metadata": {
        "id": "celF_Qk-YdC1"
      }
    },
    {
      "cell_type": "code",
      "source": [
        "#na resutados_lista = []"
      ],
      "metadata": {
        "execution": {
          "iopub.status.busy": "2021-05-20T23:11:19.345765Z",
          "iopub.status.idle": "2021-05-20T23:11:19.346324Z"
        },
        "trusted": true,
        "id": "0zdCNrPhYdC2"
      },
      "execution_count": null,
      "outputs": []
    },
    {
      "cell_type": "code",
      "source": [
        "#na verdade ele faz de 1 a 5, que são a quantidade de páginas que mostram os imóveis.\n",
        "for i in range(1,6):\n",
        "    url_busca_todos = 'https://ocean-web-scraping.herokuapp.com/results&page=' + str(i) + '.html'\n",
        "    print(url_busca_todos)\n",
        "    response_busca_todos = urlopen(url_busca_todos)\n",
        "    html_busca_todos = response_busca_todos.read()\n",
        "    soup_busca_todos = BeautifulSoup(html_busca_todos, 'html.parser')\n",
        "    \n",
        "    for resultado in soup_busca_todos.find('div', {'class': 'ad-card-list'}).find_all('div', {'class': 'ad-card'}):\n",
        "        caracteristicas = resultado.find('ul', {'class': 'features'})\n",
        "        recursos = resultado.find('ul', {'class': 'resources'})\n",
        "        precos_corretora = resultado.find('div', {'class': 'ad-card-price'})\n",
        "        localizacao = resultado.find('div', {'class': 'ad-card-info'}).find('p')\n",
        "\n",
        "        resutado_dict = {}\n",
        "\n",
        "        resutado_dict['área'] = int(caracteristicas.find_all('li')[0].get_text().replace(' ','').replace('m²',''))\n",
        "        resutado_dict['quartos'] = int(caracteristicas.find_all('li')[1].get_text().replace(' ','').replace('quarto(s)',''))\n",
        "        resutado_dict['banheiros'] = int(caracteristicas.find_all('li')[2].get_text().replace(' ','').replace('banheiro(s)',''))\n",
        "        resutado_dict['vagas garagem'] = int(caracteristicas.find_all('li')[3].get_text().replace(' ','').replace('vaga(s)',''))\n",
        "\n",
        "        for recur in recursos.find_all('li'):\n",
        "            resutado_dict[recur.get_text().lower()] = 'sim'\n",
        "\n",
        "        resutado_dict['aluguel'] = float(precos_corretora.find_all('p')[0].get_text().replace('Aluguel: R$ ','').replace('.','').replace(',','.'))\n",
        "        resutado_dict['condomínio'] = float(precos_corretora.find_all('p')[1].get_text().replace('Condomínio: ','').replace('.','').replace(',','.'))\n",
        "        resutado_dict['iptu'] = float(precos_corretora.find_all('p')[2].get_text().replace('IPTU: R$ ','').replace('.','').replace(',','.'))\n",
        "        resutado_dict['corretora'] = precos_corretora.find_all('p')[3].get_text().replace('Corretora: ','')\n",
        "\n",
        "        resutado_dict['localizacao'] = localizacao.get_text().replace('Localização: ','')\n",
        "\n",
        "        resutados_lista.append(resutado_dict)"
      ],
      "metadata": {
        "execution": {
          "iopub.status.busy": "2021-05-20T23:11:19.347194Z",
          "iopub.status.idle": "2021-05-20T23:11:19.347744Z"
        },
        "trusted": true,
        "id": "mYnVwucSYdC2"
      },
      "execution_count": null,
      "outputs": []
    },
    {
      "cell_type": "code",
      "source": [
        "resultados_df = pd.DataFrame(resutados_lista)\n",
        "resultados_df = resultados_df.fillna(value='não')\n",
        "resultados_df"
      ],
      "metadata": {
        "execution": {
          "iopub.status.busy": "2021-05-20T23:11:19.3486Z",
          "iopub.status.idle": "2021-05-20T23:11:19.349131Z"
        },
        "trusted": true,
        "id": "vAKDqu1rYdC3"
      },
      "execution_count": null,
      "outputs": []
    },
    {
      "cell_type": "markdown",
      "source": [
        "#### Salvando toda a base de dados"
      ],
      "metadata": {
        "id": "0bCGzQ3_YdC4"
      }
    },
    {
      "cell_type": "code",
      "source": [
        "resultados_df.to_csv('./resultados.csv', sep = ';', index = False, encoding = 'utf-8')"
      ],
      "metadata": {
        "execution": {
          "iopub.status.busy": "2021-05-20T23:11:19.350018Z",
          "iopub.status.idle": "2021-05-20T23:11:19.350547Z"
        },
        "trusted": true,
        "id": "O1C2cpwRYdC4"
      },
      "execution_count": null,
      "outputs": []
    },
    {
      "cell_type": "markdown",
      "source": [
        "#### 3.4.2) Imagens"
      ],
      "metadata": {
        "id": "b1QSSFTHYdC4"
      }
    },
    {
      "cell_type": "code",
      "source": [
        "for i in range(1,6):\n",
        "    url_busca_todos = 'https://ocean-web-scraping.herokuapp.com/results&page=' + str(i) + '.html'\n",
        "    print(url_busca_todos)\n",
        "    response_busca_todos = urlopen(url_busca_todos)\n",
        "    html_busca_todos = response_busca_todos.read()\n",
        "    soup_busca_todos = BeautifulSoup(html_busca_todos, 'html.parser')\n",
        "    \n",
        "    endereco = 'https://ocean-web-scraping.herokuapp.com/'\n",
        "    \n",
        "    for resultado in soup_busca_todos.find('div', {'class': 'ad-card-list'}).find_all('div', {'class': 'ad-card'}):\n",
        "        endereco_imagem = endereco + resultado.img.get('src')\n",
        "        nome_imagem = resultado.img.get('src').replace('imagens/','')\n",
        "    \n",
        "        urlretrieve(endereco_imagem, '/kaggle/working/imagens/' + nome_imagem)"
      ],
      "metadata": {
        "execution": {
          "iopub.status.busy": "2021-05-20T23:11:19.351354Z",
          "iopub.status.idle": "2021-05-20T23:11:19.35187Z"
        },
        "trusted": true,
        "id": "FUVfHGRhYdC5"
      },
      "execution_count": null,
      "outputs": []
    },
    {
      "cell_type": "code",
      "source": [
        "with ZipFile('imagens.zip', 'w') as zf:\n",
        "    for pasta_principal, sub_pastas, arquivos in os.walk('/kaggle/working/imagens/'):\n",
        "        for arquivo in arquivos:\n",
        "            pasta = os.path.join(pasta_principal, arquivo)\n",
        "            zf.write(pasta)"
      ],
      "metadata": {
        "execution": {
          "iopub.status.busy": "2021-05-20T23:11:19.352699Z",
          "iopub.status.idle": "2021-05-20T23:11:19.353278Z"
        },
        "trusted": true,
        "id": "tGjtXzjRYdC6"
      },
      "execution_count": null,
      "outputs": []
    },
    {
      "cell_type": "markdown",
      "source": [
        "## 4) Coletando a lista de contato das corretoras"
      ],
      "metadata": {
        "id": "KIIXaS9xYdC6"
      }
    },
    {
      "cell_type": "code",
      "source": [
        "lista_corretoras = []\n",
        "lista_nomes = []\n",
        "lista_contatos = []\n",
        "contatos_corretoras_dict = {}"
      ],
      "metadata": {
        "execution": {
          "iopub.status.busy": "2021-05-20T23:11:19.354147Z",
          "iopub.status.idle": "2021-05-20T23:11:19.354547Z"
        },
        "trusted": true,
        "id": "nFxyARaxYdC7"
      },
      "execution_count": null,
      "outputs": []
    },
    {
      "cell_type": "markdown",
      "source": [
        "### 4.1) Coletando dados da corretora 'Tubarão'"
      ],
      "metadata": {
        "id": "8SIr8UaQYdDB"
      }
    },
    {
      "cell_type": "code",
      "source": [
        "soup_corretoras.find('tbody')"
      ],
      "metadata": {
        "execution": {
          "iopub.status.busy": "2021-05-20T23:11:19.355513Z",
          "iopub.status.idle": "2021-05-20T23:11:19.355904Z"
        },
        "trusted": true,
        "id": "l4uQcAx_YdDC"
      },
      "execution_count": null,
      "outputs": []
    },
    {
      "cell_type": "code",
      "source": [
        "soup_corretoras.find('tbody').find_all('tr')"
      ],
      "metadata": {
        "execution": {
          "iopub.status.busy": "2021-05-20T23:11:19.35709Z",
          "iopub.status.idle": "2021-05-20T23:11:19.357511Z"
        },
        "trusted": true,
        "id": "j9JXH0jHYdDC"
      },
      "execution_count": null,
      "outputs": []
    },
    {
      "cell_type": "code",
      "source": [
        "soup_corretoras.find('tbody').find_all('tr')[0]"
      ],
      "metadata": {
        "execution": {
          "iopub.status.busy": "2021-05-20T23:11:19.358571Z",
          "iopub.status.idle": "2021-05-20T23:11:19.358965Z"
        },
        "trusted": true,
        "id": "lG6VcnJvYdDC"
      },
      "execution_count": null,
      "outputs": []
    },
    {
      "cell_type": "code",
      "source": [
        "soup_corretoras.find('tbody').find_all('tr')[0].find_all('td')"
      ],
      "metadata": {
        "execution": {
          "iopub.status.busy": "2021-05-20T23:11:19.360188Z",
          "iopub.status.idle": "2021-05-20T23:11:19.360595Z"
        },
        "trusted": true,
        "id": "_FNAUOsVYdDD"
      },
      "execution_count": null,
      "outputs": []
    },
    {
      "cell_type": "code",
      "source": [
        "print('Corretora: ', soup_corretoras.find('tbody').find_all('tr')[0].find_all('td')[0].get_text())\n",
        "print('Contatos: ', soup_corretoras.find('tbody').find_all('tr')[0].find_all('td')[1].get_text())"
      ],
      "metadata": {
        "execution": {
          "iopub.status.busy": "2021-05-20T23:11:19.361637Z",
          "iopub.status.idle": "2021-05-20T23:11:19.36203Z"
        },
        "trusted": true,
        "id": "IT6jG2VMYdDD"
      },
      "execution_count": null,
      "outputs": []
    },
    {
      "cell_type": "code",
      "source": [
        "soup_corretoras.find('tbody').find_all('tr')[0].find_all('td')[1].get_text().split(' - Fone:')"
      ],
      "metadata": {
        "execution": {
          "iopub.status.busy": "2021-05-20T23:11:19.363271Z",
          "iopub.status.idle": "2021-05-20T23:11:19.363677Z"
        },
        "trusted": true,
        "id": "HKo5V8bEYdDD"
      },
      "execution_count": null,
      "outputs": []
    },
    {
      "cell_type": "code",
      "source": [
        "print('Corretora: ', soup_corretoras.find('tbody').find_all('tr')[0].find_all('td')[0].get_text())\n",
        "\n",
        "contato = soup_corretoras.find('tbody').find_all('tr')[0].find_all('td')[1].get_text().split(' - Fone:')\n",
        "print('Nome: ', contato[0])\n",
        "print('Telefone: ', contato[1])"
      ],
      "metadata": {
        "execution": {
          "iopub.status.busy": "2021-05-20T23:11:19.364753Z",
          "iopub.status.idle": "2021-05-20T23:11:19.365145Z"
        },
        "trusted": true,
        "id": "aiciL0BmYdDE"
      },
      "execution_count": null,
      "outputs": []
    },
    {
      "cell_type": "markdown",
      "source": [
        "#### Salvando os dados nas listas"
      ],
      "metadata": {
        "id": "_WFuP1acYdDE"
      }
    },
    {
      "cell_type": "code",
      "source": [
        "lista_corretoras.append(soup_corretoras.find('tbody').find_all('tr')[0].find_all('td')[0].get_text())\n",
        "lista_nomes.append(contato[0])\n",
        "lista_contatos.append(contato[1])"
      ],
      "metadata": {
        "execution": {
          "iopub.status.busy": "2021-05-20T23:11:19.366203Z",
          "iopub.status.idle": "2021-05-20T23:11:19.366605Z"
        },
        "trusted": true,
        "id": "j4Untc-JYdDE"
      },
      "execution_count": null,
      "outputs": []
    },
    {
      "cell_type": "code",
      "source": [
        "lista_corretoras, lista_nomes, lista_contatos"
      ],
      "metadata": {
        "execution": {
          "iopub.status.busy": "2021-05-20T23:11:19.367713Z",
          "iopub.status.idle": "2021-05-20T23:11:19.368113Z"
        },
        "trusted": true,
        "id": "-goAE-yLYdDF"
      },
      "execution_count": null,
      "outputs": []
    },
    {
      "cell_type": "markdown",
      "source": [
        "### 4.2) Coletando dados da corretora 'Carangueijo'"
      ],
      "metadata": {
        "id": "8slGUll5YdDF"
      }
    },
    {
      "cell_type": "code",
      "source": [
        "soup_corretoras.find('tbody').find_all('tr')[1]"
      ],
      "metadata": {
        "execution": {
          "iopub.status.busy": "2021-05-20T23:11:19.369071Z",
          "iopub.status.idle": "2021-05-20T23:11:19.369475Z"
        },
        "trusted": true,
        "id": "SnLZkSbgYdDF"
      },
      "execution_count": null,
      "outputs": []
    },
    {
      "cell_type": "code",
      "source": [
        "soup_corretoras.find('tbody').find_all('tr')[1].find_all('td')"
      ],
      "metadata": {
        "execution": {
          "iopub.status.busy": "2021-05-20T23:11:19.37042Z",
          "iopub.status.idle": "2021-05-20T23:11:19.370795Z"
        },
        "trusted": true,
        "id": "bnW8358JYdDG"
      },
      "execution_count": null,
      "outputs": []
    },
    {
      "cell_type": "markdown",
      "source": [
        "#### Problema de aplicar a mesma solução da corretora 'Tubarão'"
      ],
      "metadata": {
        "id": "IHckqtBwYdDG"
      }
    },
    {
      "cell_type": "code",
      "source": [
        "soup_corretoras.find('tbody').find_all('tr')[1].find_all('td')[1].get_text().split(' - Fone:')"
      ],
      "metadata": {
        "execution": {
          "iopub.status.busy": "2021-05-20T23:11:19.371865Z",
          "iopub.status.idle": "2021-05-20T23:11:19.372255Z"
        },
        "trusted": true,
        "id": "nQB7OHalYdDH"
      },
      "execution_count": null,
      "outputs": []
    },
    {
      "cell_type": "markdown",
      "source": [
        "#### Resolvendo o problema"
      ],
      "metadata": {
        "id": "hqYI4pOVYdDH"
      }
    },
    {
      "cell_type": "code",
      "source": [
        "soup_corretoras.find('tbody').find_all('tr')[1].find_all('td')[1].get_text().split('; ')"
      ],
      "metadata": {
        "execution": {
          "iopub.status.busy": "2021-05-20T23:11:19.373173Z",
          "iopub.status.idle": "2021-05-20T23:11:19.373578Z"
        },
        "trusted": true,
        "id": "SuyZXTXCYdDH"
      },
      "execution_count": null,
      "outputs": []
    },
    {
      "cell_type": "code",
      "source": [
        "for item in soup_corretoras.find('tbody').find_all('tr')[1].find_all('td')[1].get_text().split('; '):\n",
        "    print(item.split(' - Fone:'))"
      ],
      "metadata": {
        "execution": {
          "iopub.status.busy": "2021-05-20T23:11:19.374709Z",
          "iopub.status.idle": "2021-05-20T23:11:19.375095Z"
        },
        "trusted": true,
        "id": "aKbdvsM8YdDI"
      },
      "execution_count": null,
      "outputs": []
    },
    {
      "cell_type": "code",
      "source": [
        "print('Corretora: ', soup_corretoras.find('tbody').find_all('tr')[1].find_all('td')[0].get_text())\n",
        "\n",
        "contatos = soup_corretoras.find('tbody').find_all('tr')[1].find_all('td')[1].get_text().split('; ')\n",
        "\n",
        "for contato in contatos:\n",
        "    contato = contato.split(' - Fone:')\n",
        "    print('Nome: ', contato[0])\n",
        "    print('Telefone: ', contato[1])"
      ],
      "metadata": {
        "execution": {
          "iopub.status.busy": "2021-05-20T23:11:19.376184Z",
          "iopub.status.idle": "2021-05-20T23:11:19.376578Z"
        },
        "trusted": true,
        "id": "9t5iZnNUYdDJ"
      },
      "execution_count": null,
      "outputs": []
    },
    {
      "cell_type": "markdown",
      "source": [
        "#### Salvando os dados nas listas"
      ],
      "metadata": {
        "id": "VBchtbLIYdDJ"
      }
    },
    {
      "cell_type": "code",
      "source": [
        "contatos = soup_corretoras.find('tbody').find_all('tr')[1].find_all('td')[1].get_text().split('; ')\n",
        "\n",
        "for contato in contatos:\n",
        "    lista_corretoras.append(soup_corretoras.find('tbody').find_all('tr')[1].find_all('td')[0].get_text())\n",
        "    \n",
        "    contato = contato.split(' - Fone:')\n",
        "    \n",
        "    lista_nomes.append(contato[0])\n",
        "    lista_contatos.append(contato[1])"
      ],
      "metadata": {
        "execution": {
          "iopub.status.busy": "2021-05-20T23:11:19.377516Z",
          "iopub.status.idle": "2021-05-20T23:11:19.377934Z"
        },
        "trusted": true,
        "id": "zqXIwCb1YdDK"
      },
      "execution_count": null,
      "outputs": []
    },
    {
      "cell_type": "code",
      "source": [
        "lista_corretoras, lista_nomes, lista_contatos"
      ],
      "metadata": {
        "execution": {
          "iopub.status.busy": "2021-05-20T23:11:19.379415Z",
          "iopub.status.idle": "2021-05-20T23:11:19.379853Z"
        },
        "trusted": true,
        "id": "8q2uIRJnYdDK"
      },
      "execution_count": null,
      "outputs": []
    },
    {
      "cell_type": "markdown",
      "source": [
        "### 4.3) Coletando dados da corretora 'Baleia Azul'"
      ],
      "metadata": {
        "id": "jjzfAxG3YdDL"
      }
    },
    {
      "cell_type": "code",
      "source": [
        "soup_corretoras.find('tbody').find_all('tr')[2]"
      ],
      "metadata": {
        "execution": {
          "iopub.status.busy": "2021-05-20T23:11:19.380906Z",
          "iopub.status.idle": "2021-05-20T23:11:19.381293Z"
        },
        "trusted": true,
        "id": "zkYaiE0gYdDL"
      },
      "execution_count": null,
      "outputs": []
    },
    {
      "cell_type": "code",
      "source": [
        "soup_corretoras.find('tbody').find_all('tr')[2].find_all('td')"
      ],
      "metadata": {
        "execution": {
          "iopub.status.busy": "2021-05-20T23:11:19.382931Z",
          "iopub.status.idle": "2021-05-20T23:11:19.38331Z"
        },
        "trusted": true,
        "id": "o91zh71uYdDM"
      },
      "execution_count": null,
      "outputs": []
    },
    {
      "cell_type": "code",
      "source": [
        "soup_corretoras.find('tbody').find_all('tr')[2].find_all('td')[1].find_all('li')"
      ],
      "metadata": {
        "execution": {
          "iopub.status.busy": "2021-05-20T23:11:19.384271Z",
          "iopub.status.idle": "2021-05-20T23:11:19.384674Z"
        },
        "trusted": true,
        "id": "JqSsE-6hYdDM"
      },
      "execution_count": null,
      "outputs": []
    },
    {
      "cell_type": "code",
      "source": [
        "print('Corretora: ', soup_corretoras.find('tbody').find_all('tr')[2].find_all('td')[0].get_text())\n",
        "\n",
        "contatos = soup_corretoras.find('tbody').find_all('tr')[2].find_all('td')[1].find_all('li')\n",
        "\n",
        "for contato in contatos:\n",
        "    contato = contato.get_text().split(' - Fone:')\n",
        "    print('Nome: ', contato[0])\n",
        "    print('Telefone: ', contato[1])"
      ],
      "metadata": {
        "execution": {
          "iopub.status.busy": "2021-05-20T23:11:19.385691Z",
          "iopub.status.idle": "2021-05-20T23:11:19.386075Z"
        },
        "trusted": true,
        "id": "fd80Dk4dYdDN"
      },
      "execution_count": null,
      "outputs": []
    },
    {
      "cell_type": "markdown",
      "source": [
        "#### Salvando os dados nas listas"
      ],
      "metadata": {
        "id": "pDhEXaJSYdDO"
      }
    },
    {
      "cell_type": "code",
      "source": [
        "contatos = soup_corretoras.find('tbody').find_all('tr')[2].find_all('td')[1].find_all('li')\n",
        "\n",
        "for contato in contatos:\n",
        "    lista_corretoras.append(soup_corretoras.find('tbody').find_all('tr')[2].find_all('td')[0].get_text())\n",
        "    \n",
        "    contato = contato.get_text().split(' - Fone:')\n",
        "    \n",
        "    lista_nomes.append(contato[0])\n",
        "    lista_contatos.append(contato[1])"
      ],
      "metadata": {
        "execution": {
          "iopub.status.busy": "2021-05-20T23:11:19.387046Z",
          "iopub.status.idle": "2021-05-20T23:11:19.38757Z"
        },
        "trusted": true,
        "id": "9tnylqGHYdDO"
      },
      "execution_count": null,
      "outputs": []
    },
    {
      "cell_type": "code",
      "source": [
        "lista_corretoras, lista_nomes, lista_contatos"
      ],
      "metadata": {
        "execution": {
          "iopub.status.busy": "2021-05-20T23:11:19.388537Z",
          "iopub.status.idle": "2021-05-20T23:11:19.388924Z"
        },
        "trusted": true,
        "id": "rhyBUXsdYdDP"
      },
      "execution_count": null,
      "outputs": []
    },
    {
      "cell_type": "markdown",
      "source": [
        "### 4.4) Coletando dados da corretora 'Enguia'"
      ],
      "metadata": {
        "id": "ztufUC0pYdDQ"
      }
    },
    {
      "cell_type": "code",
      "source": [
        "!pip install tabula-py"
      ],
      "metadata": {
        "execution": {
          "iopub.status.busy": "2021-05-20T23:11:19.389968Z",
          "iopub.status.idle": "2021-05-20T23:11:19.390346Z"
        },
        "trusted": true,
        "id": "oBozwxqtYdDR"
      },
      "execution_count": null,
      "outputs": []
    },
    {
      "cell_type": "code",
      "source": [
        "import tabula"
      ],
      "metadata": {
        "execution": {
          "iopub.status.busy": "2021-05-20T23:11:19.391501Z",
          "iopub.status.idle": "2021-05-20T23:11:19.391925Z"
        },
        "trusted": true,
        "id": "cbTnnL2qYdDR"
      },
      "execution_count": null,
      "outputs": []
    },
    {
      "cell_type": "code",
      "source": [
        "soup_corretoras.find('tbody').find_all('tr')[3].find_all('td')"
      ],
      "metadata": {
        "execution": {
          "iopub.status.busy": "2021-05-20T23:11:19.392948Z",
          "iopub.status.idle": "2021-05-20T23:11:19.393333Z"
        },
        "trusted": true,
        "id": "qyiky2YFYdDS"
      },
      "execution_count": null,
      "outputs": []
    },
    {
      "cell_type": "code",
      "source": [
        "soup_corretoras.find('tbody').find_all('tr')[3].find_all('td')[1]"
      ],
      "metadata": {
        "execution": {
          "iopub.status.busy": "2021-05-20T23:11:19.394341Z",
          "iopub.status.idle": "2021-05-20T23:11:19.394892Z"
        },
        "trusted": true,
        "id": "SJtyCHLCYdDT"
      },
      "execution_count": null,
      "outputs": []
    },
    {
      "cell_type": "code",
      "source": [
        "soup_corretoras.find('tbody').find_all('tr')[3].find_all('td')[1].find('a')"
      ],
      "metadata": {
        "execution": {
          "iopub.status.busy": "2021-05-20T23:11:19.396604Z",
          "iopub.status.idle": "2021-05-20T23:11:19.396994Z"
        },
        "trusted": true,
        "id": "Z7MDx8mrYdDT"
      },
      "execution_count": null,
      "outputs": []
    },
    {
      "cell_type": "code",
      "source": [
        "soup_corretoras.find('tbody').find_all('tr')[3].find_all('td')[1].find('a').get('href')"
      ],
      "metadata": {
        "execution": {
          "iopub.status.busy": "2021-05-20T23:11:19.39794Z",
          "iopub.status.idle": "2021-05-20T23:11:19.398313Z"
        },
        "trusted": true,
        "id": "w_RVdC9xYdDU"
      },
      "execution_count": null,
      "outputs": []
    },
    {
      "cell_type": "code",
      "source": [
        "nome_pdf = soup_corretoras.find('tbody').find_all('tr')[3].find_all('td')[1].find('a').get('href')\n",
        "arquivo = 'https://ocean-web-scraping.herokuapp.com/' + nome_pdf\n",
        "arquivo"
      ],
      "metadata": {
        "execution": {
          "iopub.status.busy": "2021-05-20T23:11:19.399436Z",
          "iopub.status.idle": "2021-05-20T23:11:19.399834Z"
        },
        "trusted": true,
        "id": "FRB6mXlaYdDU"
      },
      "execution_count": null,
      "outputs": []
    },
    {
      "cell_type": "code",
      "source": [
        "corretora_enguia_df = tabula.read_pdf(arquivo, pages='all', multiple_tables=False)[0]"
      ],
      "metadata": {
        "execution": {
          "iopub.status.busy": "2021-05-20T23:11:19.400756Z",
          "iopub.status.idle": "2021-05-20T23:11:19.401141Z"
        },
        "trusted": true,
        "id": "IQX7YvqBYdDU"
      },
      "execution_count": null,
      "outputs": []
    },
    {
      "cell_type": "code",
      "source": [
        "corretora_enguia_df"
      ],
      "metadata": {
        "execution": {
          "iopub.status.busy": "2021-05-20T23:11:19.402241Z",
          "iopub.status.idle": "2021-05-20T23:11:19.40265Z"
        },
        "trusted": true,
        "id": "i8hXdfslYdDV"
      },
      "execution_count": null,
      "outputs": []
    },
    {
      "cell_type": "code",
      "source": [
        "print('Corretora: ', soup_corretoras.find('tbody').find_all('tr')[3].find_all('td')[0].get_text())\n",
        "\n",
        "for nome,contato in zip(corretora_enguia_df['Corretor(a)'].to_list(),\n",
        "                        corretora_enguia_df['Contato'].to_list()):\n",
        "    print(nome)\n",
        "    print(contato.replace('Fone:',''))"
      ],
      "metadata": {
        "execution": {
          "iopub.status.busy": "2021-05-20T23:11:19.4035Z",
          "iopub.status.idle": "2021-05-20T23:11:19.403874Z"
        },
        "trusted": true,
        "id": "eDCOl7dhYdDV"
      },
      "execution_count": null,
      "outputs": []
    },
    {
      "cell_type": "markdown",
      "source": [
        "#### Salvando os dados nas listas"
      ],
      "metadata": {
        "id": "shXVUUUQYdDW"
      }
    },
    {
      "cell_type": "code",
      "source": [
        "for nome,contato in zip(corretora_enguia_df['Corretor(a)'].to_list(),\n",
        "                        corretora_enguia_df['Contato'].to_list()):\n",
        "    lista_corretoras.append(soup_corretoras.find('tbody').find_all('tr')[3].find_all('td')[0].get_text())\n",
        "    lista_nomes.append(nome)\n",
        "    lista_contatos.append(contato.replace('Fone:',''))"
      ],
      "metadata": {
        "execution": {
          "iopub.status.busy": "2021-05-20T23:11:19.404758Z",
          "iopub.status.idle": "2021-05-20T23:11:19.405139Z"
        },
        "trusted": true,
        "id": "QkPYb3g2YdDW"
      },
      "execution_count": null,
      "outputs": []
    },
    {
      "cell_type": "code",
      "source": [
        "lista_corretoras, lista_nomes, lista_contatos"
      ],
      "metadata": {
        "execution": {
          "iopub.status.busy": "2021-05-20T23:11:19.406003Z",
          "iopub.status.idle": "2021-05-20T23:11:19.406395Z"
        },
        "trusted": true,
        "id": "H-2fWLzbYdDX"
      },
      "execution_count": null,
      "outputs": []
    },
    {
      "cell_type": "markdown",
      "source": [
        "### 4.5) Persistindo todas as informações das corretoras"
      ],
      "metadata": {
        "id": "VQ6onvIOYdDX"
      }
    },
    {
      "cell_type": "code",
      "source": [
        "contatos_corretoras_dict.update({'Corretoras': lista_corretoras,\n",
        "                                 'Nomes': lista_nomes,\n",
        "                                 'Contatos': lista_contatos})\n",
        "\n",
        "contatos_corretoras_dict"
      ],
      "metadata": {
        "execution": {
          "iopub.status.busy": "2021-05-20T23:11:19.407431Z",
          "iopub.status.idle": "2021-05-20T23:11:19.407811Z"
        },
        "trusted": true,
        "id": "31sP3EQfYdDX"
      },
      "execution_count": null,
      "outputs": []
    },
    {
      "cell_type": "code",
      "source": [
        "contatos_corretoras_df = pd.DataFrame.from_dict(contatos_corretoras_dict)\n",
        "\n",
        "contatos_corretoras_df"
      ],
      "metadata": {
        "execution": {
          "iopub.status.busy": "2021-05-20T23:11:19.408762Z",
          "iopub.status.idle": "2021-05-20T23:11:19.409143Z"
        },
        "trusted": true,
        "id": "hDexarBTYdDY"
      },
      "execution_count": null,
      "outputs": []
    },
    {
      "cell_type": "code",
      "source": [
        "contatos_corretoras_df.to_csv('./contatos_corretoras.csv', sep = ';', index = False, encoding = 'utf-8')"
      ],
      "metadata": {
        "execution": {
          "iopub.status.busy": "2021-05-20T23:11:19.410007Z",
          "iopub.status.idle": "2021-05-20T23:11:19.4104Z"
        },
        "trusted": true,
        "id": "PVgVs_aXYdDY"
      },
      "execution_count": null,
      "outputs": []
    },
    {
      "cell_type": "markdown",
      "source": [
        "## 5) Análise dos dados coletados"
      ],
      "metadata": {
        "id": "-Xd1DcDXYdDY"
      }
    },
    {
      "cell_type": "code",
      "source": [
        "resultados_df"
      ],
      "metadata": {
        "execution": {
          "iopub.status.busy": "2021-05-20T23:11:19.411263Z",
          "iopub.status.idle": "2021-05-20T23:11:19.411628Z"
        },
        "trusted": true,
        "id": "tPm8zaf7YdDZ"
      },
      "execution_count": null,
      "outputs": []
    },
    {
      "cell_type": "markdown",
      "source": [
        "#### 5.1) Eu gostaria de pagar um aluguel de no máximo R$ 1.800,00 e morar em um apto de pelo menos 2 quartos e com 1 vaga na garagem, no Oceano Atlântico"
      ],
      "metadata": {
        "id": "aqXWudYQYdDZ"
      }
    },
    {
      "cell_type": "code",
      "source": [
        "busca = resultados_df['aluguel'] <= 1800\n",
        "busca"
      ],
      "metadata": {
        "execution": {
          "iopub.status.busy": "2021-05-20T23:11:19.412462Z",
          "iopub.status.idle": "2021-05-20T23:11:19.412799Z"
        },
        "trusted": true,
        "id": "aMxFqTmuYdDZ"
      },
      "execution_count": null,
      "outputs": []
    },
    {
      "cell_type": "code",
      "source": [
        "len(resultados_df.loc[busca])"
      ],
      "metadata": {
        "execution": {
          "iopub.status.busy": "2021-05-20T23:11:19.413694Z",
          "iopub.status.idle": "2021-05-20T23:11:19.41405Z"
        },
        "trusted": true,
        "id": "S9f53AMbYdDa"
      },
      "execution_count": null,
      "outputs": []
    },
    {
      "cell_type": "code",
      "source": [
        "resultados_df.loc[busca]"
      ],
      "metadata": {
        "execution": {
          "iopub.status.busy": "2021-05-20T23:11:19.414956Z",
          "iopub.status.idle": "2021-05-20T23:11:19.415302Z"
        },
        "trusted": true,
        "id": "KH8WgZx5YdDa"
      },
      "execution_count": null,
      "outputs": []
    },
    {
      "cell_type": "code",
      "source": [
        "busca = ((resultados_df['aluguel'] <= 1800) & (resultados_df['quartos'] >= 2))"
      ],
      "metadata": {
        "execution": {
          "iopub.status.busy": "2021-05-20T23:11:19.416129Z",
          "iopub.status.idle": "2021-05-20T23:11:19.416604Z"
        },
        "trusted": true,
        "id": "dL5nQ-eGYdDa"
      },
      "execution_count": null,
      "outputs": []
    },
    {
      "cell_type": "code",
      "source": [
        "len(resultados_df.loc[busca])"
      ],
      "metadata": {
        "execution": {
          "iopub.status.busy": "2021-05-20T23:11:19.417393Z",
          "iopub.status.idle": "2021-05-20T23:11:19.417829Z"
        },
        "trusted": true,
        "id": "YTJKqvipYdDb"
      },
      "execution_count": null,
      "outputs": []
    },
    {
      "cell_type": "code",
      "source": [
        "resultados_df.loc[busca]"
      ],
      "metadata": {
        "execution": {
          "iopub.status.busy": "2021-05-20T23:11:19.418713Z",
          "iopub.status.idle": "2021-05-20T23:11:19.419084Z"
        },
        "trusted": true,
        "id": "N6JVANsSYdDb"
      },
      "execution_count": null,
      "outputs": []
    },
    {
      "cell_type": "code",
      "source": [
        "busca = ((resultados_df['aluguel'] <= 1800) & \n",
        "         (resultados_df['quartos'] >= 2) & \n",
        "         (resultados_df['vagas garagem'] >= 1))"
      ],
      "metadata": {
        "execution": {
          "iopub.status.busy": "2021-05-20T23:11:19.42026Z",
          "iopub.status.idle": "2021-05-20T23:11:19.420643Z"
        },
        "trusted": true,
        "id": "itgxxJclYdDb"
      },
      "execution_count": null,
      "outputs": []
    },
    {
      "cell_type": "code",
      "source": [
        "len(resultados_df.loc[busca])"
      ],
      "metadata": {
        "execution": {
          "iopub.status.busy": "2021-05-20T23:11:19.421467Z",
          "iopub.status.idle": "2021-05-20T23:11:19.421808Z"
        },
        "trusted": true,
        "id": "OlNcZ_sxYdDc"
      },
      "execution_count": null,
      "outputs": []
    },
    {
      "cell_type": "code",
      "source": [
        "resultados_df.loc[busca]"
      ],
      "metadata": {
        "execution": {
          "iopub.status.busy": "2021-05-20T23:11:19.422599Z",
          "iopub.status.idle": "2021-05-20T23:11:19.422937Z"
        },
        "trusted": true,
        "id": "UVZa1JCpYdDc"
      },
      "execution_count": null,
      "outputs": []
    },
    {
      "cell_type": "code",
      "source": [
        "busca = ((resultados_df['aluguel'] <= 1800) & \n",
        "         (resultados_df['quartos'] >= 2) & \n",
        "         (resultados_df['vagas garagem'] >= 1) &\n",
        "         (resultados_df['localizacao'] == 'Oceano Atlântico'))"
      ],
      "metadata": {
        "execution": {
          "iopub.status.busy": "2021-05-20T23:11:19.423839Z",
          "iopub.status.idle": "2021-05-20T23:11:19.424187Z"
        },
        "trusted": true,
        "id": "YEM4KFfRYdDc"
      },
      "execution_count": null,
      "outputs": []
    },
    {
      "cell_type": "code",
      "source": [
        "len(resultados_df.loc[busca])"
      ],
      "metadata": {
        "execution": {
          "iopub.status.busy": "2021-05-20T23:11:19.425007Z",
          "iopub.status.idle": "2021-05-20T23:11:19.425396Z"
        },
        "trusted": true,
        "id": "TaWZcqRqYdDd"
      },
      "execution_count": null,
      "outputs": []
    },
    {
      "cell_type": "code",
      "source": [
        "resultados_df.loc[busca]"
      ],
      "metadata": {
        "execution": {
          "iopub.status.busy": "2021-05-20T23:11:19.426154Z",
          "iopub.status.idle": "2021-05-20T23:11:19.426556Z"
        },
        "trusted": true,
        "id": "2xrHysHvYdDe"
      },
      "execution_count": null,
      "outputs": []
    },
    {
      "cell_type": "markdown",
      "source": [
        "#### Entrando em contato com as corretoras"
      ],
      "metadata": {
        "id": "P5aPRmg3YdDe"
      }
    },
    {
      "cell_type": "code",
      "source": [
        "contatos_corretoras_df"
      ],
      "metadata": {
        "execution": {
          "iopub.status.busy": "2021-05-20T23:11:19.42743Z",
          "iopub.status.idle": "2021-05-20T23:11:19.4278Z"
        },
        "trusted": true,
        "id": "zQgms6qDYdDe"
      },
      "execution_count": null,
      "outputs": []
    },
    {
      "cell_type": "code",
      "source": [
        "busca_corretora = contatos_corretoras_df['Corretoras'] == 'Carangueijo'"
      ],
      "metadata": {
        "execution": {
          "iopub.status.busy": "2021-05-20T23:11:19.428568Z",
          "iopub.status.idle": "2021-05-20T23:11:19.428951Z"
        },
        "trusted": true,
        "id": "q8pnbI3WYdDf"
      },
      "execution_count": null,
      "outputs": []
    },
    {
      "cell_type": "code",
      "source": [
        "contatos_corretoras_df.loc[busca_corretora]"
      ],
      "metadata": {
        "execution": {
          "iopub.status.busy": "2021-05-20T23:11:19.429951Z",
          "iopub.status.idle": "2021-05-20T23:11:19.430328Z"
        },
        "trusted": true,
        "id": "L3damI7DYdDg"
      },
      "execution_count": null,
      "outputs": []
    },
    {
      "cell_type": "markdown",
      "source": [
        "## 6) Exemplos de outras análises"
      ],
      "metadata": {
        "id": "7oub8iD2YdDg"
      }
    },
    {
      "cell_type": "code",
      "source": [
        "import matplotlib.pyplot as plt\n",
        "import seaborn as sns"
      ],
      "metadata": {
        "execution": {
          "iopub.status.busy": "2021-05-20T23:11:19.431153Z",
          "iopub.status.idle": "2021-05-20T23:11:19.431571Z"
        },
        "trusted": true,
        "id": "TaaGyfl9YdDg"
      },
      "execution_count": null,
      "outputs": []
    },
    {
      "cell_type": "code",
      "source": [
        "sns.set(font_scale=1.4)\n",
        "sns.set_style({'font.family': 'serif',\n",
        "               'fontname': 'Times New Roman'})"
      ],
      "metadata": {
        "execution": {
          "iopub.status.busy": "2021-05-20T23:11:19.43245Z",
          "iopub.status.idle": "2021-05-20T23:11:19.432825Z"
        },
        "trusted": true,
        "id": "_1Z7EXwGYdDh"
      },
      "execution_count": null,
      "outputs": []
    },
    {
      "cell_type": "markdown",
      "source": [
        "### Quem tem mais/menos imóveis?"
      ],
      "metadata": {
        "id": "yYtY7yR9YdDh"
      }
    },
    {
      "cell_type": "code",
      "source": [
        "resultados_df['localizacao'].value_counts()"
      ],
      "metadata": {
        "execution": {
          "iopub.status.busy": "2021-05-20T23:11:19.43365Z",
          "iopub.status.idle": "2021-05-20T23:11:19.434031Z"
        },
        "trusted": true,
        "id": "DX4M8GhIYdDi"
      },
      "execution_count": null,
      "outputs": []
    },
    {
      "cell_type": "code",
      "source": [
        "resultados_df['localizacao'].value_counts().sort_values().plot(kind = 'barh', \n",
        "                                                               figsize=(8, 5))"
      ],
      "metadata": {
        "execution": {
          "iopub.status.busy": "2021-05-20T23:11:19.434837Z",
          "iopub.status.idle": "2021-05-20T23:11:19.435208Z"
        },
        "trusted": true,
        "id": "TfcwtIXDYdDi"
      },
      "execution_count": null,
      "outputs": []
    },
    {
      "cell_type": "markdown",
      "source": [
        "> ### Quais são os locais com imóveis maiores/menores e com os imóveis mais baratos/caros?"
      ],
      "metadata": {
        "id": "0FmMqyjbYdDi"
      }
    },
    {
      "cell_type": "code",
      "source": [
        "fig_dims = (8, 6)\n",
        "fig, ax = plt.subplots(figsize=fig_dims)\n",
        "\n",
        "sns.scatterplot(data = resultados_df, \n",
        "                x = 'área', \n",
        "                y = 'aluguel', \n",
        "                hue = 'localizacao',\n",
        "                s = 200,\n",
        "                ax = ax)"
      ],
      "metadata": {
        "execution": {
          "iopub.status.busy": "2021-05-20T23:11:19.436007Z",
          "iopub.status.idle": "2021-05-20T23:11:19.436391Z"
        },
        "trusted": true,
        "id": "cuxNed8XYdDj"
      },
      "execution_count": null,
      "outputs": []
    }
  ]
}