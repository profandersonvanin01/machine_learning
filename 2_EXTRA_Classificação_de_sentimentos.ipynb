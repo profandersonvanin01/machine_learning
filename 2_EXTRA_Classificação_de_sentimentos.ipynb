{
  "nbformat": 4,
  "nbformat_minor": 0,
  "metadata": {
    "colab": {
      "name": "2_EXTRA_Classificação de_sentimentos.ipynb",
      "provenance": [],
      "include_colab_link": true
    },
    "kernelspec": {
      "name": "python3",
      "display_name": "Python 3"
    },
    "language_info": {
      "name": "python"
    }
  },
  "cells": [
    {
      "cell_type": "markdown",
      "metadata": {
        "id": "view-in-github",
        "colab_type": "text"
      },
      "source": [
        "<a href=\"https://colab.research.google.com/github/profandersonvanin01/machine_learning/blob/main/2_EXTRA_Classifica%C3%A7%C3%A3o_de_sentimentos.ipynb\" target=\"_parent\"><img src=\"https://colab.research.google.com/assets/colab-badge.svg\" alt=\"Open In Colab\"/></a>"
      ]
    },
    {
      "cell_type": "markdown",
      "source": [
        "## Criando uma base numa lista e transformando num DataFrame"
      ],
      "metadata": {
        "id": "zfxAWEh39U-y"
      }
    },
    {
      "cell_type": "code",
      "execution_count": null,
      "metadata": {
        "id": "X3qgkkDLApOP"
      },
      "outputs": [],
      "source": [
        "#Importando uma biblioteca de Processamento de Linguaguem natural\n",
        "import nltk"
      ]
    },
    {
      "cell_type": "code",
      "source": [
        "#base criada na mão, com frases aleatórias\n",
        "base = [('não precisei pagar o ingresso','alegria'),\n",
        "('se eu ajeitar tudo fica bem','alegria'),\n",
        "('minha fortuna ultrapassa a sua','alegria'),\n",
        "('sou muito afortunado','alegria'),\n",
        "('e benefico para todos esta nova medida','alegria'),\n",
        "('ficou lindo','alegria'),\n",
        "('achei esse sapato muito simpático','alegria'),\n",
        "('estou ansiosa pela sua chegada','alegria'),\n",
        "('congratulações pelo seu aniversário','alegria'),\n",
        "('delicadamente ele a colocou para dormir','alegria'),\n",
        "('a musica e linda','alegria'),\n",
        "('sem musica eu não vivo','alegria'),\n",
        "('conclui uma tarefa muito difícil','alegria'),\n",
        "('conclui minha graduação','alegria'),\n",
        "('estou muito contente com tudo','alegria'),\n",
        "('eu confio em você','alegria'),\n",
        "('e um prazer conhecê-lo','alegria'),\n",
        "('o coleguismo de vocês e animador','alegria'),\n",
        "('estou aproveitando as ferias','alegria'),\n",
        "('vamos aproveitar as ferias','alegria'),\n",
        "('e muito divertido este jogo','alegria'),\n",
        "('vamos ter muita diversão','alegria'),\n",
        "('não achei que me divertiria tanto assim','alegria'),\n",
        "('vou consentir o orçamento ao cliente','alegria'),\n",
        "('com o consentimento dos meus pais podemos nos casar','alegria'),\n",
        "('eu adorei este perfume','alegria'),\n",
        "('sua bondade e cativante','alegria'),\n",
        "('estou despreocupada','alegria'),\n",
        "('não me preocupo com o que aconteceu','alegria'),\n",
        "('me sinto completamente segura','alegria'),\n",
        "('estimo muito o seu trabalho','alegria'),\n",
        "('somos estimados por nossa família','alegria'),\n",
        "('concretizamos nossa ideia','alegria'),\n",
        "('nosso ideal foi alcançado','alegria'),\n",
        "('estamos muito felizes juntos','alegria'),\n",
        "('estou tão animada com os preparativos para o casamento','alegria'),\n",
        "('você será muito amado meu filho','alegria'),\n",
        "('os apaixonados são maravilhosos','alegria'),\n",
        "('agradeço imensamente o seu apoio nestes dias','alegria'),\n",
        "('esta comida me parece muito atraente','alegria'),\n",
        "('você me completa','alegria'),\n",
        "('poderemos completar o projeto hoje!','alegria'),\n",
        "('estamos namorando','alegria'),\n",
        "('estou namorando este vestido a um tempo','alegria'),\n",
        "('pude comprar meu celular hoje','alegria'),\n",
        "('e um deleite poder compartilhar minhas vitórias','alegria'),\n",
        "('ela e um boa garota','alegria'),\n",
        "('estivemos em um ótimo show','alegria'),\n",
        "('este trabalho e agradável','alegria'),\n",
        "('gosto de ficar no seu aconchego','alegria'),\n",
        "('fiz a adesão ao curso hoje','alegria'),\n",
        "('eu sou admirada por muitos','alegria'),\n",
        "('adoro como você e','alegria'),\n",
        "('adoro seu cabelo macio','alegria'),\n",
        "('adoro a cor dos seus olhos','alegria'),\n",
        "('somo tão amáveis um com o outro','alegria'),\n",
        "('sinto uma grande afeição por ele','alegria'),\n",
        "('quero agradar meus filhos','alegria'),\n",
        "('me sinto completamente amado','alegria'),\n",
        "('eu amo você','alegria'),\n",
        "('que grande alivio','alegria'),\n",
        "('a dor esta amenizando finalmente','alegria'),\n",
        "('acho que me apaixonei','alegria'),\n",
        "('amar e maravilhoso','alegria'),\n",
        "('estou me sentindo muito animada','alegria'),\n",
        "('me sinto muito bem hoje','alegria'),\n",
        "('como o luar e belo','alegria'),\n",
        "('o dia esta muito bonito','alegria'),\n",
        "('nossa como sou afortunado','alegria'),\n",
        "('as maravilhas do mundo','alegria'),\n",
        "('recebi muito carinho hoje do meus colegas','alegria'),\n",
        "('estou me sentindo reconfortada hoje','alegria'),\n",
        "('e muito bom estar com os amigos','alegria'),\n",
        "('estou muito contente com o resultado dos testes','alegria'),\n",
        "('essa pintura esta bem brilhante','alegria'),\n",
        "('temos água em abundancia','alegria'),\n",
        "('que roupa delicada','alegria'),\n",
        "('você e um grande comediante','alegria'),\n",
        "('que bondade a sua em vir aqui','alegria'),\n",
        "('o amor e lindo','alegria'),\n",
        "('nossa amizade vai durar para sempre','alegria'),\n",
        "('estou eufórica com a noticia','alegria'),\n",
        "('ele e realmente fiel a mim','alegria'),\n",
        "('vou dar uma grande festa para comemorar meu aniversário','alegria'),\n",
        "('graças a deus que eu enxerguei o certo','alegria'),\n",
        "('essa e a melhor escolhas de todas','alegria'),\n",
        "('o mais incrível e você minha bela','alegria'),\n",
        "('e tão engraçado tentar explicar','alegria'),\n",
        "('e emocionante estar neste lugar','alegria'),\n",
        "('estou cativada pelo seu olhar','alegria'),\n",
        "('estou loucamente apaixonada','alegria'),\n",
        "('eu nunca tive duvidas','alegria'),\n",
        "('estou rodeada pelo seu abraço','alegria'),\n",
        "('eu vejo estrelas pelo caminho','alegria'),\n",
        "('eu sinto o sol sempre que você esta por perto','alegria'),\n",
        "('eu estou sorrindo de orelha a orelha','alegria'),\n",
        "('isso vale a pena','alegria'),\n",
        "('finalmente você colocou meu amor em primeiro lugar','alegria'),\n",
        "('nós dançamos noite adentro','alegria'),\n",
        "('seu amor e brilhante','alegria'),\n",
        "('toquei muitos corações durante o meu caminho','alegria'),\n",
        "('eu serei sua amiga e companheira','alegria'),\n",
        "('você me traz de volta a vida','alegria'),\n",
        "('você e como um sonho doce','alegria'),\n",
        "('adoro este doce de frutas','alegria'),\n",
        "('meu suco favorito','alegria'),\n",
        "('estou agradecida pela ajuda','alegria'),\n",
        "('e um enorme prazer ter você em nossa equipe','alegria'),\n",
        "('trabalhar em equipe e o melhor','alegria'),\n",
        "('me sinto flutuando no ar','alegria'),\n",
        "('a brisa esta agradável hoje','alegria'),\n",
        "('ótimo e compatível','alegria'),\n",
        "('somos compatíveis um com o outro','alegria'),\n",
        "('o órgão e compatível com o paciente','alegria'),\n",
        "('estou contente fui aceita na faculdade','alegria'),\n",
        "('fui aprovada no meu exame','alegria'),\n",
        "('fui beneficiada pela minha empresa','alegria'),\n",
        "('eu sou muito cativante','alegria'),\n",
        "('estou contente com o apoio','alegria'),\n",
        "('como este lugar e confortável','alegria'),\n",
        "('e bom estar quente neste frio','alegria'),\n",
        "('um elogio nunca e demais','alegria'),\n",
        "('vou te chamar para comemorar','alegria'),\n",
        "('e desejável a sua presença em nossa apresentação','alegria'),\n",
        "('sou muito grata a você','alegria'),\n",
        "('me dedico muito naquilo que faço','alegria'),\n",
        "('estou completamente apaixonada ','alegria'),\n",
        "('vamos agitar essa noite ','alegria'),\n",
        "('você significa muito para mim','alegria'),\n",
        "('vamos agir sem preconceitos e julgamentos','alegria'),\n",
        "('finalmente completei a minha coleção, maravilhoso','alegria'),\n",
        "('eu sou sua rainha ','alegria'),\n",
        "('satisfatoriamente eu anuncio o vencedor dos jogos','alegria'),\n",
        "('você me atrai facilmente ','alegria'),\n",
        "('aquele rapaz e extremamente atraente','alegria'),\n",
        "('sinto-me viva ','alegria'),\n",
        "('sinto-me em paz ','alegria'),\n",
        "('estamos tendo muito lucro','alegria'),\n",
        "('muito bem esta tudo em ordem agora ','alegria'),\n",
        "('podemos arrumar um emprego juntos ','alegria'),\n",
        "('a arrumação esta terminada, que alívio','alegria'),\n",
        "('o câncer e benigno ','alegria'),\n",
        "('o amor e abundante','alegria'),\n",
        "('vamos ser caridosos este natal','alegria'),\n",
        "('com todo esse charme você irá atrair a todos','alegria'),\n",
        "('nossa como você e charmoso querido ','alegria'),\n",
        "('sou querida pelos meu amigos','alegria'),\n",
        "('seja cuidadoso com os meus sentimentos','alegria'),\n",
        "('estou comovido com tamanha caridade','alegria'),\n",
        "('um chá quente e reconfortante','alegria'),\n",
        "('que alegria ter vocês aqui ','alegria'),\n",
        "('vamos aplaudir o vencedor ','alegria'),\n",
        "('palmas para a aniversariante','alegria'),\n",
        "('desejo a você tudo de bom','alegria'),\n",
        "('hora de apreciar um bom vinho','alegria'),\n",
        "('aprecio sua presença em minha escola','alegria'),\n",
        "('anseio por seus próximos trabalhos','alegria'),\n",
        "('maravilhoso jogo amistoso','alegria'),\n",
        "('e ótimo que os ânimos tenham se apaziguado','alegria'),\n",
        "('concretizei finalmente meu sonho','alegria'),\n",
        "('eu imploro, não me matem!','medo'),\n",
        "('tem certeza que não e perigoso?','medo'),\n",
        "('não tenho certeza se e seguro','medo'),\n",
        "('tenho que correr pra não me pegarem','medo'),\n",
        "('socorro! ele queria roubar os meus doces!','medo'),\n",
        "('esse cara está me perseguindo','medo'),\n",
        "('não entro lá, e um lugar muito perigoso','medo'),\n",
        "('este lugar continua assustador','medo'),\n",
        "('na selva tem muitos animais perigosos','medo'),\n",
        "('avancem com cautela','medo'),\n",
        "('este lugar está silencioso de mais, cuidado!','medo'),\n",
        "('por favor, deixe-me viver!','medo'),\n",
        "('vou ficar sem mesada se tirar nota baixa','medo'),\n",
        "('parece que tem olhos nos vigiando','medo'),\n",
        "('eu temo que a sentença do juiz possa ser negativa','medo'),\n",
        "('mas essa missão e arriscada','medo'),\n",
        "('salvem-se quem puder!','medo'),\n",
        "('meu plano pode ser descoberto','medo'),\n",
        "('não tive culpa, juro não fui eu','medo'),\n",
        "('tenho que tomar cuidado com o lobisomem','medo'),\n",
        "('se eu não achar, ele vai descobrir a verdade','medo'),\n",
        "('meu deus, ele desapareceu!','medo'),\n",
        "('tomara que eles não me vejam daqui!','medo'),\n",
        "('mantenha isso em segredo, se descobrirem estaremos ferrados','medo'),\n",
        "('por favor, me soltem, eu sou inocente','medo'),\n",
        "('estou ouvindo passos atrás de mim','medo'),\n",
        "('eu vou pedir socorro!','medo'),\n",
        "('cuidado com as curvas na estrada','medo'),\n",
        "('não sei não, parece perigoso','medo'),\n",
        "('estou tremendo de medo!','medo'),\n",
        "('socorro, eu vou cair!','medo'),\n",
        "('eu não vou ate a floresta negra, e muito perigoso','medo'),\n",
        "('ouço passos na minha direção','medo'),\n",
        "('acho que está arriscado de mais','medo'),\n",
        "('vamos voltar, e muito perigoso','medo'),\n",
        "('fuja, se não acabaremos mortos','medo'),\n",
        "('receio por não me livrar desta situação','medo'),\n",
        "('socorro! ele está armado!','medo'),\n",
        "('ei cuidado, você vai bater no poste!','medo'),\n",
        "('socorro, nós estamos afundando','medo'),\n",
        "('e serio, cuidado com essa arma!','medo'),\n",
        "('os tubarões estão atacando!','medo'),\n",
        "('sinto arrepios quando fico sozinho no escuro','medo'),\n",
        "('calma, eu não estou com o dinheiro','medo'),\n",
        "('eu acho que estou sendo enganado','medo'),\n",
        "('ligeiro, temos que fugir depressa','medo'),\n",
        "('tem um crocodilo selvagem vindo para cá','medo'),\n",
        "('se ficarmos quietos eles não vão nos achar','medo'),\n",
        "('fuja! o tigre parece faminto','medo'),\n",
        "('estou sem saída, preciso de um milagre','medo'),\n",
        "('tire isso de mim! socorro!','medo'),\n",
        "('não sei nadar, vou me afogar!','medo'),\n",
        "('não tenho certeza se e seguro','medo'),\n",
        "('vou apanhar se meus pais verem meu boletim','medo'),\n",
        "('não consigo sair daqui!','medo'),\n",
        "('se sair tão tarde, poderei ser assaltada','medo'),\n",
        "('não me deixe por favor!','medo'),\n",
        "('espere, não pode me largar aqui sozinho','medo'),\n",
        "('temo pela sua segurança','medo'),\n",
        "('eu te entrego o dinheiro, por favor não me mate!','medo'),\n",
        "('ele vai levar todo o meu dinheiro','medo'),\n",
        "('não dirija tão rápido assim','medo'),\n",
        "('me descobriram, irão me prender!','medo'),\n",
        "('só espero que não me façam nenhum mal','medo'),\n",
        "('vou me afogar, me ajudem a sair da água','medo'),\n",
        "('não estaremos a salvo aqui','medo'),\n",
        "('não quero nem pensar no que pode acontecer','medo'),\n",
        "('nessa cidade e uma desgraça atrás da outra','medo'),\n",
        "('alguem esta me ligando, estou assustado','medo'),\n",
        "('isso não e remedio, não me matem','medo'),\n",
        "('eu não confio nele, tenho que ter cautela','medo'),\n",
        "('muita cautela','medo'),\n",
        "('vou ser descoberto, meu deus','medo'),\n",
        "('receio que terei de ir','medo'),\n",
        "('a noite e muito perigosa','medo'),\n",
        "('estou estremecendo com essa casa','medo'),\n",
        "('olha aquela criatura se movendo monstruosamente','medo'),\n",
        "('não agüento este suspense','medo'),\n",
        "('afugente os cães','medo'),\n",
        "('estou chocado e amedrontado com este assassinato brutal','medo'),\n",
        "('e preciso afugenta com ímpeto este medo do inferno','medo'),\n",
        "('seu políticos usam suas forças para afugentar e amedrontar o povo','medo'),\n",
        "('o objetivo disso e apenas me amedrontar mais','medo'),\n",
        "('isso me apavora','medo'),\n",
        "('que abominável esse montro!','medo'),\n",
        "('vamos alarmar a todos sobre a situação','medo'),\n",
        "('estou amedrontada','medo'),\n",
        "('estou com muito medo da noite','medo'),\n",
        "('ele esta me ameaçando a dias','medo'),\n",
        "('quanta angustia','medo'),\n",
        "('estou angustiada','medo'),\n",
        "('angustiadamente vou sair e casa','medo'),\n",
        "('isso me deixa apavorada','medo'),\n",
        "('você esta me apavorando','medo'),\n",
        "('estou desconfiada de você','medo'),\n",
        "('não confio em você','medo'),\n",
        "('ate o cachorro está apavorado','medo'),\n",
        "('estou assustado com as ações do meu colega','medo'),\n",
        "('agora se sente humilhado, apavorado','medo'),\n",
        "('assustou a população e provocou mortes','medo'),\n",
        "('estou com dificuldades para respirar e muito assustado','medo'),\n",
        "('os policiais se assustaram quando o carro capotou','medo'),\n",
        "('o trabalhador e assombrado pelo temor do desemprego','medo'),\n",
        "('este lugar e mal assombrado','medo'),\n",
        "('estou assombrado pela crise financeira','medo'),\n",
        "('mesmo aterrorizado lembro de você','medo'),\n",
        "('aterrorizado e suando frio','medo'),\n",
        "('um grupo de elefantes selvagens tem aterrorizado vilas','medo'),\n",
        "('me sinto intimidada pela sua presença','medo'),\n",
        "('tenho medo de ser advertida novamente','medo'),\n",
        "('estou correndo o risco de ser advertido','medo'),\n",
        "('estou correndo riscos de saúde','medo'),\n",
        "('os riscos são reais','medo'),\n",
        "('podemos perder muito dinheiro com essa investida','medo'),\n",
        "('socorro, fui intimado a depor','medo'),\n",
        "('fui notificado e estou com medo de perde a guarda da minha filha','medo'),\n",
        "('estou angustiada com meus filhos na rua','medo'),\n",
        "('e abominável o que fazem com os animais','medo'),\n",
        "('foi terrível o tigre quase o matou','medo'),\n",
        "('me advertiram sobre isso','medo')]"
      ],
      "metadata": {
        "id": "8mpdvlhDBxEP"
      },
      "execution_count": null,
      "outputs": []
    },
    {
      "cell_type": "code",
      "source": [
        "import numpy as np\n",
        "import pandas as pd"
      ],
      "metadata": {
        "id": "Mnw49ieLbl_p"
      },
      "execution_count": null,
      "outputs": []
    },
    {
      "cell_type": "code",
      "source": [
        "type(base)"
      ],
      "metadata": {
        "id": "lDMZakHj91Hw"
      },
      "execution_count": null,
      "outputs": []
    },
    {
      "cell_type": "markdown",
      "source": [
        "## Convertendo uma Lista em um  Dataframe"
      ],
      "metadata": {
        "id": "L9vQGExA-TkF"
      }
    },
    {
      "cell_type": "code",
      "source": [
        "basenova = pd.DataFrame(base, columns = ['frase','sentimento'])"
      ],
      "metadata": {
        "id": "UQKP1gXDb5mP"
      },
      "execution_count": null,
      "outputs": []
    },
    {
      "cell_type": "code",
      "source": [
        "basenova"
      ],
      "metadata": {
        "id": "puPkV_kwpGn3"
      },
      "execution_count": null,
      "outputs": []
    },
    {
      "cell_type": "code",
      "source": [
        "#Embraralhando a base\n",
        "import sklearn\n",
        "basenova = sklearn.utils.shuffle(basenova)"
      ],
      "metadata": {
        "id": "uTp0Z608A8eD"
      },
      "execution_count": null,
      "outputs": []
    },
    {
      "cell_type": "code",
      "source": [
        "basenova"
      ],
      "metadata": {
        "id": "AUvRJ3ZCBTdJ"
      },
      "execution_count": null,
      "outputs": []
    },
    {
      "cell_type": "code",
      "source": [
        "#para acessar um item quando é uma lista\n",
        "base[1]"
      ],
      "metadata": {
        "id": "RI7e2H4_CBdt"
      },
      "execution_count": null,
      "outputs": []
    },
    {
      "cell_type": "code",
      "source": [
        "#para acessar um item quando é um dataframe\n",
        "basenova.iloc[[1]]"
      ],
      "metadata": {
        "id": "4Ltfk3DyrEcG"
      },
      "execution_count": null,
      "outputs": []
    },
    {
      "cell_type": "code",
      "source": [
        "#quantidade de linhas de um dataframe\n",
        "basenova.shape"
      ],
      "metadata": {
        "id": "aHliYyG7pVuG"
      },
      "execution_count": null,
      "outputs": []
    },
    {
      "cell_type": "code",
      "source": [
        "#quantidade de linhas de uma lista\n",
        "len(base)"
      ],
      "metadata": {
        "id": "qvHL6kCurkD-"
      },
      "execution_count": null,
      "outputs": []
    },
    {
      "cell_type": "code",
      "source": [
        "import seaborn as sns\n",
        "sns.countplot(basenova['sentimento'], label = 'Contagem');"
      ],
      "metadata": {
        "id": "18GqWXvMBcwI"
      },
      "execution_count": null,
      "outputs": []
    },
    {
      "cell_type": "markdown",
      "source": [
        "## Separar texto do rótulo - O sentimento é o que queremos prever, então fica separado."
      ],
      "metadata": {
        "id": "FS_J8heUqErz"
      }
    },
    {
      "cell_type": "code",
      "source": [
        "frases = basenova[['frase']]\n",
        "sentimento = basenova['sentimento'].values"
      ],
      "metadata": {
        "id": "5iw7SmS5qD3z"
      },
      "execution_count": null,
      "outputs": []
    },
    {
      "cell_type": "code",
      "source": [
        "frases.head()"
      ],
      "metadata": {
        "id": "vInkDUxFsJqq"
      },
      "execution_count": null,
      "outputs": []
    },
    {
      "cell_type": "code",
      "source": [
        "sentimento"
      ],
      "metadata": {
        "id": "FGPTtFhjsMEx"
      },
      "execution_count": null,
      "outputs": []
    },
    {
      "cell_type": "markdown",
      "source": [
        "## Remoção das Stop Words apenas das frases, realmente ver se vale a pena fazer com ou sem."
      ],
      "metadata": {
        "id": "6QkN-bIzCKCW"
      }
    },
    {
      "cell_type": "code",
      "source": [
        "#posso criar minha própria lista de stop words\n",
        "'''stopwords = ['a', 'agora', 'algum', 'alguma', 'aquele', 'aqueles', 'de', 'deu', 'do', 'e', 'estou', 'esta', 'esta',\n",
        "             'ir', 'meu', 'muito', 'mesmo', 'no', 'nossa', 'o', 'outro', 'para', 'que', 'sem', 'talvez', 'tem', 'tendo',\n",
        "             'tenha', 'teve', 'tive', 'todo', 'um', 'uma', 'umas', 'uns', 'vou']'''\n"
      ],
      "metadata": {
        "id": "TX9p8nG0CEAM"
      },
      "execution_count": null,
      "outputs": []
    },
    {
      "cell_type": "code",
      "source": [
        "#ou posso fazer o download de uma\n",
        "nltk.download('stopwords')"
      ],
      "metadata": {
        "id": "4bqX4UAhE6X3"
      },
      "execution_count": null,
      "outputs": []
    },
    {
      "cell_type": "code",
      "source": [
        "#pegando em portugues\n",
        "stopwordsnltk = nltk.corpus.stopwords.words('portuguese')"
      ],
      "metadata": {
        "id": "BBmRmMOtEq0Y"
      },
      "execution_count": null,
      "outputs": []
    },
    {
      "cell_type": "code",
      "source": [
        "stopwordsnltk"
      ],
      "metadata": {
        "id": "D4WNpCE0FDZk"
      },
      "execution_count": null,
      "outputs": []
    },
    {
      "cell_type": "code",
      "source": [
        "#Criando uma função para retirar as stopwords das frases, já que elas vão ter na frase de medo ou alegria\n",
        "def removestopwords(text):\n",
        "    textolimpo = \" \" # cria uma lista vazia\n",
        "    doc = text.lower() # Transformando em minúsculo\n",
        "    separado = doc.split() # transforma em lista de palavras\n",
        "    for palavra in separado: #vai pegando cada palavra da lista\n",
        "        if palavra not in stopwordsnltk: # compara cada palavra com a lista de stopwords\n",
        "          textolimpo += palavra + \" \" #adiciona cada palavraq que não está nas stopwords na frase\n",
        "    return textolimpo\n"
      ],
      "metadata": {
        "id": "XCYVixuUuy1A"
      },
      "execution_count": null,
      "outputs": []
    },
    {
      "cell_type": "code",
      "source": [
        "fraseteste = \"Eu não sei o porquê, mas amo viajar\""
      ],
      "metadata": {
        "id": "ntq-GYYd_Wfy"
      },
      "execution_count": null,
      "outputs": []
    },
    {
      "cell_type": "code",
      "source": [
        "removestopwords(fraseteste)"
      ],
      "metadata": {
        "id": "MDq1ZI-HvC0O"
      },
      "execution_count": null,
      "outputs": []
    },
    {
      "cell_type": "markdown",
      "source": [
        "### aplicando a função na base de dados toda"
      ],
      "metadata": {
        "id": "vO0VzSZr_nVZ"
      }
    },
    {
      "cell_type": "code",
      "source": [
        "#frases['frase'] = frases['frase'].apply(removestopwords)"
      ],
      "metadata": {
        "id": "eLyM0hKD8aL1"
      },
      "execution_count": null,
      "outputs": []
    },
    {
      "cell_type": "code",
      "source": [
        "frases"
      ],
      "metadata": {
        "id": "8sfQH5lh8721"
      },
      "execution_count": null,
      "outputs": []
    },
    {
      "cell_type": "markdown",
      "source": [
        "##Separar a base de dados, separando 25% da base para ficar para teste"
      ],
      "metadata": {
        "id": "P6T913TlCCA-"
      }
    },
    {
      "cell_type": "code",
      "source": [
        "from sklearn.model_selection import train_test_split\n",
        "frases_treino, frases_teste, senti_treino, senti_teste = train_test_split(frases, sentimento, test_size=0.25,shuffle=True) "
      ],
      "metadata": {
        "id": "iKKzyEfKCBGF"
      },
      "execution_count": null,
      "outputs": []
    },
    {
      "cell_type": "code",
      "source": [
        "frases_treino"
      ],
      "metadata": {
        "id": "WyCu4TrjDXMR"
      },
      "execution_count": null,
      "outputs": []
    },
    {
      "cell_type": "code",
      "source": [
        "senti_treino"
      ],
      "metadata": {
        "id": "0uC6f8tjDahX"
      },
      "execution_count": null,
      "outputs": []
    },
    {
      "cell_type": "code",
      "source": [
        "#essas vou usar para ensinar a IA\n",
        "frases_treino.shape"
      ],
      "metadata": {
        "id": "zVLPjWK6DfJX"
      },
      "execution_count": null,
      "outputs": []
    },
    {
      "cell_type": "code",
      "source": [
        "senti_treino.shape"
      ],
      "metadata": {
        "id": "BXYMTq0nDlvO"
      },
      "execution_count": null,
      "outputs": []
    },
    {
      "cell_type": "code",
      "source": [
        "# com essas vou ver se ela aprendeu\n",
        "frases_teste.shape"
      ],
      "metadata": {
        "id": "BY7m3grzEE3N"
      },
      "execution_count": null,
      "outputs": []
    },
    {
      "cell_type": "markdown",
      "source": [
        "## Agora que nossa base está separada vamos converter nossos textos em números para a Inteligência Artificial. Processo de Vetorização de Palavras"
      ],
      "metadata": {
        "id": "INicajz-KFCD"
      }
    },
    {
      "cell_type": "code",
      "source": [
        "from sklearn.feature_extraction.text import CountVectorizer"
      ],
      "metadata": {
        "id": "Ungb-mbMKEgL"
      },
      "execution_count": null,
      "outputs": []
    },
    {
      "cell_type": "code",
      "source": [
        "vocab = basenova['frase'].values"
      ],
      "metadata": {
        "id": "5z4zSVp4LPO9"
      },
      "execution_count": null,
      "outputs": []
    },
    {
      "cell_type": "code",
      "source": [
        "vocab"
      ],
      "metadata": {
        "id": "M8ASuagBLeP-"
      },
      "execution_count": null,
      "outputs": []
    },
    {
      "cell_type": "code",
      "source": [
        "vectorizer = CountVectorizer()\n",
        "vectorizer.fit_transform(vocab)\n",
        "vectorizer.get_feature_names_out()"
      ],
      "metadata": {
        "id": "xNfaWhj2Kggp"
      },
      "execution_count": null,
      "outputs": []
    },
    {
      "cell_type": "code",
      "source": [
        "vectorizer.vocabulary_"
      ],
      "metadata": {
        "id": "Ppp2TUv2L92j"
      },
      "execution_count": null,
      "outputs": []
    },
    {
      "cell_type": "code",
      "source": [
        "frases_transformadas_treino = vectorizer.transform(frases_treino['frase'].values)\n",
        "frases_transformadas_teste = vectorizer.transform(frases_teste['frase'].values)"
      ],
      "metadata": {
        "id": "WpMMT4r5MECL"
      },
      "execution_count": null,
      "outputs": []
    },
    {
      "cell_type": "code",
      "source": [
        "frases_transformadas_treino"
      ],
      "metadata": {
        "id": "Ejghsl8UTfaT"
      },
      "execution_count": null,
      "outputs": []
    },
    {
      "cell_type": "code",
      "source": [
        "frases_transformadas_treino.shape"
      ],
      "metadata": {
        "id": "sMtFoLMeTi0D"
      },
      "execution_count": null,
      "outputs": []
    },
    {
      "cell_type": "code",
      "source": [
        "frases_transformadas_teste.shape"
      ],
      "metadata": {
        "id": "a_KKI1g3Tu9J"
      },
      "execution_count": null,
      "outputs": []
    },
    {
      "cell_type": "markdown",
      "source": [
        "# Somente agora entra a parte de Inteligência Artificial (Aprendizado de Máquina) - Vamos Usar 2 modelos de Algoritmos diferentes para comparar o desempenho"
      ],
      "metadata": {
        "id": "659-YJG6UApR"
      }
    },
    {
      "cell_type": "markdown",
      "source": [
        "## Modelo DecisionTreeClassifier"
      ],
      "metadata": {
        "id": "YALGKercVz0B"
      }
    },
    {
      "cell_type": "code",
      "source": [
        "from sklearn.tree import DecisionTreeClassifier\n",
        "from sklearn.ensemble import GradientBoostingClassifier\n",
        "from sklearn.metrics import classification_report\n",
        "from sklearn.metrics import confusion_matrix, classification_report\n",
        "from sklearn.metrics import plot_confusion_matrix\n",
        "from sklearn import metrics"
      ],
      "metadata": {
        "id": "8Yxcb7NJT-7i"
      },
      "execution_count": null,
      "outputs": []
    },
    {
      "cell_type": "code",
      "source": [
        "arvore = DecisionTreeClassifier(max_depth=6, criterion='gini')\n",
        "arvore.fit(frases_transformadas_treino,senti_treino) # aqui estou ensinando para a Máquina\n",
        "y_pred_arvore = arvore.predict(frases_transformadas_teste) # aqui eu não mostro o sentimento porque ele vai ter que advinhar\n",
        "score_arvore = arvore.score(frases_transformadas_teste, senti_teste) #ver o percentual de acerto\n",
        "print(score_arvore)\n",
        "confusion_matrix(senti_teste,y_pred_arvore)"
      ],
      "metadata": {
        "id": "5sJ2hiuhUv7f"
      },
      "execution_count": null,
      "outputs": []
    },
    {
      "cell_type": "code",
      "source": [
        "report=classification_report(y_true=senti_teste,y_pred=y_pred_arvore)\n",
        "print(report) #Mostra as métricas de resultado do modelo"
      ],
      "metadata": {
        "id": "jAcyPwwvVmbS"
      },
      "execution_count": null,
      "outputs": []
    },
    {
      "cell_type": "code",
      "source": [
        "import matplotlib as plt"
      ],
      "metadata": {
        "id": "mQTJbfXIcD9G"
      },
      "execution_count": null,
      "outputs": []
    },
    {
      "cell_type": "code",
      "source": [
        "plot_confusion_matrix(arvore, frases_transformadas_teste,senti_teste, cmap=plt.cm.Reds,normalize='true')"
      ],
      "metadata": {
        "id": "xoN2n3g8b6sP"
      },
      "execution_count": null,
      "outputs": []
    },
    {
      "cell_type": "markdown",
      "source": [
        "### Testando com frases aleatórias criadas por vocês, que não estavam na base"
      ],
      "metadata": {
        "id": "IJK5ZBTmqanC"
      }
    },
    {
      "cell_type": "code",
      "source": [
        "#frase_nova = ['Fiquei muito feliz em saber deste novo curso oferecido na Etec']\n",
        "#frase_nova = ['Eu me sinto péssimo quando você não vem']\n",
        "frase_nova = ['Eu adorei este presente']\n",
        "#frase_nova = ['Socorro estou sendo assaltado']\n",
        "#frase_nova =['estou sentindo arrepios de medo acho que vi um fantasma']\n",
        "#frase_nova = ['Nossa estou muito feliz porque acabei de chegar em casa e vou jogar video game']\n",
        "# convertendo a frase em números\n",
        "frase_nova_convertida = vectorizer.transform(frase_nova)\n",
        "y_pred_arvore_unica = arvore.predict(frase_nova_convertida) # aqui eu coloco para o modelo advinhar a nova frase\n",
        "y_pred_arvore_unica"
      ],
      "metadata": {
        "id": "bzquvrM4h9uV"
      },
      "execution_count": null,
      "outputs": []
    },
    {
      "cell_type": "code",
      "source": [
        "percentual_acerto = arvore.predict_proba(frase_nova_convertida)\n",
        "percentual_acerto"
      ],
      "metadata": {
        "id": "nBZHLAo3jtgN"
      },
      "execution_count": null,
      "outputs": []
    },
    {
      "cell_type": "markdown",
      "source": [
        "## Modelo GradientBoostingClassifier"
      ],
      "metadata": {
        "id": "dnSy6ZKTV5Xy"
      }
    },
    {
      "cell_type": "code",
      "source": [
        "xgb = GradientBoostingClassifier(n_estimators=3000,min_samples_leaf = 4, learning_rate=0.1, verbose=True) #Aqui configuramos o estimador\n",
        "xgb.fit(frases_transformadas_treino,senti_treino) #Iniciamos o treinamento\n",
        "y_pred_xgb = arvore.predict(frases_transformadas_teste) # aqui eu não mostro o sentimento porque ele vai ter que advinhar\n",
        "score_xgb = arvore.score(frases_transformadas_teste, senti_teste) #ver o percentual de acerto\n",
        "print(score_xgb)\n",
        "confusion_matrix(senti_teste,y_pred_xgb)"
      ],
      "metadata": {
        "id": "HNpDrhdsVwtZ"
      },
      "execution_count": null,
      "outputs": []
    },
    {
      "cell_type": "code",
      "source": [
        "report=classification_report(y_true=senti_teste,y_pred=y_pred_xgb)\n",
        "print(report) #Mostra as métricas de resultado do modelo"
      ],
      "metadata": {
        "id": "12nQyXDVc9yT"
      },
      "execution_count": null,
      "outputs": []
    },
    {
      "cell_type": "code",
      "source": [
        "plot_confusion_matrix(xgb, frases_transformadas_teste,senti_teste, cmap=plt.cm.Reds,normalize='true')"
      ],
      "metadata": {
        "id": "StOdhIxxcRmV"
      },
      "execution_count": null,
      "outputs": []
    },
    {
      "cell_type": "markdown",
      "source": [
        "### Testando com frases aleatórias criadas por vocês, que não estavam na base"
      ],
      "metadata": {
        "id": "r5GblHJlrPTU"
      }
    },
    {
      "cell_type": "code",
      "source": [
        "#frase_nova = ['Fiquei muito feliz em saber deste novo curso oferecido na Etec']\n",
        "#frase_nova = ['Socorro estou sendo assaltado']\n",
        "#frase_nova =['estou sentindo arrepios de medo acho que vi um fantasma']\n",
        "#frase_nova = ['Nossa estou muito feliz porque acabei de chegar em casa e vou jogar video game']\n",
        "frase_nova = ['Eu me sinto péssimo quando você não vem']\n",
        "# convertendo a frase em números\n",
        "frase_nova_convertida = vectorizer.transform(frase_nova)\n",
        "y_pred_xgb_unica = xgb.predict(frase_nova_convertida) # aqui eu coloco para o modelo advinhar a nova frase\n",
        "y_pred_xgb_unica"
      ],
      "metadata": {
        "id": "Fut2Cat7rPTb"
      },
      "execution_count": null,
      "outputs": []
    },
    {
      "cell_type": "code",
      "source": [
        "percentual_acerto = arvore.predict_proba(frase_nova_convertida)\n",
        "percentual_acerto"
      ],
      "metadata": {
        "id": "gWXeYnhGrPTc"
      },
      "execution_count": null,
      "outputs": []
    },
    {
      "cell_type": "markdown",
      "source": [
        "## SGDC"
      ],
      "metadata": {
        "id": "dT54WiqqcbXV"
      }
    },
    {
      "cell_type": "code",
      "source": [
        "from sklearn.linear_model import SGDClassifier\n",
        "from sklearn.calibration import CalibratedClassifierCV"
      ],
      "metadata": {
        "id": "NERqCXpkckQ8"
      },
      "execution_count": null,
      "outputs": []
    },
    {
      "cell_type": "code",
      "source": [
        "sgdc = SGDClassifier(max_iter=3000, tol=1e-3, n_iter_no_change = 20, eta0=0.4, learning_rate = 'adaptive')\n",
        "sgdc.fit(frases_transformadas_treino,senti_treino) #treinamento\n",
        "calibrator = CalibratedClassifierCV(sgdc, cv='prefit') #Calibração para prever o percentual futuramente\n",
        "model_sgdc = calibrator.fit(frases_transformadas_treino,senti_treino) #treinamento com a calibração\n",
        "y_pred_sgd = model_sgdc.predict(frases_transformadas_teste) # previsões com a nova base\n",
        "score_sgd = model_sgdc.score(frases_transformadas_teste, senti_teste) #percentual de acerto do modelo com a base de teste\n",
        "print(score_sgd)\n",
        "confusion_matrix(senti_teste,y_pred_sgd) #Gera a matriz de confusão"
      ],
      "metadata": {
        "id": "uzdAfdDsclLM"
      },
      "execution_count": null,
      "outputs": []
    },
    {
      "cell_type": "code",
      "source": [
        "report=classification_report(y_true=senti_teste,y_pred=y_pred_sgd)\n",
        "print(report) #Mostra as métricas de resultado do modelo"
      ],
      "metadata": {
        "id": "Fqd5yQ25c5zr"
      },
      "execution_count": null,
      "outputs": []
    },
    {
      "cell_type": "code",
      "source": [
        "plot_confusion_matrix(model_sgdc, frases_transformadas_teste,senti_teste, cmap=plt.cm.Reds,normalize='true')"
      ],
      "metadata": {
        "id": "fI2urYftdNKw"
      },
      "execution_count": null,
      "outputs": []
    },
    {
      "cell_type": "markdown",
      "source": [
        "### Testando com frases aleatórias criadas por vocês, que não estavam na base"
      ],
      "metadata": {
        "id": "uq6Ps-NLsbMe"
      }
    },
    {
      "cell_type": "code",
      "source": [
        "#frase_nova = ['Fiquei muito feliz em saber deste novo curso oferecido na Etec']\n",
        "frase_nova = ['Socorro estou sendo assaltado']\n",
        "#frase_nova =['estou sentindo arrepios de medo acho que vi um fantasma']\n",
        "#frase_nova = ['Nossa estou muito feliz porque acabei de chegar em casa e vou jogar video game']\n",
        "# convertendo a frase em números\n",
        "frase_nova_convertida = vectorizer.transform(frase_nova)\n",
        "y_pred_sgdc_unica = model_sgdc.predict(frase_nova_convertida) # aqui eu coloco para o modelo advinhar a nova frase\n",
        "y_pred_sgdc_unica"
      ],
      "metadata": {
        "id": "78tW5b7ZsbMe"
      },
      "execution_count": null,
      "outputs": []
    },
    {
      "cell_type": "code",
      "source": [
        "percentual_acerto = model_sgdc.predict_proba(frase_nova_convertida)\n",
        "percentual_acerto"
      ],
      "metadata": {
        "id": "9r4Zk21PsbMf"
      },
      "execution_count": null,
      "outputs": []
    }
  ]
}